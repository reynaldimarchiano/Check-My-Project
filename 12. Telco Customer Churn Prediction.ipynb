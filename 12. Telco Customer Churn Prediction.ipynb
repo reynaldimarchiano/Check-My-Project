{
 "cells": [
  {
   "cell_type": "markdown",
   "metadata": {},
   "source": [
    "# **Telco Customer Churn Prediction**\n",
    "\n",
    "URL : https://telcochurn-prediction-frontend.herokuapp.com/\n",
    "\n",
    "Pada kesempatan kali akan dilakukan pemodelan untuk prediksi Churn di Telco. Data yang didapat berisi tentang profil Customer yang menggunakan jasa Telco. Profil tersebut mencakup gender, partnership, jenis kabel yang digunakan, paket-paket apa saja yang digunakan, jenis kontrak yang diambil, dan lain-lain. Berikut adalah keterangan pada data ini :\n",
    "\n",
    "- customerID    : Unique ID of each customer<br>\n",
    "- gender        : Whether the customer is a male or a female<br>\n",
    "- SeniorCitizen : Whether the customer is a senior citizen or not (1, 0)<br>\n",
    "- Partner       : Whether the customer has a partner or not (Yes, No)<br>\n",
    "- Dependents    : Whether the customer has dependents or not (Yes, No)<br>\n",
    "- tenure        : Number of months the customer has stayed with the company<br>\n",
    "- PhoneService  : Whether the customer has a phone service or not (Yes, No)<br>\n",
    "- MultipleLines : Whether the customer has multiple lines or not (Yes, No, No phone service)<br>\n",
    "- InternetService: Customer’s internet service provider (DSL, Fiber optic, No)<br>\n",
    "- OnlineSecurity: Whether the customer has online security or not (Yes, No, No internet service)<br>\n",
    "- OnlineBackup  : Whether the customer has online backup or not (Yes, No, No internet service)<br>\n",
    "- DeviceProtection: Whether the customer has device protection or not (Yes, No, No internet service)<br>\n",
    "- TechSupport   : Whether the customer has tech support or not (Yes, No, No internet service)<br>\n",
    "- StreamingTV   : Whether the customer has streaming TV or not (Yes, No, No internet service)<br>\n",
    "- StreamingMovies: Whether the customer has streaming movies or not (Yes, No, No internet service)<br>\n",
    "- Contract      : The contract term of the customer (Month-to-month, One year, Two year)<br>\n",
    "- PaperlessBilling: Whether the customer has paperless billing or not (Yes, No)<br>\n",
    "- PaymentMethod : The customer’s payment method (Electronic check, Mailed check, Bank transfer (automatic), Credit card (automatic))<br>\n",
    "- MonthlyCharge : The amount charged to the customer monthly<br>\n",
    "- TotalCharges  : The total amount charged to the customer<br>\n",
    "-------"
   ]
  },
  {
   "cell_type": "markdown",
   "metadata": {},
   "source": [
    "## **IMPORT PUSTAKA**"
   ]
  },
  {
   "cell_type": "code",
   "execution_count": 1,
   "metadata": {},
   "outputs": [],
   "source": [
    "import pandas as pd\n",
    "import seaborn as sns\n",
    "import numpy as np\n",
    "from sklearn.model_selection import train_test_split\n",
    "import tensorflow as tf\n",
    "from tensorflow import keras\n",
    "import matplotlib.pyplot as plt\n",
    "from tensorflow.keras.utils import plot_model\n",
    "import tensorflow as tf\n",
    "from sklearn.pipeline import Pipeline\n",
    "from sklearn.preprocessing import StandardScaler\n",
    "from sklearn.impute import SimpleImputer\n",
    "from sklearn.compose import ColumnTransformer\n",
    "from sklearn.preprocessing import OneHotEncoder\n",
    "from sklearn.metrics import classification_report,confusion_matrix,ConfusionMatrixDisplay\n",
    "from scipy import stats\n",
    "from imblearn.over_sampling import SMOTE\n",
    "import pickle"
   ]
  },
  {
   "cell_type": "markdown",
   "metadata": {},
   "source": [
    "Import pustaka yang akan digunakan pada analisa dataset ini"
   ]
  },
  {
   "cell_type": "code",
   "execution_count": 2,
   "metadata": {},
   "outputs": [
    {
     "data": {
      "text/html": [
       "<div>\n",
       "<style scoped>\n",
       "    .dataframe tbody tr th:only-of-type {\n",
       "        vertical-align: middle;\n",
       "    }\n",
       "\n",
       "    .dataframe tbody tr th {\n",
       "        vertical-align: top;\n",
       "    }\n",
       "\n",
       "    .dataframe thead th {\n",
       "        text-align: right;\n",
       "    }\n",
       "</style>\n",
       "<table border=\"1\" class=\"dataframe\">\n",
       "  <thead>\n",
       "    <tr style=\"text-align: right;\">\n",
       "      <th></th>\n",
       "      <th>customerID</th>\n",
       "      <th>gender</th>\n",
       "      <th>SeniorCitizen</th>\n",
       "      <th>Partner</th>\n",
       "      <th>Dependents</th>\n",
       "      <th>tenure</th>\n",
       "      <th>PhoneService</th>\n",
       "      <th>MultipleLines</th>\n",
       "      <th>InternetService</th>\n",
       "      <th>OnlineSecurity</th>\n",
       "      <th>...</th>\n",
       "      <th>DeviceProtection</th>\n",
       "      <th>TechSupport</th>\n",
       "      <th>StreamingTV</th>\n",
       "      <th>StreamingMovies</th>\n",
       "      <th>Contract</th>\n",
       "      <th>PaperlessBilling</th>\n",
       "      <th>PaymentMethod</th>\n",
       "      <th>MonthlyCharges</th>\n",
       "      <th>TotalCharges</th>\n",
       "      <th>Churn</th>\n",
       "    </tr>\n",
       "  </thead>\n",
       "  <tbody>\n",
       "    <tr>\n",
       "      <th>0</th>\n",
       "      <td>7590-VHVEG</td>\n",
       "      <td>Female</td>\n",
       "      <td>0</td>\n",
       "      <td>Yes</td>\n",
       "      <td>No</td>\n",
       "      <td>1</td>\n",
       "      <td>No</td>\n",
       "      <td>No phone service</td>\n",
       "      <td>DSL</td>\n",
       "      <td>No</td>\n",
       "      <td>...</td>\n",
       "      <td>No</td>\n",
       "      <td>No</td>\n",
       "      <td>No</td>\n",
       "      <td>No</td>\n",
       "      <td>Month-to-month</td>\n",
       "      <td>Yes</td>\n",
       "      <td>Electronic check</td>\n",
       "      <td>29.85</td>\n",
       "      <td>29.85</td>\n",
       "      <td>No</td>\n",
       "    </tr>\n",
       "    <tr>\n",
       "      <th>1</th>\n",
       "      <td>5575-GNVDE</td>\n",
       "      <td>Male</td>\n",
       "      <td>0</td>\n",
       "      <td>No</td>\n",
       "      <td>No</td>\n",
       "      <td>34</td>\n",
       "      <td>Yes</td>\n",
       "      <td>No</td>\n",
       "      <td>DSL</td>\n",
       "      <td>Yes</td>\n",
       "      <td>...</td>\n",
       "      <td>Yes</td>\n",
       "      <td>No</td>\n",
       "      <td>No</td>\n",
       "      <td>No</td>\n",
       "      <td>One year</td>\n",
       "      <td>No</td>\n",
       "      <td>Mailed check</td>\n",
       "      <td>56.95</td>\n",
       "      <td>1889.5</td>\n",
       "      <td>No</td>\n",
       "    </tr>\n",
       "    <tr>\n",
       "      <th>2</th>\n",
       "      <td>3668-QPYBK</td>\n",
       "      <td>Male</td>\n",
       "      <td>0</td>\n",
       "      <td>No</td>\n",
       "      <td>No</td>\n",
       "      <td>2</td>\n",
       "      <td>Yes</td>\n",
       "      <td>No</td>\n",
       "      <td>DSL</td>\n",
       "      <td>Yes</td>\n",
       "      <td>...</td>\n",
       "      <td>No</td>\n",
       "      <td>No</td>\n",
       "      <td>No</td>\n",
       "      <td>No</td>\n",
       "      <td>Month-to-month</td>\n",
       "      <td>Yes</td>\n",
       "      <td>Mailed check</td>\n",
       "      <td>53.85</td>\n",
       "      <td>108.15</td>\n",
       "      <td>Yes</td>\n",
       "    </tr>\n",
       "    <tr>\n",
       "      <th>3</th>\n",
       "      <td>7795-CFOCW</td>\n",
       "      <td>Male</td>\n",
       "      <td>0</td>\n",
       "      <td>No</td>\n",
       "      <td>No</td>\n",
       "      <td>45</td>\n",
       "      <td>No</td>\n",
       "      <td>No phone service</td>\n",
       "      <td>DSL</td>\n",
       "      <td>Yes</td>\n",
       "      <td>...</td>\n",
       "      <td>Yes</td>\n",
       "      <td>Yes</td>\n",
       "      <td>No</td>\n",
       "      <td>No</td>\n",
       "      <td>One year</td>\n",
       "      <td>No</td>\n",
       "      <td>Bank transfer (automatic)</td>\n",
       "      <td>42.30</td>\n",
       "      <td>1840.75</td>\n",
       "      <td>No</td>\n",
       "    </tr>\n",
       "    <tr>\n",
       "      <th>4</th>\n",
       "      <td>9237-HQITU</td>\n",
       "      <td>Female</td>\n",
       "      <td>0</td>\n",
       "      <td>No</td>\n",
       "      <td>No</td>\n",
       "      <td>2</td>\n",
       "      <td>Yes</td>\n",
       "      <td>No</td>\n",
       "      <td>Fiber optic</td>\n",
       "      <td>No</td>\n",
       "      <td>...</td>\n",
       "      <td>No</td>\n",
       "      <td>No</td>\n",
       "      <td>No</td>\n",
       "      <td>No</td>\n",
       "      <td>Month-to-month</td>\n",
       "      <td>Yes</td>\n",
       "      <td>Electronic check</td>\n",
       "      <td>70.70</td>\n",
       "      <td>151.65</td>\n",
       "      <td>Yes</td>\n",
       "    </tr>\n",
       "  </tbody>\n",
       "</table>\n",
       "<p>5 rows × 21 columns</p>\n",
       "</div>"
      ],
      "text/plain": [
       "   customerID  gender  SeniorCitizen Partner Dependents  tenure PhoneService  \\\n",
       "0  7590-VHVEG  Female              0     Yes         No       1           No   \n",
       "1  5575-GNVDE    Male              0      No         No      34          Yes   \n",
       "2  3668-QPYBK    Male              0      No         No       2          Yes   \n",
       "3  7795-CFOCW    Male              0      No         No      45           No   \n",
       "4  9237-HQITU  Female              0      No         No       2          Yes   \n",
       "\n",
       "      MultipleLines InternetService OnlineSecurity  ... DeviceProtection  \\\n",
       "0  No phone service             DSL             No  ...               No   \n",
       "1                No             DSL            Yes  ...              Yes   \n",
       "2                No             DSL            Yes  ...               No   \n",
       "3  No phone service             DSL            Yes  ...              Yes   \n",
       "4                No     Fiber optic             No  ...               No   \n",
       "\n",
       "  TechSupport StreamingTV StreamingMovies        Contract PaperlessBilling  \\\n",
       "0          No          No              No  Month-to-month              Yes   \n",
       "1          No          No              No        One year               No   \n",
       "2          No          No              No  Month-to-month              Yes   \n",
       "3         Yes          No              No        One year               No   \n",
       "4          No          No              No  Month-to-month              Yes   \n",
       "\n",
       "               PaymentMethod MonthlyCharges  TotalCharges Churn  \n",
       "0           Electronic check          29.85         29.85    No  \n",
       "1               Mailed check          56.95        1889.5    No  \n",
       "2               Mailed check          53.85        108.15   Yes  \n",
       "3  Bank transfer (automatic)          42.30       1840.75    No  \n",
       "4           Electronic check          70.70        151.65   Yes  \n",
       "\n",
       "[5 rows x 21 columns]"
      ]
     },
     "execution_count": 2,
     "metadata": {},
     "output_type": "execute_result"
    }
   ],
   "source": [
    "data = pd.read_csv('WA_Fn-UseC_-Telco-Customer-Churn.csv')\n",
    "df = data.copy()\n",
    "df.head()"
   ]
  },
  {
   "cell_type": "markdown",
   "metadata": {},
   "source": [
    "Load data dan menyimpan ke dalam variabel df"
   ]
  },
  {
   "cell_type": "code",
   "execution_count": 3,
   "metadata": {},
   "outputs": [
    {
     "data": {
      "text/html": [
       "<div>\n",
       "<style scoped>\n",
       "    .dataframe tbody tr th:only-of-type {\n",
       "        vertical-align: middle;\n",
       "    }\n",
       "\n",
       "    .dataframe tbody tr th {\n",
       "        vertical-align: top;\n",
       "    }\n",
       "\n",
       "    .dataframe thead th {\n",
       "        text-align: right;\n",
       "    }\n",
       "</style>\n",
       "<table border=\"1\" class=\"dataframe\">\n",
       "  <thead>\n",
       "    <tr style=\"text-align: right;\">\n",
       "      <th></th>\n",
       "      <th>customerID</th>\n",
       "      <th>gender</th>\n",
       "      <th>SeniorCitizen</th>\n",
       "      <th>Partner</th>\n",
       "      <th>Dependents</th>\n",
       "      <th>tenure</th>\n",
       "      <th>PhoneService</th>\n",
       "      <th>MultipleLines</th>\n",
       "      <th>InternetService</th>\n",
       "      <th>OnlineSecurity</th>\n",
       "      <th>...</th>\n",
       "      <th>DeviceProtection</th>\n",
       "      <th>TechSupport</th>\n",
       "      <th>StreamingTV</th>\n",
       "      <th>StreamingMovies</th>\n",
       "      <th>Contract</th>\n",
       "      <th>PaperlessBilling</th>\n",
       "      <th>PaymentMethod</th>\n",
       "      <th>MonthlyCharges</th>\n",
       "      <th>TotalCharges</th>\n",
       "      <th>Churn</th>\n",
       "    </tr>\n",
       "  </thead>\n",
       "  <tbody>\n",
       "    <tr>\n",
       "      <th>7038</th>\n",
       "      <td>6840-RESVB</td>\n",
       "      <td>Male</td>\n",
       "      <td>0</td>\n",
       "      <td>Yes</td>\n",
       "      <td>Yes</td>\n",
       "      <td>24</td>\n",
       "      <td>Yes</td>\n",
       "      <td>Yes</td>\n",
       "      <td>DSL</td>\n",
       "      <td>Yes</td>\n",
       "      <td>...</td>\n",
       "      <td>Yes</td>\n",
       "      <td>Yes</td>\n",
       "      <td>Yes</td>\n",
       "      <td>Yes</td>\n",
       "      <td>One year</td>\n",
       "      <td>Yes</td>\n",
       "      <td>Mailed check</td>\n",
       "      <td>84.80</td>\n",
       "      <td>1990.5</td>\n",
       "      <td>No</td>\n",
       "    </tr>\n",
       "    <tr>\n",
       "      <th>7039</th>\n",
       "      <td>2234-XADUH</td>\n",
       "      <td>Female</td>\n",
       "      <td>0</td>\n",
       "      <td>Yes</td>\n",
       "      <td>Yes</td>\n",
       "      <td>72</td>\n",
       "      <td>Yes</td>\n",
       "      <td>Yes</td>\n",
       "      <td>Fiber optic</td>\n",
       "      <td>No</td>\n",
       "      <td>...</td>\n",
       "      <td>Yes</td>\n",
       "      <td>No</td>\n",
       "      <td>Yes</td>\n",
       "      <td>Yes</td>\n",
       "      <td>One year</td>\n",
       "      <td>Yes</td>\n",
       "      <td>Credit card (automatic)</td>\n",
       "      <td>103.20</td>\n",
       "      <td>7362.9</td>\n",
       "      <td>No</td>\n",
       "    </tr>\n",
       "    <tr>\n",
       "      <th>7040</th>\n",
       "      <td>4801-JZAZL</td>\n",
       "      <td>Female</td>\n",
       "      <td>0</td>\n",
       "      <td>Yes</td>\n",
       "      <td>Yes</td>\n",
       "      <td>11</td>\n",
       "      <td>No</td>\n",
       "      <td>No phone service</td>\n",
       "      <td>DSL</td>\n",
       "      <td>Yes</td>\n",
       "      <td>...</td>\n",
       "      <td>No</td>\n",
       "      <td>No</td>\n",
       "      <td>No</td>\n",
       "      <td>No</td>\n",
       "      <td>Month-to-month</td>\n",
       "      <td>Yes</td>\n",
       "      <td>Electronic check</td>\n",
       "      <td>29.60</td>\n",
       "      <td>346.45</td>\n",
       "      <td>No</td>\n",
       "    </tr>\n",
       "    <tr>\n",
       "      <th>7041</th>\n",
       "      <td>8361-LTMKD</td>\n",
       "      <td>Male</td>\n",
       "      <td>1</td>\n",
       "      <td>Yes</td>\n",
       "      <td>No</td>\n",
       "      <td>4</td>\n",
       "      <td>Yes</td>\n",
       "      <td>Yes</td>\n",
       "      <td>Fiber optic</td>\n",
       "      <td>No</td>\n",
       "      <td>...</td>\n",
       "      <td>No</td>\n",
       "      <td>No</td>\n",
       "      <td>No</td>\n",
       "      <td>No</td>\n",
       "      <td>Month-to-month</td>\n",
       "      <td>Yes</td>\n",
       "      <td>Mailed check</td>\n",
       "      <td>74.40</td>\n",
       "      <td>306.6</td>\n",
       "      <td>Yes</td>\n",
       "    </tr>\n",
       "    <tr>\n",
       "      <th>7042</th>\n",
       "      <td>3186-AJIEK</td>\n",
       "      <td>Male</td>\n",
       "      <td>0</td>\n",
       "      <td>No</td>\n",
       "      <td>No</td>\n",
       "      <td>66</td>\n",
       "      <td>Yes</td>\n",
       "      <td>No</td>\n",
       "      <td>Fiber optic</td>\n",
       "      <td>Yes</td>\n",
       "      <td>...</td>\n",
       "      <td>Yes</td>\n",
       "      <td>Yes</td>\n",
       "      <td>Yes</td>\n",
       "      <td>Yes</td>\n",
       "      <td>Two year</td>\n",
       "      <td>Yes</td>\n",
       "      <td>Bank transfer (automatic)</td>\n",
       "      <td>105.65</td>\n",
       "      <td>6844.5</td>\n",
       "      <td>No</td>\n",
       "    </tr>\n",
       "  </tbody>\n",
       "</table>\n",
       "<p>5 rows × 21 columns</p>\n",
       "</div>"
      ],
      "text/plain": [
       "      customerID  gender  SeniorCitizen Partner Dependents  tenure  \\\n",
       "7038  6840-RESVB    Male              0     Yes        Yes      24   \n",
       "7039  2234-XADUH  Female              0     Yes        Yes      72   \n",
       "7040  4801-JZAZL  Female              0     Yes        Yes      11   \n",
       "7041  8361-LTMKD    Male              1     Yes         No       4   \n",
       "7042  3186-AJIEK    Male              0      No         No      66   \n",
       "\n",
       "     PhoneService     MultipleLines InternetService OnlineSecurity  ...  \\\n",
       "7038          Yes               Yes             DSL            Yes  ...   \n",
       "7039          Yes               Yes     Fiber optic             No  ...   \n",
       "7040           No  No phone service             DSL            Yes  ...   \n",
       "7041          Yes               Yes     Fiber optic             No  ...   \n",
       "7042          Yes                No     Fiber optic            Yes  ...   \n",
       "\n",
       "     DeviceProtection TechSupport StreamingTV StreamingMovies        Contract  \\\n",
       "7038              Yes         Yes         Yes             Yes        One year   \n",
       "7039              Yes          No         Yes             Yes        One year   \n",
       "7040               No          No          No              No  Month-to-month   \n",
       "7041               No          No          No              No  Month-to-month   \n",
       "7042              Yes         Yes         Yes             Yes        Two year   \n",
       "\n",
       "     PaperlessBilling              PaymentMethod MonthlyCharges  TotalCharges  \\\n",
       "7038              Yes               Mailed check          84.80        1990.5   \n",
       "7039              Yes    Credit card (automatic)         103.20        7362.9   \n",
       "7040              Yes           Electronic check          29.60        346.45   \n",
       "7041              Yes               Mailed check          74.40         306.6   \n",
       "7042              Yes  Bank transfer (automatic)         105.65        6844.5   \n",
       "\n",
       "     Churn  \n",
       "7038    No  \n",
       "7039    No  \n",
       "7040    No  \n",
       "7041   Yes  \n",
       "7042    No  \n",
       "\n",
       "[5 rows x 21 columns]"
      ]
     },
     "execution_count": 3,
     "metadata": {},
     "output_type": "execute_result"
    }
   ],
   "source": [
    "df.tail()"
   ]
  },
  {
   "cell_type": "markdown",
   "metadata": {},
   "source": [
    "----\n",
    "## **EDA**"
   ]
  },
  {
   "cell_type": "code",
   "execution_count": 4,
   "metadata": {},
   "outputs": [
    {
     "name": "stdout",
     "output_type": "stream",
     "text": [
      "<class 'pandas.core.frame.DataFrame'>\n",
      "RangeIndex: 7043 entries, 0 to 7042\n",
      "Data columns (total 21 columns):\n",
      " #   Column            Non-Null Count  Dtype  \n",
      "---  ------            --------------  -----  \n",
      " 0   customerID        7043 non-null   object \n",
      " 1   gender            7043 non-null   object \n",
      " 2   SeniorCitizen     7043 non-null   int64  \n",
      " 3   Partner           7043 non-null   object \n",
      " 4   Dependents        7043 non-null   object \n",
      " 5   tenure            7043 non-null   int64  \n",
      " 6   PhoneService      7043 non-null   object \n",
      " 7   MultipleLines     7043 non-null   object \n",
      " 8   InternetService   7043 non-null   object \n",
      " 9   OnlineSecurity    7043 non-null   object \n",
      " 10  OnlineBackup      7043 non-null   object \n",
      " 11  DeviceProtection  7043 non-null   object \n",
      " 12  TechSupport       7043 non-null   object \n",
      " 13  StreamingTV       7043 non-null   object \n",
      " 14  StreamingMovies   7043 non-null   object \n",
      " 15  Contract          7043 non-null   object \n",
      " 16  PaperlessBilling  7043 non-null   object \n",
      " 17  PaymentMethod     7043 non-null   object \n",
      " 18  MonthlyCharges    7043 non-null   float64\n",
      " 19  TotalCharges      7043 non-null   object \n",
      " 20  Churn             7043 non-null   object \n",
      "dtypes: float64(1), int64(2), object(18)\n",
      "memory usage: 1.1+ MB\n"
     ]
    }
   ],
   "source": [
    "df.info()"
   ]
  },
  {
   "cell_type": "markdown",
   "metadata": {},
   "source": [
    "Memeriksa tipe data dari masing-masing kolom dan sekilas melihat apakah ada missing values. Bisa dilihat kalau kolom TotalCharges bertipe object padahal datanya angka float semua. Untuk SeniorCitizen akan diproses menjadi object lalu diubah valuenya menjadi Yes dan No pada Data Preprocessing"
   ]
  },
  {
   "cell_type": "code",
   "execution_count": 83,
   "metadata": {},
   "outputs": [
    {
     "name": "stdout",
     "output_type": "stream",
     "text": [
      "column : SeniorCitizen Unique values : ['No' 'Yes']\n",
      "column : Partner Unique values : ['Yes' 'No']\n",
      "column : Dependents Unique values : ['No' 'Yes']\n",
      "column : PhoneService Unique values : ['No' 'Yes']\n",
      "column : MultipleLines Unique values : ['No' 'Yes']\n",
      "column : InternetService Unique values : ['DSL' 'Fiber optic' 'No']\n",
      "column : OnlineSecurity Unique values : ['No' 'Yes']\n",
      "column : OnlineBackup Unique values : ['Yes' 'No']\n",
      "column : DeviceProtection Unique values : ['No' 'Yes']\n",
      "column : TechSupport Unique values : ['No' 'Yes']\n",
      "column : StreamingTV Unique values : ['No' 'Yes']\n",
      "column : StreamingMovies Unique values : ['No' 'Yes']\n",
      "column : Contract Unique values : ['Month-to-month' 'One year' 'Two year']\n",
      "column : PaperlessBilling Unique values : ['Yes' 'No']\n",
      "column : PaymentMethod Unique values : ['Electronic check' 'Mailed check' 'Bank transfer (automatic)'\n",
      " 'Credit card (automatic)']\n"
     ]
    }
   ],
   "source": [
    "for col in df.columns:\n",
    "    if(df[col].dtypes == 'object'): \n",
    "            print('column :', col, 'Unique values :', df[col].unique())"
   ]
  },
  {
   "cell_type": "markdown",
   "metadata": {},
   "source": [
    "Melihat unique values setiap kolom."
   ]
  },
  {
   "cell_type": "code",
   "execution_count": 6,
   "metadata": {},
   "outputs": [],
   "source": [
    "df['TotalCharges'] = pd.to_numeric(df['TotalCharges'], errors='coerce')"
   ]
  },
  {
   "cell_type": "markdown",
   "metadata": {},
   "source": [
    "Proses mengubah type data dari TotalCharges menjadi Float"
   ]
  },
  {
   "cell_type": "code",
   "execution_count": 7,
   "metadata": {},
   "outputs": [],
   "source": [
    "df.loc[df['MultipleLines']== 'No phone service', 'MultipleLines'] = 'No'"
   ]
  },
  {
   "cell_type": "markdown",
   "metadata": {},
   "source": [
    "Setelah melihat isian dari dataset, untuk value yang berisi \"No phone service\" pada intinya adalah No. Maka diubah valuenya menjadi No untuk menghindari adanya keanehan karena encoding."
   ]
  },
  {
   "cell_type": "code",
   "execution_count": 8,
   "metadata": {},
   "outputs": [],
   "source": [
    "df.replace('No internet service', 'No', inplace=True)"
   ]
  },
  {
   "cell_type": "markdown",
   "metadata": {},
   "source": [
    "Seperti catatan hal sebelumnya, akan dilakukan hal yang sama pada isian \"No internet service\"."
   ]
  },
  {
   "cell_type": "code",
   "execution_count": 9,
   "metadata": {},
   "outputs": [],
   "source": [
    "df['SeniorCitizen'].replace({1: 'Yes', 0: 'No'},inplace=True)"
   ]
  },
  {
   "cell_type": "markdown",
   "metadata": {},
   "source": [
    "Proses mengubah value SeniorCitizen menjadi Yes dan No"
   ]
  },
  {
   "cell_type": "code",
   "execution_count": 10,
   "metadata": {},
   "outputs": [],
   "source": [
    "df['Churn'].replace({'Yes': 1,'No': 0},inplace=True)"
   ]
  },
  {
   "cell_type": "markdown",
   "metadata": {},
   "source": [
    "Churn yang akan menjadi target akan diubah menjadi binary 1 0 (1=Yes, 0=No).\n",
    "\n",
    "----"
   ]
  },
  {
   "cell_type": "markdown",
   "metadata": {},
   "source": [
    "### **1. Berapa jumlah data berdasarkan gender dan churn ?**"
   ]
  },
  {
   "cell_type": "code",
   "execution_count": 11,
   "metadata": {},
   "outputs": [
    {
     "data": {
      "image/png": "[encoded data removed]",
      "text/plain": [
       "<Figure size 432x288 with 1 Axes>"
      ]
     },
     "metadata": {
      "needs_background": "light"
     },
     "output_type": "display_data"
    }
   ],
   "source": [
    "a1 = sns.countplot(x='gender', data=df, hue='Churn')\n",
    "for container in a1.containers:\n",
    "    a1.bar_label(container)"
   ]
  },
  {
   "cell_type": "markdown",
   "metadata": {},
   "source": [
    "> Pada dataset ini jumlah customer pria maupun wanita hampir sama dengan jumlah pria sedikit lebih banyak. Untuk churn juga jumlahnya sama pada pria maupun wanita\n",
    "\n",
    "----"
   ]
  },
  {
   "cell_type": "markdown",
   "metadata": {},
   "source": [
    "### **2. Bagaimana gambaran awal data Monthly Charges dan TotalCharges ?**"
   ]
  },
  {
   "cell_type": "code",
   "execution_count": 12,
   "metadata": {},
   "outputs": [
    {
     "data": {
      "text/plain": [
       "<AxesSubplot:xlabel='TotalCharges'>"
      ]
     },
     "execution_count": 12,
     "metadata": {},
     "output_type": "execute_result"
    },
    {
     "data": {
      "image/png": "[encoded data removed]",
      "text/plain": [
       "<Figure size 720x360 with 2 Axes>"
      ]
     },
     "metadata": {
      "needs_background": "light"
     },
     "output_type": "display_data"
    }
   ],
   "source": [
    "fig = plt.figure(figsize=(10,5))\n",
    "row = 1\n",
    "col = 2\n",
    "\n",
    "# figure, axis = plt.subplots(2,2)\n",
    "fig.add_subplot(row, col, 1)\n",
    "sns.boxplot(x=df['MonthlyCharges'])\n",
    "\n",
    "fig.add_subplot(row, col, 2)\n",
    "sns.boxplot(x=df['TotalCharges'])"
   ]
  },
  {
   "cell_type": "markdown",
   "metadata": {},
   "source": [
    "> Pada MonthlyCharges terlihat datanya hampir bisa dibilang terdistribusi normal, tidak seperti TotalCharges yang terlihat right skewed. Untuk dua kolom tersebut terlihat tidak ada outliers.\n",
    "\n",
    "---"
   ]
  },
  {
   "cell_type": "markdown",
   "metadata": {},
   "source": [
    "### **3. Bagaimana sebaran data Monthly Charges dan TotalCharges ?**"
   ]
  },
  {
   "cell_type": "code",
   "execution_count": 13,
   "metadata": {},
   "outputs": [
    {
     "data": {
      "text/plain": [
       "<AxesSubplot:xlabel='TotalCharges', ylabel='Count'>"
      ]
     },
     "execution_count": 13,
     "metadata": {},
     "output_type": "execute_result"
    },
    {
     "data": {
      "image/png": "[encoded data removed]",
      "text/plain": [
       "<Figure size 1800x720 with 2 Axes>"
      ]
     },
     "metadata": {
      "needs_background": "light"
     },
     "output_type": "display_data"
    }
   ],
   "source": [
    "fig = plt.figure(figsize=(25,10))\n",
    "row = 1\n",
    "col = 2\n",
    "\n",
    "fig.add_subplot(row, col, 1)\n",
    "sns.histplot(x=df['MonthlyCharges'])\n",
    "\n",
    "fig.add_subplot(row, col, 2)\n",
    "sns.histplot(x=df['TotalCharges'])"
   ]
  },
  {
   "cell_type": "markdown",
   "metadata": {},
   "source": [
    "> Terdapat kesamaan dari 2 kolom tersebut yaitu yang paling banyak terdapat di nilai yang terendah. Pada MonthlyCharges selain banyak yang mengambil bayaran terendah, orang-orang terlihat banyak yang memilih bulanan sebesar 70-90. Kalau untuk TotalCharges, terlihat semakin besar angkanya semakin sedikit jumlahnya entah karena banyak yang baru bergabung atau banyak yang berhenti ketika belum lama bergabung.\n",
    "\n",
    "---"
   ]
  },
  {
   "cell_type": "markdown",
   "metadata": {},
   "source": [
    "### **4. Apakah lebih banyak orang yang Churn pada dataset ini ?**"
   ]
  },
  {
   "cell_type": "code",
   "execution_count": 14,
   "metadata": {},
   "outputs": [
    {
     "data": {
      "text/plain": [
       "<AxesSubplot:xlabel='Churn', ylabel='count'>"
      ]
     },
     "execution_count": 14,
     "metadata": {},
     "output_type": "execute_result"
    },
    {
     "data": {
      "image/png": "[encoded data removed]",
      "text/plain": [
       "<Figure size 432x288 with 1 Axes>"
      ]
     },
     "metadata": {
      "needs_background": "light"
     },
     "output_type": "display_data"
    }
   ],
   "source": [
    "sns.countplot(x='Churn', data=df)"
   ]
  },
  {
   "cell_type": "markdown",
   "metadata": {},
   "source": [
    "> Pada dataset ini lebih banyak data yang tidak Churn. Dari barplot diatas terlihat datanya imbalance untuk yang yes dan no pada kolom churn ini akan mempengaruhi pemodelan pada prediksi churn.\n",
    "\n",
    "---"
   ]
  },
  {
   "cell_type": "markdown",
   "metadata": {},
   "source": [
    "### **5. Apakah status partnership dan tipe kabel yang digunakan mempengaruhi Churn ?**"
   ]
  },
  {
   "cell_type": "code",
   "execution_count": 15,
   "metadata": {},
   "outputs": [
    {
     "data": {
      "image/png": "[encoded data removed]",
      "text/plain": [
       "<Figure size 1080x360 with 2 Axes>"
      ]
     },
     "metadata": {
      "needs_background": "light"
     },
     "output_type": "display_data"
    }
   ],
   "source": [
    "fig = plt.figure(figsize=(15,5))\n",
    "row = 1\n",
    "col = 2\n",
    "\n",
    "fig.add_subplot(row, col, 1)\n",
    "ax = sns.countplot(x= 'Partner', hue='Churn', data=df)\n",
    "# ax.set_title(f'Effect of Partner on Customer Churn');\n",
    "\n",
    "fig.add_subplot(row, col, 2)\n",
    "ax2 = sns.countplot(x= 'InternetService', hue='Churn', data=df)"
   ]
  },
  {
   "cell_type": "markdown",
   "metadata": {},
   "source": [
    "> Status partnership cukup mempengaruhi churn, jumlah yang bukan partner dan churn hampir setengah dari yang tidak churn dan juga jumlahnya lebih banyak dibandingkan churn yang partner.\n",
    "\n",
    "----"
   ]
  },
  {
   "cell_type": "markdown",
   "metadata": {},
   "source": [
    "### **6. Apakah contract dan tenure berpengaruh terhadap churn?**"
   ]
  },
  {
   "cell_type": "code",
   "execution_count": 16,
   "metadata": {},
   "outputs": [
    {
     "data": {
      "image/png": "[encoded data removed]",
      "text/plain": [
       "<Figure size 1800x576 with 2 Axes>"
      ]
     },
     "metadata": {
      "needs_background": "light"
     },
     "output_type": "display_data"
    }
   ],
   "source": [
    "fig = plt.figure(figsize=(25,8))\n",
    "row = 1\n",
    "col = 2\n",
    "\n",
    "fig.add_subplot(row, col, 1)\n",
    "ax = sns.countplot(x= 'Contract', hue='Churn', data=df)\n",
    "# ax.set_title(f'Effect of Partner on Customer Churn');\n",
    "\n",
    "fig.add_subplot(row, col, 2)\n",
    "ax2 = sns.countplot(x= 'tenure', hue='Churn', data=df)"
   ]
  },
  {
   "cell_type": "markdown",
   "metadata": {},
   "source": [
    "> Status contract terlihat berpengaruh pada churn. Semakin berkomitmen panjang dengan kontraknya maka semakin jauh lebih sedikit yang churn. Pada tenure yang diambil oleh customer terlihat hampir mirip dengan contract karena semakin panjang tenurenya semakin orang-orang tidak churn. Tenure 1-2 menjadi tenure yang terbanyak churn, diasumsikan banyak customer yang baru mencoba-coba lalu tidak cocok sehingga churn."
   ]
  },
  {
   "cell_type": "code",
   "execution_count": 17,
   "metadata": {},
   "outputs": [
    {
     "data": {
      "text/plain": [
       "<AxesSubplot:>"
      ]
     },
     "execution_count": 17,
     "metadata": {},
     "output_type": "execute_result"
    },
    {
     "data": {
      "image/png": "[encoded data removed]",
      "text/plain": [
       "<Figure size 432x288 with 2 Axes>"
      ]
     },
     "metadata": {
      "needs_background": "light"
     },
     "output_type": "display_data"
    }
   ],
   "source": [
    "sns.heatmap(df.corr(), annot=True)"
   ]
  },
  {
   "cell_type": "markdown",
   "metadata": {},
   "source": [
    "Berdasarkan heatmap korelasi antar kolom numerik diatas bisa kita liat kolom-kolom lumayan berkorelasi. Tenure dan total charges adalah kolom yang paling berkorelasi."
   ]
  },
  {
   "cell_type": "markdown",
   "metadata": {},
   "source": [
    "-----\n",
    "\n",
    "## **DATA PREPROCESSING**"
   ]
  },
  {
   "cell_type": "code",
   "execution_count": 18,
   "metadata": {},
   "outputs": [],
   "source": [
    "def check_chisquare(data):\n",
    "    print('========= P-Value =========')\n",
    "    for i in data :\n",
    "        if data[i].dtypes == 'O' :\n",
    "            p = stats.chisquare(data[i].value_counts())[1]\n",
    "            print(i,':', p)\n",
    "    print('========= P-Value =========')\n",
    "    # return df_chisquare"
   ]
  },
  {
   "cell_type": "markdown",
   "metadata": {},
   "source": [
    "Membuat function check_chisquare untuk persiapan memeriksa kolom mana yang akan digunakan."
   ]
  },
  {
   "cell_type": "code",
   "execution_count": 19,
   "metadata": {},
   "outputs": [
    {
     "name": "stdout",
     "output_type": "stream",
     "text": [
      "========= P-Value =========\n",
      "customerID : 1.0\n",
      "gender : 0.42466460646752424\n",
      "SeniorCitizen : 0.0\n",
      "Partner : 0.004401390029548691\n",
      "Dependents : 4.64773973551893e-248\n",
      "PhoneService : 0.0\n",
      "MultipleLines : 2.5550477682614486e-39\n",
      "InternetService : 1.8134681394428953e-115\n",
      "OnlineSecurity : 8.652783020728319e-281\n",
      "OnlineBackup : 1.9433112356244364e-149\n",
      "DeviceProtection : 2.47430883589382e-151\n",
      "TechSupport : 1.3560010581737273e-271\n",
      "StreamingTV : 6.261069880852392e-84\n",
      "StreamingMovies : 5.695205664868071e-79\n",
      "Contract : 0.0\n",
      "PaperlessBilling : 4.8425635579139745e-54\n",
      "PaymentMethod : 3.507318752658376e-60\n",
      "========= P-Value =========\n"
     ]
    }
   ],
   "source": [
    "check_chisquare(df)"
   ]
  },
  {
   "cell_type": "markdown",
   "metadata": {},
   "source": [
    "Dengan menggunakan threshold 0.05 maka kolom customerID dan Dependents akan didrop karena lebih dari 0.05"
   ]
  },
  {
   "cell_type": "code",
   "execution_count": 20,
   "metadata": {},
   "outputs": [],
   "source": [
    "tf.random.set_seed(22)\n",
    "np.random.seed(22)"
   ]
  },
  {
   "cell_type": "markdown",
   "metadata": {},
   "source": [
    "Mengatur randomness pada data agar hasil training model tidak berubah-ubah nantinya."
   ]
  },
  {
   "cell_type": "code",
   "execution_count": 21,
   "metadata": {},
   "outputs": [],
   "source": [
    "df.drop(['customerID','gender'], axis=1, inplace=True)"
   ]
  },
  {
   "cell_type": "markdown",
   "metadata": {},
   "source": [
    "Menghapus kolom customerID dan gender karena berisi nilai yang terlalu unique yang tidak baik dalam pemodelan.\n",
    "\n",
    "---"
   ]
  },
  {
   "cell_type": "markdown",
   "metadata": {},
   "source": [
    "## *- Handling Missing Values*"
   ]
  },
  {
   "cell_type": "code",
   "execution_count": 22,
   "metadata": {},
   "outputs": [
    {
     "data": {
      "text/plain": [
       "SeniorCitizen        0\n",
       "Partner              0\n",
       "Dependents           0\n",
       "tenure               0\n",
       "PhoneService         0\n",
       "MultipleLines        0\n",
       "InternetService      0\n",
       "OnlineSecurity       0\n",
       "OnlineBackup         0\n",
       "DeviceProtection     0\n",
       "TechSupport          0\n",
       "StreamingTV          0\n",
       "StreamingMovies      0\n",
       "Contract             0\n",
       "PaperlessBilling     0\n",
       "PaymentMethod        0\n",
       "MonthlyCharges       0\n",
       "TotalCharges        11\n",
       "Churn                0\n",
       "dtype: int64"
      ]
     },
     "execution_count": 22,
     "metadata": {},
     "output_type": "execute_result"
    }
   ],
   "source": [
    "df.isnull().sum()"
   ]
  },
  {
   "cell_type": "markdown",
   "metadata": {},
   "source": [
    "Terdapat nilai null pada TotalCharges, jumlahnya hanya sedikit maka akan diputuskan untuk drop row saja untuk yang mempunyai missing values."
   ]
  },
  {
   "cell_type": "code",
   "execution_count": 23,
   "metadata": {},
   "outputs": [],
   "source": [
    "df.dropna(inplace=True)"
   ]
  },
  {
   "cell_type": "markdown",
   "metadata": {},
   "source": [
    "Proses drop row yang mempunya missing values."
   ]
  },
  {
   "cell_type": "markdown",
   "metadata": {},
   "source": [
    "## *- Handling Outliers*"
   ]
  },
  {
   "cell_type": "code",
   "execution_count": 24,
   "metadata": {},
   "outputs": [
    {
     "data": {
      "text/plain": [
       "<AxesSubplot:xlabel='tenure'>"
      ]
     },
     "execution_count": 24,
     "metadata": {},
     "output_type": "execute_result"
    },
    {
     "data": {
      "image/png": "[encoded data removed]",
      "text/plain": [
       "<Figure size 1800x360 with 3 Axes>"
      ]
     },
     "metadata": {
      "needs_background": "light"
     },
     "output_type": "display_data"
    }
   ],
   "source": [
    "fig = plt.figure(figsize=(25,5))\n",
    "row = 1\n",
    "col = 3\n",
    "\n",
    "# figure, axis = plt.subplots(2,2)\n",
    "fig.add_subplot(row, col, 1)\n",
    "sns.boxplot(x=df['MonthlyCharges'])\n",
    "\n",
    "fig.add_subplot(row, col, 2)\n",
    "sns.boxplot(x=df['TotalCharges'])\n",
    "\n",
    "fig.add_subplot(row, col, 3)\n",
    "sns.boxplot(x=df['tenure'])"
   ]
  },
  {
   "cell_type": "markdown",
   "metadata": {},
   "source": [
    "Berdasarkan boxplot pada 3 kolom numerikal diatas terlihat tidak ada outliers."
   ]
  },
  {
   "cell_type": "markdown",
   "metadata": {},
   "source": [
    "----"
   ]
  },
  {
   "cell_type": "code",
   "execution_count": 25,
   "metadata": {},
   "outputs": [
    {
     "data": {
      "text/html": [
       "<div>\n",
       "<style scoped>\n",
       "    .dataframe tbody tr th:only-of-type {\n",
       "        vertical-align: middle;\n",
       "    }\n",
       "\n",
       "    .dataframe tbody tr th {\n",
       "        vertical-align: top;\n",
       "    }\n",
       "\n",
       "    .dataframe thead th {\n",
       "        text-align: right;\n",
       "    }\n",
       "</style>\n",
       "<table border=\"1\" class=\"dataframe\">\n",
       "  <thead>\n",
       "    <tr style=\"text-align: right;\">\n",
       "      <th></th>\n",
       "      <th>SeniorCitizen</th>\n",
       "      <th>Partner</th>\n",
       "      <th>Dependents</th>\n",
       "      <th>tenure</th>\n",
       "      <th>PhoneService</th>\n",
       "      <th>MultipleLines</th>\n",
       "      <th>InternetService</th>\n",
       "      <th>OnlineSecurity</th>\n",
       "      <th>OnlineBackup</th>\n",
       "      <th>DeviceProtection</th>\n",
       "      <th>TechSupport</th>\n",
       "      <th>StreamingTV</th>\n",
       "      <th>StreamingMovies</th>\n",
       "      <th>Contract</th>\n",
       "      <th>PaperlessBilling</th>\n",
       "      <th>PaymentMethod</th>\n",
       "      <th>MonthlyCharges</th>\n",
       "      <th>TotalCharges</th>\n",
       "      <th>Churn</th>\n",
       "    </tr>\n",
       "  </thead>\n",
       "  <tbody>\n",
       "    <tr>\n",
       "      <th>4564</th>\n",
       "      <td>No</td>\n",
       "      <td>No</td>\n",
       "      <td>No</td>\n",
       "      <td>1</td>\n",
       "      <td>Yes</td>\n",
       "      <td>No</td>\n",
       "      <td>No</td>\n",
       "      <td>No</td>\n",
       "      <td>No</td>\n",
       "      <td>No</td>\n",
       "      <td>No</td>\n",
       "      <td>No</td>\n",
       "      <td>No</td>\n",
       "      <td>Month-to-month</td>\n",
       "      <td>No</td>\n",
       "      <td>Mailed check</td>\n",
       "      <td>20.00</td>\n",
       "      <td>20.00</td>\n",
       "      <td>1</td>\n",
       "    </tr>\n",
       "    <tr>\n",
       "      <th>4233</th>\n",
       "      <td>No</td>\n",
       "      <td>Yes</td>\n",
       "      <td>No</td>\n",
       "      <td>33</td>\n",
       "      <td>No</td>\n",
       "      <td>No</td>\n",
       "      <td>DSL</td>\n",
       "      <td>Yes</td>\n",
       "      <td>No</td>\n",
       "      <td>Yes</td>\n",
       "      <td>Yes</td>\n",
       "      <td>Yes</td>\n",
       "      <td>Yes</td>\n",
       "      <td>Two year</td>\n",
       "      <td>No</td>\n",
       "      <td>Bank transfer (automatic)</td>\n",
       "      <td>59.55</td>\n",
       "      <td>2016.30</td>\n",
       "      <td>0</td>\n",
       "    </tr>\n",
       "    <tr>\n",
       "      <th>1955</th>\n",
       "      <td>No</td>\n",
       "      <td>Yes</td>\n",
       "      <td>Yes</td>\n",
       "      <td>49</td>\n",
       "      <td>Yes</td>\n",
       "      <td>Yes</td>\n",
       "      <td>Fiber optic</td>\n",
       "      <td>No</td>\n",
       "      <td>No</td>\n",
       "      <td>No</td>\n",
       "      <td>No</td>\n",
       "      <td>Yes</td>\n",
       "      <td>Yes</td>\n",
       "      <td>Month-to-month</td>\n",
       "      <td>Yes</td>\n",
       "      <td>Bank transfer (automatic)</td>\n",
       "      <td>95.40</td>\n",
       "      <td>4613.95</td>\n",
       "      <td>0</td>\n",
       "    </tr>\n",
       "    <tr>\n",
       "      <th>3949</th>\n",
       "      <td>No</td>\n",
       "      <td>No</td>\n",
       "      <td>Yes</td>\n",
       "      <td>18</td>\n",
       "      <td>Yes</td>\n",
       "      <td>Yes</td>\n",
       "      <td>DSL</td>\n",
       "      <td>Yes</td>\n",
       "      <td>No</td>\n",
       "      <td>No</td>\n",
       "      <td>No</td>\n",
       "      <td>No</td>\n",
       "      <td>No</td>\n",
       "      <td>Month-to-month</td>\n",
       "      <td>No</td>\n",
       "      <td>Mailed check</td>\n",
       "      <td>57.65</td>\n",
       "      <td>992.70</td>\n",
       "      <td>0</td>\n",
       "    </tr>\n",
       "    <tr>\n",
       "      <th>2427</th>\n",
       "      <td>No</td>\n",
       "      <td>No</td>\n",
       "      <td>No</td>\n",
       "      <td>1</td>\n",
       "      <td>No</td>\n",
       "      <td>No</td>\n",
       "      <td>DSL</td>\n",
       "      <td>No</td>\n",
       "      <td>No</td>\n",
       "      <td>No</td>\n",
       "      <td>No</td>\n",
       "      <td>No</td>\n",
       "      <td>Yes</td>\n",
       "      <td>Month-to-month</td>\n",
       "      <td>No</td>\n",
       "      <td>Electronic check</td>\n",
       "      <td>35.90</td>\n",
       "      <td>35.90</td>\n",
       "      <td>1</td>\n",
       "    </tr>\n",
       "    <tr>\n",
       "      <th>6574</th>\n",
       "      <td>Yes</td>\n",
       "      <td>No</td>\n",
       "      <td>No</td>\n",
       "      <td>9</td>\n",
       "      <td>Yes</td>\n",
       "      <td>Yes</td>\n",
       "      <td>Fiber optic</td>\n",
       "      <td>No</td>\n",
       "      <td>No</td>\n",
       "      <td>Yes</td>\n",
       "      <td>No</td>\n",
       "      <td>Yes</td>\n",
       "      <td>No</td>\n",
       "      <td>Month-to-month</td>\n",
       "      <td>Yes</td>\n",
       "      <td>Electronic check</td>\n",
       "      <td>90.10</td>\n",
       "      <td>816.80</td>\n",
       "      <td>0</td>\n",
       "    </tr>\n",
       "    <tr>\n",
       "      <th>6107</th>\n",
       "      <td>No</td>\n",
       "      <td>No</td>\n",
       "      <td>No</td>\n",
       "      <td>1</td>\n",
       "      <td>Yes</td>\n",
       "      <td>No</td>\n",
       "      <td>No</td>\n",
       "      <td>No</td>\n",
       "      <td>No</td>\n",
       "      <td>No</td>\n",
       "      <td>No</td>\n",
       "      <td>No</td>\n",
       "      <td>No</td>\n",
       "      <td>Month-to-month</td>\n",
       "      <td>No</td>\n",
       "      <td>Mailed check</td>\n",
       "      <td>19.95</td>\n",
       "      <td>19.95</td>\n",
       "      <td>0</td>\n",
       "    </tr>\n",
       "    <tr>\n",
       "      <th>4362</th>\n",
       "      <td>No</td>\n",
       "      <td>Yes</td>\n",
       "      <td>No</td>\n",
       "      <td>49</td>\n",
       "      <td>Yes</td>\n",
       "      <td>No</td>\n",
       "      <td>No</td>\n",
       "      <td>No</td>\n",
       "      <td>No</td>\n",
       "      <td>No</td>\n",
       "      <td>No</td>\n",
       "      <td>No</td>\n",
       "      <td>No</td>\n",
       "      <td>One year</td>\n",
       "      <td>No</td>\n",
       "      <td>Credit card (automatic)</td>\n",
       "      <td>20.70</td>\n",
       "      <td>1032.05</td>\n",
       "      <td>0</td>\n",
       "    </tr>\n",
       "    <tr>\n",
       "      <th>6489</th>\n",
       "      <td>No</td>\n",
       "      <td>No</td>\n",
       "      <td>No</td>\n",
       "      <td>1</td>\n",
       "      <td>Yes</td>\n",
       "      <td>No</td>\n",
       "      <td>No</td>\n",
       "      <td>No</td>\n",
       "      <td>No</td>\n",
       "      <td>No</td>\n",
       "      <td>No</td>\n",
       "      <td>No</td>\n",
       "      <td>No</td>\n",
       "      <td>Month-to-month</td>\n",
       "      <td>Yes</td>\n",
       "      <td>Mailed check</td>\n",
       "      <td>18.85</td>\n",
       "      <td>18.85</td>\n",
       "      <td>1</td>\n",
       "    </tr>\n",
       "    <tr>\n",
       "      <th>2885</th>\n",
       "      <td>Yes</td>\n",
       "      <td>No</td>\n",
       "      <td>No</td>\n",
       "      <td>67</td>\n",
       "      <td>Yes</td>\n",
       "      <td>Yes</td>\n",
       "      <td>Fiber optic</td>\n",
       "      <td>Yes</td>\n",
       "      <td>Yes</td>\n",
       "      <td>Yes</td>\n",
       "      <td>Yes</td>\n",
       "      <td>Yes</td>\n",
       "      <td>Yes</td>\n",
       "      <td>Two year</td>\n",
       "      <td>Yes</td>\n",
       "      <td>Credit card (automatic)</td>\n",
       "      <td>116.10</td>\n",
       "      <td>7839.85</td>\n",
       "      <td>0</td>\n",
       "    </tr>\n",
       "    <tr>\n",
       "      <th>4103</th>\n",
       "      <td>No</td>\n",
       "      <td>Yes</td>\n",
       "      <td>Yes</td>\n",
       "      <td>72</td>\n",
       "      <td>Yes</td>\n",
       "      <td>Yes</td>\n",
       "      <td>Fiber optic</td>\n",
       "      <td>No</td>\n",
       "      <td>No</td>\n",
       "      <td>Yes</td>\n",
       "      <td>No</td>\n",
       "      <td>No</td>\n",
       "      <td>Yes</td>\n",
       "      <td>Two year</td>\n",
       "      <td>Yes</td>\n",
       "      <td>Credit card (automatic)</td>\n",
       "      <td>90.80</td>\n",
       "      <td>6511.80</td>\n",
       "      <td>0</td>\n",
       "    </tr>\n",
       "    <tr>\n",
       "      <th>384</th>\n",
       "      <td>No</td>\n",
       "      <td>No</td>\n",
       "      <td>No</td>\n",
       "      <td>48</td>\n",
       "      <td>Yes</td>\n",
       "      <td>Yes</td>\n",
       "      <td>Fiber optic</td>\n",
       "      <td>No</td>\n",
       "      <td>Yes</td>\n",
       "      <td>Yes</td>\n",
       "      <td>No</td>\n",
       "      <td>Yes</td>\n",
       "      <td>Yes</td>\n",
       "      <td>Two year</td>\n",
       "      <td>Yes</td>\n",
       "      <td>Bank transfer (automatic)</td>\n",
       "      <td>108.10</td>\n",
       "      <td>5067.45</td>\n",
       "      <td>0</td>\n",
       "    </tr>\n",
       "    <tr>\n",
       "      <th>12</th>\n",
       "      <td>No</td>\n",
       "      <td>Yes</td>\n",
       "      <td>No</td>\n",
       "      <td>58</td>\n",
       "      <td>Yes</td>\n",
       "      <td>Yes</td>\n",
       "      <td>Fiber optic</td>\n",
       "      <td>No</td>\n",
       "      <td>No</td>\n",
       "      <td>Yes</td>\n",
       "      <td>No</td>\n",
       "      <td>Yes</td>\n",
       "      <td>Yes</td>\n",
       "      <td>One year</td>\n",
       "      <td>No</td>\n",
       "      <td>Credit card (automatic)</td>\n",
       "      <td>100.35</td>\n",
       "      <td>5681.10</td>\n",
       "      <td>0</td>\n",
       "    </tr>\n",
       "    <tr>\n",
       "      <th>2438</th>\n",
       "      <td>No</td>\n",
       "      <td>No</td>\n",
       "      <td>No</td>\n",
       "      <td>8</td>\n",
       "      <td>Yes</td>\n",
       "      <td>Yes</td>\n",
       "      <td>Fiber optic</td>\n",
       "      <td>Yes</td>\n",
       "      <td>No</td>\n",
       "      <td>No</td>\n",
       "      <td>Yes</td>\n",
       "      <td>Yes</td>\n",
       "      <td>Yes</td>\n",
       "      <td>Month-to-month</td>\n",
       "      <td>Yes</td>\n",
       "      <td>Bank transfer (automatic)</td>\n",
       "      <td>103.35</td>\n",
       "      <td>847.30</td>\n",
       "      <td>1</td>\n",
       "    </tr>\n",
       "    <tr>\n",
       "      <th>5288</th>\n",
       "      <td>No</td>\n",
       "      <td>No</td>\n",
       "      <td>No</td>\n",
       "      <td>1</td>\n",
       "      <td>Yes</td>\n",
       "      <td>No</td>\n",
       "      <td>Fiber optic</td>\n",
       "      <td>No</td>\n",
       "      <td>No</td>\n",
       "      <td>No</td>\n",
       "      <td>No</td>\n",
       "      <td>Yes</td>\n",
       "      <td>No</td>\n",
       "      <td>Month-to-month</td>\n",
       "      <td>Yes</td>\n",
       "      <td>Electronic check</td>\n",
       "      <td>79.65</td>\n",
       "      <td>79.65</td>\n",
       "      <td>1</td>\n",
       "    </tr>\n",
       "    <tr>\n",
       "      <th>3687</th>\n",
       "      <td>No</td>\n",
       "      <td>Yes</td>\n",
       "      <td>Yes</td>\n",
       "      <td>19</td>\n",
       "      <td>Yes</td>\n",
       "      <td>No</td>\n",
       "      <td>Fiber optic</td>\n",
       "      <td>No</td>\n",
       "      <td>Yes</td>\n",
       "      <td>No</td>\n",
       "      <td>Yes</td>\n",
       "      <td>Yes</td>\n",
       "      <td>Yes</td>\n",
       "      <td>One year</td>\n",
       "      <td>No</td>\n",
       "      <td>Bank transfer (automatic)</td>\n",
       "      <td>100.00</td>\n",
       "      <td>1888.65</td>\n",
       "      <td>1</td>\n",
       "    </tr>\n",
       "    <tr>\n",
       "      <th>3013</th>\n",
       "      <td>No</td>\n",
       "      <td>No</td>\n",
       "      <td>No</td>\n",
       "      <td>29</td>\n",
       "      <td>Yes</td>\n",
       "      <td>Yes</td>\n",
       "      <td>DSL</td>\n",
       "      <td>No</td>\n",
       "      <td>No</td>\n",
       "      <td>No</td>\n",
       "      <td>No</td>\n",
       "      <td>Yes</td>\n",
       "      <td>Yes</td>\n",
       "      <td>One year</td>\n",
       "      <td>Yes</td>\n",
       "      <td>Credit card (automatic)</td>\n",
       "      <td>71.00</td>\n",
       "      <td>2080.10</td>\n",
       "      <td>0</td>\n",
       "    </tr>\n",
       "    <tr>\n",
       "      <th>6674</th>\n",
       "      <td>No</td>\n",
       "      <td>No</td>\n",
       "      <td>No</td>\n",
       "      <td>7</td>\n",
       "      <td>Yes</td>\n",
       "      <td>Yes</td>\n",
       "      <td>No</td>\n",
       "      <td>No</td>\n",
       "      <td>No</td>\n",
       "      <td>No</td>\n",
       "      <td>No</td>\n",
       "      <td>No</td>\n",
       "      <td>No</td>\n",
       "      <td>Month-to-month</td>\n",
       "      <td>No</td>\n",
       "      <td>Mailed check</td>\n",
       "      <td>23.50</td>\n",
       "      <td>173.00</td>\n",
       "      <td>0</td>\n",
       "    </tr>\n",
       "    <tr>\n",
       "      <th>5451</th>\n",
       "      <td>No</td>\n",
       "      <td>Yes</td>\n",
       "      <td>No</td>\n",
       "      <td>71</td>\n",
       "      <td>Yes</td>\n",
       "      <td>Yes</td>\n",
       "      <td>Fiber optic</td>\n",
       "      <td>Yes</td>\n",
       "      <td>Yes</td>\n",
       "      <td>No</td>\n",
       "      <td>No</td>\n",
       "      <td>Yes</td>\n",
       "      <td>No</td>\n",
       "      <td>One year</td>\n",
       "      <td>No</td>\n",
       "      <td>Mailed check</td>\n",
       "      <td>95.65</td>\n",
       "      <td>6856.95</td>\n",
       "      <td>0</td>\n",
       "    </tr>\n",
       "    <tr>\n",
       "      <th>1035</th>\n",
       "      <td>No</td>\n",
       "      <td>No</td>\n",
       "      <td>No</td>\n",
       "      <td>66</td>\n",
       "      <td>Yes</td>\n",
       "      <td>Yes</td>\n",
       "      <td>No</td>\n",
       "      <td>No</td>\n",
       "      <td>No</td>\n",
       "      <td>No</td>\n",
       "      <td>No</td>\n",
       "      <td>No</td>\n",
       "      <td>No</td>\n",
       "      <td>Two year</td>\n",
       "      <td>No</td>\n",
       "      <td>Mailed check</td>\n",
       "      <td>25.10</td>\n",
       "      <td>1697.70</td>\n",
       "      <td>0</td>\n",
       "    </tr>\n",
       "  </tbody>\n",
       "</table>\n",
       "</div>"
      ],
      "text/plain": [
       "     SeniorCitizen Partner Dependents  tenure PhoneService MultipleLines  \\\n",
       "4564            No      No         No       1          Yes            No   \n",
       "4233            No     Yes         No      33           No            No   \n",
       "1955            No     Yes        Yes      49          Yes           Yes   \n",
       "3949            No      No        Yes      18          Yes           Yes   \n",
       "2427            No      No         No       1           No            No   \n",
       "6574           Yes      No         No       9          Yes           Yes   \n",
       "6107            No      No         No       1          Yes            No   \n",
       "4362            No     Yes         No      49          Yes            No   \n",
       "6489            No      No         No       1          Yes            No   \n",
       "2885           Yes      No         No      67          Yes           Yes   \n",
       "4103            No     Yes        Yes      72          Yes           Yes   \n",
       "384             No      No         No      48          Yes           Yes   \n",
       "12              No     Yes         No      58          Yes           Yes   \n",
       "2438            No      No         No       8          Yes           Yes   \n",
       "5288            No      No         No       1          Yes            No   \n",
       "3687            No     Yes        Yes      19          Yes            No   \n",
       "3013            No      No         No      29          Yes           Yes   \n",
       "6674            No      No         No       7          Yes           Yes   \n",
       "5451            No     Yes         No      71          Yes           Yes   \n",
       "1035            No      No         No      66          Yes           Yes   \n",
       "\n",
       "     InternetService OnlineSecurity OnlineBackup DeviceProtection TechSupport  \\\n",
       "4564              No             No           No               No          No   \n",
       "4233             DSL            Yes           No              Yes         Yes   \n",
       "1955     Fiber optic             No           No               No          No   \n",
       "3949             DSL            Yes           No               No          No   \n",
       "2427             DSL             No           No               No          No   \n",
       "6574     Fiber optic             No           No              Yes          No   \n",
       "6107              No             No           No               No          No   \n",
       "4362              No             No           No               No          No   \n",
       "6489              No             No           No               No          No   \n",
       "2885     Fiber optic            Yes          Yes              Yes         Yes   \n",
       "4103     Fiber optic             No           No              Yes          No   \n",
       "384      Fiber optic             No          Yes              Yes          No   \n",
       "12       Fiber optic             No           No              Yes          No   \n",
       "2438     Fiber optic            Yes           No               No         Yes   \n",
       "5288     Fiber optic             No           No               No          No   \n",
       "3687     Fiber optic             No          Yes               No         Yes   \n",
       "3013             DSL             No           No               No          No   \n",
       "6674              No             No           No               No          No   \n",
       "5451     Fiber optic            Yes          Yes               No          No   \n",
       "1035              No             No           No               No          No   \n",
       "\n",
       "     StreamingTV StreamingMovies        Contract PaperlessBilling  \\\n",
       "4564          No              No  Month-to-month               No   \n",
       "4233         Yes             Yes        Two year               No   \n",
       "1955         Yes             Yes  Month-to-month              Yes   \n",
       "3949          No              No  Month-to-month               No   \n",
       "2427          No             Yes  Month-to-month               No   \n",
       "6574         Yes              No  Month-to-month              Yes   \n",
       "6107          No              No  Month-to-month               No   \n",
       "4362          No              No        One year               No   \n",
       "6489          No              No  Month-to-month              Yes   \n",
       "2885         Yes             Yes        Two year              Yes   \n",
       "4103          No             Yes        Two year              Yes   \n",
       "384          Yes             Yes        Two year              Yes   \n",
       "12           Yes             Yes        One year               No   \n",
       "2438         Yes             Yes  Month-to-month              Yes   \n",
       "5288         Yes              No  Month-to-month              Yes   \n",
       "3687         Yes             Yes        One year               No   \n",
       "3013         Yes             Yes        One year              Yes   \n",
       "6674          No              No  Month-to-month               No   \n",
       "5451         Yes              No        One year               No   \n",
       "1035          No              No        Two year               No   \n",
       "\n",
       "                  PaymentMethod  MonthlyCharges  TotalCharges  Churn  \n",
       "4564               Mailed check           20.00         20.00      1  \n",
       "4233  Bank transfer (automatic)           59.55       2016.30      0  \n",
       "1955  Bank transfer (automatic)           95.40       4613.95      0  \n",
       "3949               Mailed check           57.65        992.70      0  \n",
       "2427           Electronic check           35.90         35.90      1  \n",
       "6574           Electronic check           90.10        816.80      0  \n",
       "6107               Mailed check           19.95         19.95      0  \n",
       "4362    Credit card (automatic)           20.70       1032.05      0  \n",
       "6489               Mailed check           18.85         18.85      1  \n",
       "2885    Credit card (automatic)          116.10       7839.85      0  \n",
       "4103    Credit card (automatic)           90.80       6511.80      0  \n",
       "384   Bank transfer (automatic)          108.10       5067.45      0  \n",
       "12      Credit card (automatic)          100.35       5681.10      0  \n",
       "2438  Bank transfer (automatic)          103.35        847.30      1  \n",
       "5288           Electronic check           79.65         79.65      1  \n",
       "3687  Bank transfer (automatic)          100.00       1888.65      1  \n",
       "3013    Credit card (automatic)           71.00       2080.10      0  \n",
       "6674               Mailed check           23.50        173.00      0  \n",
       "5451               Mailed check           95.65       6856.95      0  \n",
       "1035               Mailed check           25.10       1697.70      0  "
      ]
     },
     "execution_count": 25,
     "metadata": {},
     "output_type": "execute_result"
    }
   ],
   "source": [
    "# get data for model inference\n",
    "df_inf = df.sample(20, random_state=95)\n",
    "df_inf"
   ]
  },
  {
   "cell_type": "markdown",
   "metadata": {},
   "source": [
    "Mengambil 10 data inference untuk nantinya diuji coba terhadap model yang sudah dibuat."
   ]
  },
  {
   "cell_type": "code",
   "execution_count": 26,
   "metadata": {},
   "outputs": [
    {
     "data": {
      "text/html": [
       "<div>\n",
       "<style scoped>\n",
       "    .dataframe tbody tr th:only-of-type {\n",
       "        vertical-align: middle;\n",
       "    }\n",
       "\n",
       "    .dataframe tbody tr th {\n",
       "        vertical-align: top;\n",
       "    }\n",
       "\n",
       "    .dataframe thead th {\n",
       "        text-align: right;\n",
       "    }\n",
       "</style>\n",
       "<table border=\"1\" class=\"dataframe\">\n",
       "  <thead>\n",
       "    <tr style=\"text-align: right;\">\n",
       "      <th></th>\n",
       "      <th>SeniorCitizen</th>\n",
       "      <th>Partner</th>\n",
       "      <th>Dependents</th>\n",
       "      <th>tenure</th>\n",
       "      <th>PhoneService</th>\n",
       "      <th>MultipleLines</th>\n",
       "      <th>InternetService</th>\n",
       "      <th>OnlineSecurity</th>\n",
       "      <th>OnlineBackup</th>\n",
       "      <th>DeviceProtection</th>\n",
       "      <th>TechSupport</th>\n",
       "      <th>StreamingTV</th>\n",
       "      <th>StreamingMovies</th>\n",
       "      <th>Contract</th>\n",
       "      <th>PaperlessBilling</th>\n",
       "      <th>PaymentMethod</th>\n",
       "      <th>MonthlyCharges</th>\n",
       "      <th>TotalCharges</th>\n",
       "      <th>Churn</th>\n",
       "    </tr>\n",
       "  </thead>\n",
       "  <tbody>\n",
       "    <tr>\n",
       "      <th>0</th>\n",
       "      <td>No</td>\n",
       "      <td>Yes</td>\n",
       "      <td>No</td>\n",
       "      <td>1</td>\n",
       "      <td>No</td>\n",
       "      <td>No</td>\n",
       "      <td>DSL</td>\n",
       "      <td>No</td>\n",
       "      <td>Yes</td>\n",
       "      <td>No</td>\n",
       "      <td>No</td>\n",
       "      <td>No</td>\n",
       "      <td>No</td>\n",
       "      <td>Month-to-month</td>\n",
       "      <td>Yes</td>\n",
       "      <td>Electronic check</td>\n",
       "      <td>29.85</td>\n",
       "      <td>29.85</td>\n",
       "      <td>0</td>\n",
       "    </tr>\n",
       "    <tr>\n",
       "      <th>1</th>\n",
       "      <td>No</td>\n",
       "      <td>No</td>\n",
       "      <td>No</td>\n",
       "      <td>34</td>\n",
       "      <td>Yes</td>\n",
       "      <td>No</td>\n",
       "      <td>DSL</td>\n",
       "      <td>Yes</td>\n",
       "      <td>No</td>\n",
       "      <td>Yes</td>\n",
       "      <td>No</td>\n",
       "      <td>No</td>\n",
       "      <td>No</td>\n",
       "      <td>One year</td>\n",
       "      <td>No</td>\n",
       "      <td>Mailed check</td>\n",
       "      <td>56.95</td>\n",
       "      <td>1889.50</td>\n",
       "      <td>0</td>\n",
       "    </tr>\n",
       "    <tr>\n",
       "      <th>2</th>\n",
       "      <td>No</td>\n",
       "      <td>No</td>\n",
       "      <td>No</td>\n",
       "      <td>2</td>\n",
       "      <td>Yes</td>\n",
       "      <td>No</td>\n",
       "      <td>DSL</td>\n",
       "      <td>Yes</td>\n",
       "      <td>Yes</td>\n",
       "      <td>No</td>\n",
       "      <td>No</td>\n",
       "      <td>No</td>\n",
       "      <td>No</td>\n",
       "      <td>Month-to-month</td>\n",
       "      <td>Yes</td>\n",
       "      <td>Mailed check</td>\n",
       "      <td>53.85</td>\n",
       "      <td>108.15</td>\n",
       "      <td>1</td>\n",
       "    </tr>\n",
       "    <tr>\n",
       "      <th>3</th>\n",
       "      <td>No</td>\n",
       "      <td>No</td>\n",
       "      <td>No</td>\n",
       "      <td>45</td>\n",
       "      <td>No</td>\n",
       "      <td>No</td>\n",
       "      <td>DSL</td>\n",
       "      <td>Yes</td>\n",
       "      <td>No</td>\n",
       "      <td>Yes</td>\n",
       "      <td>Yes</td>\n",
       "      <td>No</td>\n",
       "      <td>No</td>\n",
       "      <td>One year</td>\n",
       "      <td>No</td>\n",
       "      <td>Bank transfer (automatic)</td>\n",
       "      <td>42.30</td>\n",
       "      <td>1840.75</td>\n",
       "      <td>0</td>\n",
       "    </tr>\n",
       "    <tr>\n",
       "      <th>4</th>\n",
       "      <td>No</td>\n",
       "      <td>No</td>\n",
       "      <td>No</td>\n",
       "      <td>2</td>\n",
       "      <td>Yes</td>\n",
       "      <td>No</td>\n",
       "      <td>Fiber optic</td>\n",
       "      <td>No</td>\n",
       "      <td>No</td>\n",
       "      <td>No</td>\n",
       "      <td>No</td>\n",
       "      <td>No</td>\n",
       "      <td>No</td>\n",
       "      <td>Month-to-month</td>\n",
       "      <td>Yes</td>\n",
       "      <td>Electronic check</td>\n",
       "      <td>70.70</td>\n",
       "      <td>151.65</td>\n",
       "      <td>1</td>\n",
       "    </tr>\n",
       "    <tr>\n",
       "      <th>...</th>\n",
       "      <td>...</td>\n",
       "      <td>...</td>\n",
       "      <td>...</td>\n",
       "      <td>...</td>\n",
       "      <td>...</td>\n",
       "      <td>...</td>\n",
       "      <td>...</td>\n",
       "      <td>...</td>\n",
       "      <td>...</td>\n",
       "      <td>...</td>\n",
       "      <td>...</td>\n",
       "      <td>...</td>\n",
       "      <td>...</td>\n",
       "      <td>...</td>\n",
       "      <td>...</td>\n",
       "      <td>...</td>\n",
       "      <td>...</td>\n",
       "      <td>...</td>\n",
       "      <td>...</td>\n",
       "    </tr>\n",
       "    <tr>\n",
       "      <th>7038</th>\n",
       "      <td>No</td>\n",
       "      <td>Yes</td>\n",
       "      <td>Yes</td>\n",
       "      <td>24</td>\n",
       "      <td>Yes</td>\n",
       "      <td>Yes</td>\n",
       "      <td>DSL</td>\n",
       "      <td>Yes</td>\n",
       "      <td>No</td>\n",
       "      <td>Yes</td>\n",
       "      <td>Yes</td>\n",
       "      <td>Yes</td>\n",
       "      <td>Yes</td>\n",
       "      <td>One year</td>\n",
       "      <td>Yes</td>\n",
       "      <td>Mailed check</td>\n",
       "      <td>84.80</td>\n",
       "      <td>1990.50</td>\n",
       "      <td>0</td>\n",
       "    </tr>\n",
       "    <tr>\n",
       "      <th>7039</th>\n",
       "      <td>No</td>\n",
       "      <td>Yes</td>\n",
       "      <td>Yes</td>\n",
       "      <td>72</td>\n",
       "      <td>Yes</td>\n",
       "      <td>Yes</td>\n",
       "      <td>Fiber optic</td>\n",
       "      <td>No</td>\n",
       "      <td>Yes</td>\n",
       "      <td>Yes</td>\n",
       "      <td>No</td>\n",
       "      <td>Yes</td>\n",
       "      <td>Yes</td>\n",
       "      <td>One year</td>\n",
       "      <td>Yes</td>\n",
       "      <td>Credit card (automatic)</td>\n",
       "      <td>103.20</td>\n",
       "      <td>7362.90</td>\n",
       "      <td>0</td>\n",
       "    </tr>\n",
       "    <tr>\n",
       "      <th>7040</th>\n",
       "      <td>No</td>\n",
       "      <td>Yes</td>\n",
       "      <td>Yes</td>\n",
       "      <td>11</td>\n",
       "      <td>No</td>\n",
       "      <td>No</td>\n",
       "      <td>DSL</td>\n",
       "      <td>Yes</td>\n",
       "      <td>No</td>\n",
       "      <td>No</td>\n",
       "      <td>No</td>\n",
       "      <td>No</td>\n",
       "      <td>No</td>\n",
       "      <td>Month-to-month</td>\n",
       "      <td>Yes</td>\n",
       "      <td>Electronic check</td>\n",
       "      <td>29.60</td>\n",
       "      <td>346.45</td>\n",
       "      <td>0</td>\n",
       "    </tr>\n",
       "    <tr>\n",
       "      <th>7041</th>\n",
       "      <td>Yes</td>\n",
       "      <td>Yes</td>\n",
       "      <td>No</td>\n",
       "      <td>4</td>\n",
       "      <td>Yes</td>\n",
       "      <td>Yes</td>\n",
       "      <td>Fiber optic</td>\n",
       "      <td>No</td>\n",
       "      <td>No</td>\n",
       "      <td>No</td>\n",
       "      <td>No</td>\n",
       "      <td>No</td>\n",
       "      <td>No</td>\n",
       "      <td>Month-to-month</td>\n",
       "      <td>Yes</td>\n",
       "      <td>Mailed check</td>\n",
       "      <td>74.40</td>\n",
       "      <td>306.60</td>\n",
       "      <td>1</td>\n",
       "    </tr>\n",
       "    <tr>\n",
       "      <th>7042</th>\n",
       "      <td>No</td>\n",
       "      <td>No</td>\n",
       "      <td>No</td>\n",
       "      <td>66</td>\n",
       "      <td>Yes</td>\n",
       "      <td>No</td>\n",
       "      <td>Fiber optic</td>\n",
       "      <td>Yes</td>\n",
       "      <td>No</td>\n",
       "      <td>Yes</td>\n",
       "      <td>Yes</td>\n",
       "      <td>Yes</td>\n",
       "      <td>Yes</td>\n",
       "      <td>Two year</td>\n",
       "      <td>Yes</td>\n",
       "      <td>Bank transfer (automatic)</td>\n",
       "      <td>105.65</td>\n",
       "      <td>6844.50</td>\n",
       "      <td>0</td>\n",
       "    </tr>\n",
       "  </tbody>\n",
       "</table>\n",
       "<p>7012 rows × 19 columns</p>\n",
       "</div>"
      ],
      "text/plain": [
       "     SeniorCitizen Partner Dependents  tenure PhoneService MultipleLines  \\\n",
       "0               No     Yes         No       1           No            No   \n",
       "1               No      No         No      34          Yes            No   \n",
       "2               No      No         No       2          Yes            No   \n",
       "3               No      No         No      45           No            No   \n",
       "4               No      No         No       2          Yes            No   \n",
       "...            ...     ...        ...     ...          ...           ...   \n",
       "7038            No     Yes        Yes      24          Yes           Yes   \n",
       "7039            No     Yes        Yes      72          Yes           Yes   \n",
       "7040            No     Yes        Yes      11           No            No   \n",
       "7041           Yes     Yes         No       4          Yes           Yes   \n",
       "7042            No      No         No      66          Yes            No   \n",
       "\n",
       "     InternetService OnlineSecurity OnlineBackup DeviceProtection TechSupport  \\\n",
       "0                DSL             No          Yes               No          No   \n",
       "1                DSL            Yes           No              Yes          No   \n",
       "2                DSL            Yes          Yes               No          No   \n",
       "3                DSL            Yes           No              Yes         Yes   \n",
       "4        Fiber optic             No           No               No          No   \n",
       "...              ...            ...          ...              ...         ...   \n",
       "7038             DSL            Yes           No              Yes         Yes   \n",
       "7039     Fiber optic             No          Yes              Yes          No   \n",
       "7040             DSL            Yes           No               No          No   \n",
       "7041     Fiber optic             No           No               No          No   \n",
       "7042     Fiber optic            Yes           No              Yes         Yes   \n",
       "\n",
       "     StreamingTV StreamingMovies        Contract PaperlessBilling  \\\n",
       "0             No              No  Month-to-month              Yes   \n",
       "1             No              No        One year               No   \n",
       "2             No              No  Month-to-month              Yes   \n",
       "3             No              No        One year               No   \n",
       "4             No              No  Month-to-month              Yes   \n",
       "...          ...             ...             ...              ...   \n",
       "7038         Yes             Yes        One year              Yes   \n",
       "7039         Yes             Yes        One year              Yes   \n",
       "7040          No              No  Month-to-month              Yes   \n",
       "7041          No              No  Month-to-month              Yes   \n",
       "7042         Yes             Yes        Two year              Yes   \n",
       "\n",
       "                  PaymentMethod  MonthlyCharges  TotalCharges  Churn  \n",
       "0              Electronic check           29.85         29.85      0  \n",
       "1                  Mailed check           56.95       1889.50      0  \n",
       "2                  Mailed check           53.85        108.15      1  \n",
       "3     Bank transfer (automatic)           42.30       1840.75      0  \n",
       "4              Electronic check           70.70        151.65      1  \n",
       "...                         ...             ...           ...    ...  \n",
       "7038               Mailed check           84.80       1990.50      0  \n",
       "7039    Credit card (automatic)          103.20       7362.90      0  \n",
       "7040           Electronic check           29.60        346.45      0  \n",
       "7041               Mailed check           74.40        306.60      1  \n",
       "7042  Bank transfer (automatic)          105.65       6844.50      0  \n",
       "\n",
       "[7012 rows x 19 columns]"
      ]
     },
     "execution_count": 26,
     "metadata": {},
     "output_type": "execute_result"
    }
   ],
   "source": [
    "df_train_test = df.drop(df_inf.index)\n",
    "df_train_test"
   ]
  },
  {
   "cell_type": "markdown",
   "metadata": {},
   "source": [
    "Data yang telah dipisahkan dari 10 data inference disimpan dalam variabel df_train_test"
   ]
  },
  {
   "cell_type": "code",
   "execution_count": 27,
   "metadata": {},
   "outputs": [],
   "source": [
    "# reset index\n",
    "df_train_test.reset_index(drop=True, inplace=True)\n",
    "df_inf.reset_index(drop=True, inplace=True)"
   ]
  },
  {
   "cell_type": "markdown",
   "metadata": {},
   "source": [
    "Reset index dari kedua dataframe yang telah dipisahkan."
   ]
  },
  {
   "cell_type": "markdown",
   "metadata": {},
   "source": [
    "### Splitting Dataset"
   ]
  },
  {
   "cell_type": "code",
   "execution_count": 28,
   "metadata": {},
   "outputs": [],
   "source": [
    "X = df_train_test.drop('Churn',axis = 'columns')\n",
    "y = df_train_test['Churn']\n",
    "\n",
    "X_, X_test, y_, y_test = train_test_split(X, y, random_state = 22, test_size = 0.1)\n",
    "X_train, X_val, y_train, y_val = train_test_split(X_, y_, random_state = 22, test_size = 0.8)"
   ]
  },
  {
   "cell_type": "markdown",
   "metadata": {},
   "source": [
    "Splitting menjadi train-test set dan juga validation set."
   ]
  },
  {
   "cell_type": "code",
   "execution_count": 29,
   "metadata": {},
   "outputs": [
    {
     "name": "stdout",
     "output_type": "stream",
     "text": [
      "Numeric Columns: Index(['tenure', 'MonthlyCharges', 'TotalCharges'], dtype='object')\n",
      "categorical Columns: Index(['SeniorCitizen', 'Partner', 'Dependents', 'PhoneService',\n",
      "       'MultipleLines', 'InternetService', 'OnlineSecurity', 'OnlineBackup',\n",
      "       'DeviceProtection', 'TechSupport', 'StreamingTV', 'StreamingMovies',\n",
      "       'Contract', 'PaperlessBilling', 'PaymentMethod'],\n",
      "      dtype='object')\n"
     ]
    }
   ],
   "source": [
    "cat_col = X.select_dtypes(include=['object']).columns\n",
    "num_col = X.select_dtypes(exclude=['object']).columns\n",
    "print('Numeric Columns:', num_col)\n",
    "print('categorical Columns:', cat_col)"
   ]
  },
  {
   "cell_type": "markdown",
   "metadata": {},
   "source": [
    "Memisahkan kolom-kolom numerik dan kategorik ke variabel masing-masing untuk persiapan piple preprocessing."
   ]
  },
  {
   "cell_type": "code",
   "execution_count": 30,
   "metadata": {},
   "outputs": [
    {
     "name": "stderr",
     "output_type": "stream",
     "text": [
      "C:\\Users\\DELL\\AppData\\Local\\Temp\\ipykernel_16096\\1164782681.py:1: FutureWarning: Dropping of nuisance columns in DataFrame reductions (with 'numeric_only=None') is deprecated; in a future version this will raise TypeError.  Select only valid columns before calling the reduction.\n",
      "  X.skew()\n"
     ]
    },
    {
     "data": {
      "text/plain": [
       "tenure            0.237635\n",
       "MonthlyCharges   -0.222220\n",
       "TotalCharges      0.961901\n",
       "dtype: float64"
      ]
     },
     "execution_count": 30,
     "metadata": {},
     "output_type": "execute_result"
    }
   ],
   "source": [
    "X.skew()"
   ]
  },
  {
   "cell_type": "markdown",
   "metadata": {},
   "source": [
    "Nilai skewness tergolong kecil sehingga bisa dikatakan data terdistribusi normal."
   ]
  },
  {
   "cell_type": "code",
   "execution_count": 31,
   "metadata": {},
   "outputs": [],
   "source": [
    "numerical_pipeline = Pipeline([\n",
    "('imputer', SimpleImputer(strategy='median')),\n",
    "('scaler', StandardScaler())\n",
    "])\n",
    "\n",
    "categorical_pipeline = Pipeline([\n",
    "('imputer', SimpleImputer(strategy='most_frequent')),\n",
    "('onehot', OneHotEncoder())\n",
    "])"
   ]
  },
  {
   "cell_type": "markdown",
   "metadata": {},
   "source": [
    "Pembuatan pipeline encoding dan scaling. Untuk kolom numerikal di scaling menggunakan standard scaler karena kolom-kolom terbilang terdistribusi normal. Untuk kolom kategorik menggunakan OneHotEncoder."
   ]
  },
  {
   "cell_type": "markdown",
   "metadata": {},
   "source": [
    "***Pipeline Preprocessor***"
   ]
  },
  {
   "cell_type": "code",
   "execution_count": 32,
   "metadata": {},
   "outputs": [],
   "source": [
    "preprocessor =  ColumnTransformer([\n",
    "    ('numeric', numerical_pipeline,['tenure', 'MonthlyCharges', 'TotalCharges']),\n",
    "    ('category', categorical_pipeline,['SeniorCitizen', 'Partner', 'Dependents', 'PhoneService', \n",
    "                                       'MultipleLines', 'InternetService', 'OnlineSecurity', 'OnlineBackup',\n",
    "                                       'DeviceProtection', 'TechSupport', 'StreamingTV', 'StreamingMovies',\n",
    "                                       'Contract', 'PaperlessBilling', 'PaymentMethod'])\n",
    "])"
   ]
  },
  {
   "cell_type": "markdown",
   "metadata": {},
   "source": [
    "Melakukan columntransformer setelah scaling dan encoding."
   ]
  },
  {
   "cell_type": "code",
   "execution_count": 33,
   "metadata": {},
   "outputs": [
    {
     "data": {
      "text/html": [
       "<style>#sk-container-id-1 {color: black;background-color: white;}#sk-container-id-1 pre{padding: 0;}#sk-container-id-1 div.sk-toggleable {background-color: white;}#sk-container-id-1 label.sk-toggleable__label {cursor: pointer;display: block;width: 100%;margin-bottom: 0;padding: 0.3em;box-sizing: border-box;text-align: center;}#sk-container-id-1 label.sk-toggleable__label-arrow:before {content: \"▸\";float: left;margin-right: 0.25em;color: #696969;}#sk-container-id-1 label.sk-toggleable__label-arrow:hover:before {color: black;}#sk-container-id-1 div.sk-estimator:hover label.sk-toggleable__label-arrow:before {color: black;}#sk-container-id-1 div.sk-toggleable__content {max-height: 0;max-width: 0;overflow: hidden;text-align: left;background-color: #f0f8ff;}#sk-container-id-1 div.sk-toggleable__content pre {margin: 0.2em;color: black;border-radius: 0.25em;background-color: #f0f8ff;}#sk-container-id-1 input.sk-toggleable__control:checked~div.sk-toggleable__content {max-height: 200px;max-width: 100%;overflow: auto;}#sk-container-id-1 input.sk-toggleable__control:checked~label.sk-toggleable__label-arrow:before {content: \"▾\";}#sk-container-id-1 div.sk-estimator input.sk-toggleable__control:checked~label.sk-toggleable__label {background-color: #d4ebff;}#sk-container-id-1 div.sk-label input.sk-toggleable__control:checked~label.sk-toggleable__label {background-color: #d4ebff;}#sk-container-id-1 input.sk-hidden--visually {border: 0;clip: rect(1px 1px 1px 1px);clip: rect(1px, 1px, 1px, 1px);height: 1px;margin: -1px;overflow: hidden;padding: 0;position: absolute;width: 1px;}#sk-container-id-1 div.sk-estimator {font-family: monospace;background-color: #f0f8ff;border: 1px dotted black;border-radius: 0.25em;box-sizing: border-box;margin-bottom: 0.5em;}#sk-container-id-1 div.sk-estimator:hover {background-color: #d4ebff;}#sk-container-id-1 div.sk-parallel-item::after {content: \"\";width: 100%;border-bottom: 1px solid gray;flex-grow: 1;}#sk-container-id-1 div.sk-label:hover label.sk-toggleable__label {background-color: #d4ebff;}#sk-container-id-1 div.sk-serial::before {content: \"\";position: absolute;border-left: 1px solid gray;box-sizing: border-box;top: 0;bottom: 0;left: 50%;z-index: 0;}#sk-container-id-1 div.sk-serial {display: flex;flex-direction: column;align-items: center;background-color: white;padding-right: 0.2em;padding-left: 0.2em;position: relative;}#sk-container-id-1 div.sk-item {position: relative;z-index: 1;}#sk-container-id-1 div.sk-parallel {display: flex;align-items: stretch;justify-content: center;background-color: white;position: relative;}#sk-container-id-1 div.sk-item::before, #sk-container-id-1 div.sk-parallel-item::before {content: \"\";position: absolute;border-left: 1px solid gray;box-sizing: border-box;top: 0;bottom: 0;left: 50%;z-index: -1;}#sk-container-id-1 div.sk-parallel-item {display: flex;flex-direction: column;z-index: 1;position: relative;background-color: white;}#sk-container-id-1 div.sk-parallel-item:first-child::after {align-self: flex-end;width: 50%;}#sk-container-id-1 div.sk-parallel-item:last-child::after {align-self: flex-start;width: 50%;}#sk-container-id-1 div.sk-parallel-item:only-child::after {width: 0;}#sk-container-id-1 div.sk-dashed-wrapped {border: 1px dashed gray;margin: 0 0.4em 0.5em 0.4em;box-sizing: border-box;padding-bottom: 0.4em;background-color: white;}#sk-container-id-1 div.sk-label label {font-family: monospace;font-weight: bold;display: inline-block;line-height: 1.2em;}#sk-container-id-1 div.sk-label-container {text-align: center;}#sk-container-id-1 div.sk-container {/* jupyter's `normalize.less` sets `[hidden] { display: none; }` but bootstrap.min.css set `[hidden] { display: none !important; }` so we also need the `!important` here to be able to override the default hidden behavior on the sphinx rendered scikit-learn.org. See: https://github.com/scikit-learn/scikit-learn/issues/21755 */display: inline-block !important;position: relative;}#sk-container-id-1 div.sk-text-repr-fallback {display: none;}</style><div id=\"sk-container-id-1\" class=\"sk-top-container\"><div class=\"sk-text-repr-fallback\"><pre>ColumnTransformer(transformers=[(&#x27;numeric&#x27;,\n",
       "                                 Pipeline(steps=[(&#x27;imputer&#x27;,\n",
       "                                                  SimpleImputer(strategy=&#x27;median&#x27;)),\n",
       "                                                 (&#x27;scaler&#x27;, StandardScaler())]),\n",
       "                                 [&#x27;tenure&#x27;, &#x27;MonthlyCharges&#x27;, &#x27;TotalCharges&#x27;]),\n",
       "                                (&#x27;category&#x27;,\n",
       "                                 Pipeline(steps=[(&#x27;imputer&#x27;,\n",
       "                                                  SimpleImputer(strategy=&#x27;most_frequent&#x27;)),\n",
       "                                                 (&#x27;onehot&#x27;, OneHotEncoder())]),\n",
       "                                 [&#x27;SeniorCitizen&#x27;, &#x27;Partner&#x27;, &#x27;Dependents&#x27;,\n",
       "                                  &#x27;PhoneService&#x27;, &#x27;MultipleLines&#x27;,\n",
       "                                  &#x27;InternetService&#x27;, &#x27;OnlineSecurity&#x27;,\n",
       "                                  &#x27;OnlineBackup&#x27;, &#x27;DeviceProtection&#x27;,\n",
       "                                  &#x27;TechSupport&#x27;, &#x27;StreamingTV&#x27;,\n",
       "                                  &#x27;StreamingMovies&#x27;, &#x27;Contract&#x27;,\n",
       "                                  &#x27;PaperlessBilling&#x27;, &#x27;PaymentMethod&#x27;])])</pre><b>In a Jupyter environment, please rerun this cell to show the HTML representation or trust the notebook. <br />On GitHub, the HTML representation is unable to render, please try loading this page with nbviewer.org.</b></div><div class=\"sk-container\" hidden><div class=\"sk-item sk-dashed-wrapped\"><div class=\"sk-label-container\"><div class=\"sk-label sk-toggleable\"><input class=\"sk-toggleable__control sk-hidden--visually\" id=\"sk-estimator-id-1\" type=\"checkbox\" ><label for=\"sk-estimator-id-1\" class=\"sk-toggleable__label sk-toggleable__label-arrow\">ColumnTransformer</label><div class=\"sk-toggleable__content\"><pre>ColumnTransformer(transformers=[(&#x27;numeric&#x27;,\n",
       "                                 Pipeline(steps=[(&#x27;imputer&#x27;,\n",
       "                                                  SimpleImputer(strategy=&#x27;median&#x27;)),\n",
       "                                                 (&#x27;scaler&#x27;, StandardScaler())]),\n",
       "                                 [&#x27;tenure&#x27;, &#x27;MonthlyCharges&#x27;, &#x27;TotalCharges&#x27;]),\n",
       "                                (&#x27;category&#x27;,\n",
       "                                 Pipeline(steps=[(&#x27;imputer&#x27;,\n",
       "                                                  SimpleImputer(strategy=&#x27;most_frequent&#x27;)),\n",
       "                                                 (&#x27;onehot&#x27;, OneHotEncoder())]),\n",
       "                                 [&#x27;SeniorCitizen&#x27;, &#x27;Partner&#x27;, &#x27;Dependents&#x27;,\n",
       "                                  &#x27;PhoneService&#x27;, &#x27;MultipleLines&#x27;,\n",
       "                                  &#x27;InternetService&#x27;, &#x27;OnlineSecurity&#x27;,\n",
       "                                  &#x27;OnlineBackup&#x27;, &#x27;DeviceProtection&#x27;,\n",
       "                                  &#x27;TechSupport&#x27;, &#x27;StreamingTV&#x27;,\n",
       "                                  &#x27;StreamingMovies&#x27;, &#x27;Contract&#x27;,\n",
       "                                  &#x27;PaperlessBilling&#x27;, &#x27;PaymentMethod&#x27;])])</pre></div></div></div><div class=\"sk-parallel\"><div class=\"sk-parallel-item\"><div class=\"sk-item\"><div class=\"sk-label-container\"><div class=\"sk-label sk-toggleable\"><input class=\"sk-toggleable__control sk-hidden--visually\" id=\"sk-estimator-id-2\" type=\"checkbox\" ><label for=\"sk-estimator-id-2\" class=\"sk-toggleable__label sk-toggleable__label-arrow\">numeric</label><div class=\"sk-toggleable__content\"><pre>[&#x27;tenure&#x27;, &#x27;MonthlyCharges&#x27;, &#x27;TotalCharges&#x27;]</pre></div></div></div><div class=\"sk-serial\"><div class=\"sk-item\"><div class=\"sk-serial\"><div class=\"sk-item\"><div class=\"sk-estimator sk-toggleable\"><input class=\"sk-toggleable__control sk-hidden--visually\" id=\"sk-estimator-id-3\" type=\"checkbox\" ><label for=\"sk-estimator-id-3\" class=\"sk-toggleable__label sk-toggleable__label-arrow\">SimpleImputer</label><div class=\"sk-toggleable__content\"><pre>SimpleImputer(strategy=&#x27;median&#x27;)</pre></div></div></div><div class=\"sk-item\"><div class=\"sk-estimator sk-toggleable\"><input class=\"sk-toggleable__control sk-hidden--visually\" id=\"sk-estimator-id-4\" type=\"checkbox\" ><label for=\"sk-estimator-id-4\" class=\"sk-toggleable__label sk-toggleable__label-arrow\">StandardScaler</label><div class=\"sk-toggleable__content\"><pre>StandardScaler()</pre></div></div></div></div></div></div></div></div><div class=\"sk-parallel-item\"><div class=\"sk-item\"><div class=\"sk-label-container\"><div class=\"sk-label sk-toggleable\"><input class=\"sk-toggleable__control sk-hidden--visually\" id=\"sk-estimator-id-5\" type=\"checkbox\" ><label for=\"sk-estimator-id-5\" class=\"sk-toggleable__label sk-toggleable__label-arrow\">category</label><div class=\"sk-toggleable__content\"><pre>[&#x27;SeniorCitizen&#x27;, &#x27;Partner&#x27;, &#x27;Dependents&#x27;, &#x27;PhoneService&#x27;, &#x27;MultipleLines&#x27;, &#x27;InternetService&#x27;, &#x27;OnlineSecurity&#x27;, &#x27;OnlineBackup&#x27;, &#x27;DeviceProtection&#x27;, &#x27;TechSupport&#x27;, &#x27;StreamingTV&#x27;, &#x27;StreamingMovies&#x27;, &#x27;Contract&#x27;, &#x27;PaperlessBilling&#x27;, &#x27;PaymentMethod&#x27;]</pre></div></div></div><div class=\"sk-serial\"><div class=\"sk-item\"><div class=\"sk-serial\"><div class=\"sk-item\"><div class=\"sk-estimator sk-toggleable\"><input class=\"sk-toggleable__control sk-hidden--visually\" id=\"sk-estimator-id-6\" type=\"checkbox\" ><label for=\"sk-estimator-id-6\" class=\"sk-toggleable__label sk-toggleable__label-arrow\">SimpleImputer</label><div class=\"sk-toggleable__content\"><pre>SimpleImputer(strategy=&#x27;most_frequent&#x27;)</pre></div></div></div><div class=\"sk-item\"><div class=\"sk-estimator sk-toggleable\"><input class=\"sk-toggleable__control sk-hidden--visually\" id=\"sk-estimator-id-7\" type=\"checkbox\" ><label for=\"sk-estimator-id-7\" class=\"sk-toggleable__label sk-toggleable__label-arrow\">OneHotEncoder</label><div class=\"sk-toggleable__content\"><pre>OneHotEncoder()</pre></div></div></div></div></div></div></div></div></div></div></div></div>"
      ],
      "text/plain": [
       "ColumnTransformer(transformers=[('numeric',\n",
       "                                 Pipeline(steps=[('imputer',\n",
       "                                                  SimpleImputer(strategy='median')),\n",
       "                                                 ('scaler', StandardScaler())]),\n",
       "                                 ['tenure', 'MonthlyCharges', 'TotalCharges']),\n",
       "                                ('category',\n",
       "                                 Pipeline(steps=[('imputer',\n",
       "                                                  SimpleImputer(strategy='most_frequent')),\n",
       "                                                 ('onehot', OneHotEncoder())]),\n",
       "                                 ['SeniorCitizen', 'Partner', 'Dependents',\n",
       "                                  'PhoneService', 'MultipleLines',\n",
       "                                  'InternetService', 'OnlineSecurity',\n",
       "                                  'OnlineBackup', 'DeviceProtection',\n",
       "                                  'TechSupport', 'StreamingTV',\n",
       "                                  'StreamingMovies', 'Contract',\n",
       "                                  'PaperlessBilling', 'PaymentMethod'])])"
      ]
     },
     "execution_count": 33,
     "metadata": {},
     "output_type": "execute_result"
    }
   ],
   "source": [
    "preprocessor.fit(X_train)"
   ]
  },
  {
   "cell_type": "markdown",
   "metadata": {},
   "source": [
    "Proses untuk X_train saja."
   ]
  },
  {
   "cell_type": "code",
   "execution_count": 34,
   "metadata": {},
   "outputs": [],
   "source": [
    "X_train_prep = preprocessor.transform(X_train)\n",
    "X_val_prep   = preprocessor.transform(X_val)\n",
    "X_test_prep  = preprocessor.transform(X_test)"
   ]
  },
  {
   "cell_type": "markdown",
   "metadata": {},
   "source": [
    "Proses transform untuk X_train, X_val, dan X_test."
   ]
  },
  {
   "cell_type": "markdown",
   "metadata": {},
   "source": [
    "***Pipeline Tensorflow***"
   ]
  },
  {
   "cell_type": "code",
   "execution_count": 35,
   "metadata": {},
   "outputs": [],
   "source": [
    "# Train Program\n",
    "\n",
    "train_dataset = tf.data.Dataset.from_tensor_slices((X_train_prep, y_train))\n",
    "train_dataset = train_dataset.shuffle(buffer_size=128).batch(64)\n",
    "\n",
    "## Now we get a test dataset.\n",
    "test_dataset = tf.data.Dataset.from_tensor_slices((X_test_prep, y_test))\n",
    "test_dataset = test_dataset.batch(64)\n",
    "\n",
    "## Prepare the validation dataset\n",
    "val_dataset = tf.data.Dataset.from_tensor_slices((X_val_prep, y_val))\n",
    "val_dataset = val_dataset.batch(64)"
   ]
  },
  {
   "cell_type": "markdown",
   "metadata": {},
   "source": [
    "Membuat tensorflow pipeline data train, test dan val. Pada data train dilakukan shuffle dan ada batch sebesar 64. Batch sebanyak 64 juga ada pada validation dan test dataset."
   ]
  },
  {
   "cell_type": "markdown",
   "metadata": {},
   "source": [
    "----\n",
    "\n",
    "### *Sequential Before Improvement*"
   ]
  },
  {
   "cell_type": "markdown",
   "metadata": {},
   "source": [
    "#### **- Model Definition**"
   ]
  },
  {
   "cell_type": "code",
   "execution_count": 36,
   "metadata": {},
   "outputs": [],
   "source": [
    "callback = tf.keras.callbacks.EarlyStopping(monitor='loss', patience=10)\n",
    "\n",
    "model = tf.keras.models.Sequential()\n",
    "model.add(tf.keras.layers.Dense(64, input_shape=(37,)))\n",
    "model.add(tf.keras.layers.Dense(32))\n",
    "model.add(tf.keras.layers.Dense(16))\n",
    "model.add(tf.keras.layers.Dense(8))\n",
    "model.add(tf.keras.layers.Dense(1))"
   ]
  },
  {
   "cell_type": "markdown",
   "metadata": {},
   "source": [
    "Membuat model sequential awal dengan 1 input layer, 3 hidden layer dan 1 output layer. Dibuat juga callback earlystopping dengan patience 10."
   ]
  },
  {
   "cell_type": "code",
   "execution_count": 37,
   "metadata": {},
   "outputs": [],
   "source": [
    "model.compile(loss='binary_crossentropy' ,\n",
    "              optimizer='adam',#learning_rate=0.15, clipvalue=1.0),\n",
    "              metrics=['accuracy'])"
   ]
  },
  {
   "cell_type": "markdown",
   "metadata": {},
   "source": [
    "Proses compile dengan memasukkan loss=binary_crossentropy dan metrics=accuracy karena target yang akan diprediksi bersifat binary dan klasifikasi."
   ]
  },
  {
   "cell_type": "code",
   "execution_count": 38,
   "metadata": {},
   "outputs": [
    {
     "name": "stdout",
     "output_type": "stream",
     "text": [
      "Model: \"sequential\"\n",
      "_________________________________________________________________\n",
      " Layer (type)                Output Shape              Param #   \n",
      "=================================================================\n",
      " dense (Dense)               (None, 64)                2432      \n",
      "                                                                 \n",
      " dense_1 (Dense)             (None, 32)                2080      \n",
      "                                                                 \n",
      " dense_2 (Dense)             (None, 16)                528       \n",
      "                                                                 \n",
      " dense_3 (Dense)             (None, 8)                 136       \n",
      "                                                                 \n",
      " dense_4 (Dense)             (None, 1)                 9         \n",
      "                                                                 \n",
      "=================================================================\n",
      "Total params: 5,185\n",
      "Trainable params: 5,185\n",
      "Non-trainable params: 0\n",
      "_________________________________________________________________\n"
     ]
    }
   ],
   "source": [
    "model.summary()"
   ]
  },
  {
   "cell_type": "markdown",
   "metadata": {},
   "source": [
    "Summary dari model sequential API yang belum diimprove."
   ]
  },
  {
   "cell_type": "code",
   "execution_count": 39,
   "metadata": {},
   "outputs": [
    {
     "data": {
      "image/png": "[encoded data removed]",
      "text/plain": [
       "<IPython.core.display.Image object>"
      ]
     },
     "execution_count": 39,
     "metadata": {},
     "output_type": "execute_result"
    }
   ],
   "source": [
    "plot_model(model, show_shapes= True)"
   ]
  },
  {
   "cell_type": "markdown",
   "metadata": {},
   "source": [
    "Gambaran dari layer-layer Sequential API"
   ]
  },
  {
   "cell_type": "markdown",
   "metadata": {},
   "source": [
    "----\n",
    "\n",
    "#### **- Model Training**"
   ]
  },
  {
   "cell_type": "code",
   "execution_count": 40,
   "metadata": {},
   "outputs": [
    {
     "name": "stdout",
     "output_type": "stream",
     "text": [
      "Epoch 1/100\n",
      "20/20 [==============================] - 3s 36ms/step - loss: 2.5470 - accuracy: 0.6981 - val_loss: 1.7536 - val_accuracy: 0.7298\n",
      "Epoch 2/100\n",
      "20/20 [==============================] - 0s 14ms/step - loss: 1.9555 - accuracy: 0.7433 - val_loss: 2.5236 - val_accuracy: 0.7405\n",
      "Epoch 3/100\n",
      "20/20 [==============================] - 0s 14ms/step - loss: 1.7291 - accuracy: 0.7520 - val_loss: 1.2180 - val_accuracy: 0.7843\n",
      "Epoch 4/100\n",
      "20/20 [==============================] - 0s 15ms/step - loss: 1.5434 - accuracy: 0.7710 - val_loss: 1.3856 - val_accuracy: 0.7561\n",
      "Epoch 5/100\n",
      "20/20 [==============================] - 0s 16ms/step - loss: 2.2216 - accuracy: 0.6941 - val_loss: 1.7500 - val_accuracy: 0.7736\n",
      "Epoch 6/100\n",
      "20/20 [==============================] - 0s 16ms/step - loss: 2.9290 - accuracy: 0.7441 - val_loss: 2.9514 - val_accuracy: 0.7468\n",
      "Epoch 7/100\n",
      "20/20 [==============================] - 0s 15ms/step - loss: 2.5878 - accuracy: 0.7512 - val_loss: 1.7356 - val_accuracy: 0.7789\n",
      "Epoch 8/100\n",
      "20/20 [==============================] - 0s 17ms/step - loss: 1.7487 - accuracy: 0.7734 - val_loss: 2.6076 - val_accuracy: 0.6941\n",
      "Epoch 9/100\n",
      "20/20 [==============================] - 0s 16ms/step - loss: 5.3081 - accuracy: 0.5642 - val_loss: 6.4528 - val_accuracy: 0.4992\n",
      "Epoch 10/100\n",
      "20/20 [==============================] - 0s 16ms/step - loss: 5.9263 - accuracy: 0.5515 - val_loss: 5.7064 - val_accuracy: 0.5578\n",
      "Epoch 11/100\n",
      "20/20 [==============================] - 0s 16ms/step - loss: 5.0540 - accuracy: 0.6101 - val_loss: 4.7051 - val_accuracy: 0.6345\n",
      "Epoch 12/100\n",
      "20/20 [==============================] - 0s 15ms/step - loss: 4.0846 - accuracy: 0.6743 - val_loss: 4.1887 - val_accuracy: 0.6805\n",
      "Epoch 13/100\n",
      "20/20 [==============================] - 0s 15ms/step - loss: 3.7714 - accuracy: 0.7044 - val_loss: 4.0308 - val_accuracy: 0.6918\n",
      "Epoch 14/100\n",
      "20/20 [==============================] - 0s 16ms/step - loss: 3.7882 - accuracy: 0.7092 - val_loss: 4.1039 - val_accuracy: 0.6854\n"
     ]
    }
   ],
   "source": [
    "history = model.fit(train_dataset, epochs=100,\n",
    "                    validation_data=val_dataset,verbose=1, callbacks=[callback])"
   ]
  },
  {
   "cell_type": "markdown",
   "metadata": {},
   "source": [
    "Model di train pada train dataset dan juga dilakukan validasi."
   ]
  },
  {
   "cell_type": "markdown",
   "metadata": {},
   "source": [
    "----\n",
    "\n",
    "#### **- Model Evaluation**"
   ]
  },
  {
   "cell_type": "code",
   "execution_count": 41,
   "metadata": {},
   "outputs": [
    {
     "data": {
      "text/html": [
       "<div>\n",
       "<style scoped>\n",
       "    .dataframe tbody tr th:only-of-type {\n",
       "        vertical-align: middle;\n",
       "    }\n",
       "\n",
       "    .dataframe tbody tr th {\n",
       "        vertical-align: top;\n",
       "    }\n",
       "\n",
       "    .dataframe thead th {\n",
       "        text-align: right;\n",
       "    }\n",
       "</style>\n",
       "<table border=\"1\" class=\"dataframe\">\n",
       "  <thead>\n",
       "    <tr style=\"text-align: right;\">\n",
       "      <th></th>\n",
       "      <th>loss</th>\n",
       "      <th>accuracy</th>\n",
       "      <th>val_loss</th>\n",
       "      <th>val_accuracy</th>\n",
       "    </tr>\n",
       "  </thead>\n",
       "  <tbody>\n",
       "    <tr>\n",
       "      <th>0</th>\n",
       "      <td>2.546978</td>\n",
       "      <td>0.698098</td>\n",
       "      <td>1.753578</td>\n",
       "      <td>0.729794</td>\n",
       "    </tr>\n",
       "    <tr>\n",
       "      <th>1</th>\n",
       "      <td>1.955471</td>\n",
       "      <td>0.743265</td>\n",
       "      <td>2.523576</td>\n",
       "      <td>0.740491</td>\n",
       "    </tr>\n",
       "    <tr>\n",
       "      <th>2</th>\n",
       "      <td>1.729143</td>\n",
       "      <td>0.751981</td>\n",
       "      <td>1.217963</td>\n",
       "      <td>0.784271</td>\n",
       "    </tr>\n",
       "    <tr>\n",
       "      <th>3</th>\n",
       "      <td>1.543428</td>\n",
       "      <td>0.770998</td>\n",
       "      <td>1.385551</td>\n",
       "      <td>0.756141</td>\n",
       "    </tr>\n",
       "    <tr>\n",
       "      <th>4</th>\n",
       "      <td>2.221647</td>\n",
       "      <td>0.694136</td>\n",
       "      <td>1.749964</td>\n",
       "      <td>0.773574</td>\n",
       "    </tr>\n",
       "  </tbody>\n",
       "</table>\n",
       "</div>"
      ],
      "text/plain": [
       "       loss  accuracy  val_loss  val_accuracy\n",
       "0  2.546978  0.698098  1.753578      0.729794\n",
       "1  1.955471  0.743265  2.523576      0.740491\n",
       "2  1.729143  0.751981  1.217963      0.784271\n",
       "3  1.543428  0.770998  1.385551      0.756141\n",
       "4  2.221647  0.694136  1.749964      0.773574"
      ]
     },
     "execution_count": 41,
     "metadata": {},
     "output_type": "execute_result"
    }
   ],
   "source": [
    "metrics = pd.DataFrame(history.history)\n",
    "metrics.head()"
   ]
  },
  {
   "cell_type": "markdown",
   "metadata": {},
   "source": [
    "Metrics accuracy hasil dari training dibuat ke dalam dataframe"
   ]
  },
  {
   "cell_type": "code",
   "execution_count": 42,
   "metadata": {},
   "outputs": [
    {
     "data": {
      "image/png": "[encoded data removed]",
      "text/plain": [
       "<Figure size 432x288 with 1 Axes>"
      ]
     },
     "metadata": {
      "needs_background": "light"
     },
     "output_type": "display_data"
    }
   ],
   "source": [
    "metrics[['loss','val_loss']].plot();"
   ]
  },
  {
   "cell_type": "markdown",
   "metadata": {},
   "source": [
    "Plotting metrics sequential yang belum diimprove, terlihat ada gradient exploding di epoch 18."
   ]
  },
  {
   "cell_type": "markdown",
   "metadata": {},
   "source": [
    "----\n",
    "\n",
    "### *Sequential After Improvement*"
   ]
  },
  {
   "cell_type": "markdown",
   "metadata": {},
   "source": [
    "#### **- Model Definition**"
   ]
  },
  {
   "cell_type": "code",
   "execution_count": 43,
   "metadata": {},
   "outputs": [],
   "source": [
    "model2 = tf.keras.models.Sequential()\n",
    "model2.add(tf.keras.layers.Dense(64, input_shape=(37,), activation='sigmoid', kernel_initializer='glorot_normal', kernel_regularizer=tf.keras.regularizers.l2(0.001)))\n",
    "model2.add(tf.keras.layers.Dense(32, activation='tanh', kernel_initializer='glorot_normal'))\n",
    "# model2.add(tf.keras.layers.BatchNormalization()) #contoh normalisasi sebelum activation\n",
    "\n",
    "model2.add(tf.keras.layers.Dense(16, activation='tanh',  kernel_initializer='glorot_normal'))\n",
    "# model2.add(tf.keras.layers.BatchNormalization()) #contoh normalisasi sebelum activation\n",
    "\n",
    "model2.add(tf.keras.layers.Dense(8, activation='tanh',  kernel_initializer='glorot_normal'))\n",
    "# model2.add(tf.keras.layers.BatchNormalization()) #contoh normalisasi sebelum activation\n",
    "\n",
    "model2.add(tf.keras.layers.Dense(4, activation='tanh',  kernel_initializer='glorot_normal'))\n",
    "# model2.add(tf.keras.layers.BatchNormalization())\n",
    "\n",
    "model2.add(tf.keras.layers.Dense(1, activation='relu', kernel_initializer='he_normal'))"
   ]
  },
  {
   "cell_type": "markdown",
   "metadata": {},
   "source": [
    "Improve model sequential dengan menambahkan :\n",
    "- activation sigmoid, regularizerL2(0.001), dan initializer glorot_normal pada input layer\n",
    "- activation tanh, initializer=glorot_normal ,regularizerL2 pada hidden layer, ditambahkan juga 1 tambahan hidden layer menjadi 4 hidden layer\n",
    "- activation relu, initializer he_normal regularizerL2 pada output layer"
   ]
  },
  {
   "cell_type": "code",
   "execution_count": 44,
   "metadata": {},
   "outputs": [],
   "source": [
    "model2.compile(loss='binary_crossentropy', optimizer=tf.keras.optimizers.Adam(learning_rate=0.0001 ), metrics=['accuracy'])"
   ]
  },
  {
   "cell_type": "markdown",
   "metadata": {},
   "source": [
    "Proses compile juga ada improvement dengan menambahkan learningrate=0.0001 pada optimizers Adam."
   ]
  },
  {
   "cell_type": "code",
   "execution_count": 45,
   "metadata": {},
   "outputs": [
    {
     "data": {
      "image/png": "[encoded data removed]",
      "text/plain": [
       "<IPython.core.display.Image object>"
      ]
     },
     "execution_count": 45,
     "metadata": {},
     "output_type": "execute_result"
    }
   ],
   "source": [
    "plot_model(model2, show_shapes= True)"
   ]
  },
  {
   "cell_type": "markdown",
   "metadata": {},
   "source": [
    "Summary dari model sequential API yang sudah diimprove."
   ]
  },
  {
   "cell_type": "code",
   "execution_count": 46,
   "metadata": {},
   "outputs": [
    {
     "name": "stdout",
     "output_type": "stream",
     "text": [
      "Model: \"sequential_1\"\n",
      "_________________________________________________________________\n",
      " Layer (type)                Output Shape              Param #   \n",
      "=================================================================\n",
      " dense_5 (Dense)             (None, 64)                2432      \n",
      "                                                                 \n",
      " dense_6 (Dense)             (None, 32)                2080      \n",
      "                                                                 \n",
      " dense_7 (Dense)             (None, 16)                528       \n",
      "                                                                 \n",
      " dense_8 (Dense)             (None, 8)                 136       \n",
      "                                                                 \n",
      " dense_9 (Dense)             (None, 4)                 36        \n",
      "                                                                 \n",
      " dense_10 (Dense)            (None, 1)                 5         \n",
      "                                                                 \n",
      "=================================================================\n",
      "Total params: 5,217\n",
      "Trainable params: 5,217\n",
      "Non-trainable params: 0\n",
      "_________________________________________________________________\n"
     ]
    }
   ],
   "source": [
    "model2.summary()"
   ]
  },
  {
   "cell_type": "markdown",
   "metadata": {},
   "source": [
    "Gambaran dari layer-layer Sequential API"
   ]
  },
  {
   "cell_type": "markdown",
   "metadata": {},
   "source": [
    "#### **- Model Training**"
   ]
  },
  {
   "cell_type": "code",
   "execution_count": 47,
   "metadata": {},
   "outputs": [
    {
     "name": "stdout",
     "output_type": "stream",
     "text": [
      "Epoch 1/100\n",
      "20/20 [==============================] - 2s 31ms/step - loss: 0.6819 - accuracy: 0.6918 - val_loss: 0.6430 - val_accuracy: 0.7169\n",
      "Epoch 2/100\n",
      "20/20 [==============================] - 0s 14ms/step - loss: 0.6491 - accuracy: 0.7187 - val_loss: 0.6161 - val_accuracy: 0.7349\n",
      "Epoch 3/100\n",
      "20/20 [==============================] - 0s 15ms/step - loss: 0.6235 - accuracy: 0.7266 - val_loss: 0.5939 - val_accuracy: 0.7355\n",
      "Epoch 4/100\n",
      "20/20 [==============================] - 0s 15ms/step - loss: 0.5997 - accuracy: 0.7266 - val_loss: 0.5726 - val_accuracy: 0.7355\n",
      "Epoch 5/100\n",
      "20/20 [==============================] - 0s 14ms/step - loss: 0.5773 - accuracy: 0.7266 - val_loss: 0.5524 - val_accuracy: 0.7355\n",
      "Epoch 6/100\n",
      "20/20 [==============================] - 0s 16ms/step - loss: 0.5656 - accuracy: 0.7250 - val_loss: 0.5719 - val_accuracy: 0.7653\n",
      "Epoch 7/100\n",
      "20/20 [==============================] - 0s 15ms/step - loss: 0.5864 - accuracy: 0.7702 - val_loss: 0.5712 - val_accuracy: 0.7647\n",
      "Epoch 8/100\n",
      "20/20 [==============================] - 0s 15ms/step - loss: 0.5652 - accuracy: 0.7464 - val_loss: 0.5424 - val_accuracy: 0.7363\n",
      "Epoch 9/100\n",
      "20/20 [==============================] - 0s 15ms/step - loss: 0.5481 - accuracy: 0.7266 - val_loss: 0.5324 - val_accuracy: 0.7355\n",
      "Epoch 10/100\n",
      "20/20 [==============================] - 0s 15ms/step - loss: 0.5408 - accuracy: 0.7266 - val_loss: 0.5294 - val_accuracy: 0.7355\n",
      "Epoch 11/100\n",
      "20/20 [==============================] - 0s 15ms/step - loss: 0.5346 - accuracy: 0.7258 - val_loss: 0.5286 - val_accuracy: 0.7389\n",
      "Epoch 12/100\n",
      "20/20 [==============================] - 0s 15ms/step - loss: 0.5288 - accuracy: 0.7322 - val_loss: 0.5253 - val_accuracy: 0.7447\n",
      "Epoch 13/100\n",
      "20/20 [==============================] - 0s 16ms/step - loss: 0.5235 - accuracy: 0.7361 - val_loss: 0.5231 - val_accuracy: 0.7534\n",
      "Epoch 14/100\n",
      "20/20 [==============================] - 0s 16ms/step - loss: 0.5195 - accuracy: 0.7448 - val_loss: 0.5203 - val_accuracy: 0.7627\n",
      "Epoch 15/100\n",
      "20/20 [==============================] - 0s 16ms/step - loss: 0.5156 - accuracy: 0.7575 - val_loss: 0.5231 - val_accuracy: 0.7690\n",
      "Epoch 16/100\n",
      "20/20 [==============================] - 0s 14ms/step - loss: 0.5123 - accuracy: 0.7686 - val_loss: 0.5205 - val_accuracy: 0.7742\n",
      "Epoch 17/100\n",
      "20/20 [==============================] - 0s 14ms/step - loss: 0.5112 - accuracy: 0.7758 - val_loss: 0.5169 - val_accuracy: 0.7809\n",
      "Epoch 18/100\n",
      "20/20 [==============================] - 0s 14ms/step - loss: 0.5079 - accuracy: 0.7781 - val_loss: 0.5166 - val_accuracy: 0.7793\n",
      "Epoch 19/100\n",
      "20/20 [==============================] - 0s 15ms/step - loss: 0.5064 - accuracy: 0.7829 - val_loss: 0.5176 - val_accuracy: 0.7839\n",
      "Epoch 20/100\n",
      "20/20 [==============================] - 0s 23ms/step - loss: 0.5047 - accuracy: 0.7805 - val_loss: 0.5158 - val_accuracy: 0.7843\n",
      "Epoch 21/100\n",
      "20/20 [==============================] - 0s 15ms/step - loss: 0.5028 - accuracy: 0.7845 - val_loss: 0.5154 - val_accuracy: 0.7835\n",
      "Epoch 22/100\n",
      "20/20 [==============================] - 0s 16ms/step - loss: 0.5094 - accuracy: 0.7829 - val_loss: 0.5145 - val_accuracy: 0.7868\n",
      "Epoch 23/100\n",
      "20/20 [==============================] - 0s 16ms/step - loss: 0.5008 - accuracy: 0.7853 - val_loss: 0.5135 - val_accuracy: 0.7872\n",
      "Epoch 24/100\n",
      "20/20 [==============================] - 0s 15ms/step - loss: 0.4978 - accuracy: 0.7829 - val_loss: 0.5119 - val_accuracy: 0.7863\n",
      "Epoch 25/100\n",
      "20/20 [==============================] - 0s 22ms/step - loss: 0.4987 - accuracy: 0.7829 - val_loss: 0.5126 - val_accuracy: 0.7910\n",
      "Epoch 26/100\n",
      "20/20 [==============================] - 0s 14ms/step - loss: 0.5019 - accuracy: 0.7829 - val_loss: 0.5188 - val_accuracy: 0.7966\n",
      "Epoch 27/100\n",
      "20/20 [==============================] - 0s 16ms/step - loss: 0.5052 - accuracy: 0.7781 - val_loss: 0.5172 - val_accuracy: 0.7884\n",
      "Epoch 28/100\n",
      "20/20 [==============================] - 0s 16ms/step - loss: 0.5064 - accuracy: 0.7781 - val_loss: 0.5269 - val_accuracy: 0.7944\n",
      "Epoch 29/100\n",
      "20/20 [==============================] - 0s 17ms/step - loss: 0.5073 - accuracy: 0.7789 - val_loss: 0.5160 - val_accuracy: 0.7865\n",
      "Epoch 30/100\n",
      "20/20 [==============================] - 0s 16ms/step - loss: 0.5029 - accuracy: 0.7726 - val_loss: 0.5229 - val_accuracy: 0.7853\n",
      "Epoch 31/100\n",
      "20/20 [==============================] - 0s 15ms/step - loss: 0.4919 - accuracy: 0.7773 - val_loss: 0.5098 - val_accuracy: 0.7910\n",
      "Epoch 32/100\n",
      "20/20 [==============================] - 0s 15ms/step - loss: 0.4914 - accuracy: 0.7773 - val_loss: 0.5130 - val_accuracy: 0.7912\n",
      "Epoch 33/100\n",
      "20/20 [==============================] - 0s 16ms/step - loss: 0.4901 - accuracy: 0.7789 - val_loss: 0.5143 - val_accuracy: 0.7918\n",
      "Epoch 34/100\n",
      "20/20 [==============================] - 0s 15ms/step - loss: 0.4892 - accuracy: 0.7797 - val_loss: 0.5125 - val_accuracy: 0.7918\n",
      "Epoch 35/100\n",
      "20/20 [==============================] - 0s 15ms/step - loss: 0.4880 - accuracy: 0.7797 - val_loss: 0.5197 - val_accuracy: 0.7916\n",
      "Epoch 36/100\n",
      "20/20 [==============================] - 0s 14ms/step - loss: 0.4872 - accuracy: 0.7789 - val_loss: 0.5180 - val_accuracy: 0.7936\n",
      "Epoch 37/100\n",
      "20/20 [==============================] - 0s 15ms/step - loss: 0.4877 - accuracy: 0.7821 - val_loss: 0.5119 - val_accuracy: 0.7966\n",
      "Epoch 38/100\n",
      "20/20 [==============================] - 0s 15ms/step - loss: 0.4866 - accuracy: 0.7837 - val_loss: 0.5145 - val_accuracy: 0.7960\n",
      "Epoch 39/100\n",
      "20/20 [==============================] - 0s 15ms/step - loss: 0.4857 - accuracy: 0.7821 - val_loss: 0.5188 - val_accuracy: 0.7956\n",
      "Epoch 40/100\n",
      "20/20 [==============================] - 0s 16ms/step - loss: 0.4848 - accuracy: 0.7853 - val_loss: 0.5172 - val_accuracy: 0.7966\n",
      "Epoch 41/100\n",
      "20/20 [==============================] - 0s 15ms/step - loss: 0.4842 - accuracy: 0.7829 - val_loss: 0.5166 - val_accuracy: 0.7971\n",
      "Epoch 42/100\n",
      "20/20 [==============================] - 0s 15ms/step - loss: 0.4838 - accuracy: 0.7845 - val_loss: 0.5162 - val_accuracy: 0.7964\n",
      "Epoch 43/100\n",
      "20/20 [==============================] - 0s 14ms/step - loss: 0.4828 - accuracy: 0.7813 - val_loss: 0.5183 - val_accuracy: 0.7966\n",
      "Epoch 44/100\n",
      "20/20 [==============================] - 0s 15ms/step - loss: 0.4842 - accuracy: 0.7829 - val_loss: 0.5152 - val_accuracy: 0.7975\n",
      "Epoch 45/100\n",
      "20/20 [==============================] - 0s 14ms/step - loss: 0.4818 - accuracy: 0.7821 - val_loss: 0.5149 - val_accuracy: 0.7958\n",
      "Epoch 46/100\n",
      "20/20 [==============================] - 0s 15ms/step - loss: 0.4814 - accuracy: 0.7829 - val_loss: 0.5152 - val_accuracy: 0.7966\n",
      "Epoch 47/100\n",
      "20/20 [==============================] - 0s 15ms/step - loss: 0.4814 - accuracy: 0.7821 - val_loss: 0.5155 - val_accuracy: 0.7966\n",
      "Epoch 48/100\n",
      "20/20 [==============================] - 0s 15ms/step - loss: 0.4804 - accuracy: 0.7845 - val_loss: 0.5217 - val_accuracy: 0.7977\n",
      "Epoch 49/100\n",
      "20/20 [==============================] - 0s 15ms/step - loss: 0.4808 - accuracy: 0.7821 - val_loss: 0.5138 - val_accuracy: 0.7966\n",
      "Epoch 50/100\n",
      "20/20 [==============================] - 0s 15ms/step - loss: 0.4808 - accuracy: 0.7845 - val_loss: 0.5106 - val_accuracy: 0.7960\n",
      "Epoch 51/100\n",
      "20/20 [==============================] - 0s 15ms/step - loss: 0.4793 - accuracy: 0.7845 - val_loss: 0.5224 - val_accuracy: 0.7989\n",
      "Epoch 52/100\n",
      "20/20 [==============================] - 0s 15ms/step - loss: 0.4793 - accuracy: 0.7829 - val_loss: 0.5185 - val_accuracy: 0.7964\n",
      "Epoch 53/100\n",
      "20/20 [==============================] - 0s 15ms/step - loss: 0.4787 - accuracy: 0.7837 - val_loss: 0.5184 - val_accuracy: 0.7973\n",
      "Epoch 54/100\n",
      "20/20 [==============================] - 0s 15ms/step - loss: 0.4779 - accuracy: 0.7837 - val_loss: 0.5223 - val_accuracy: 0.7971\n",
      "Epoch 55/100\n",
      "20/20 [==============================] - 0s 15ms/step - loss: 0.4778 - accuracy: 0.7861 - val_loss: 0.5194 - val_accuracy: 0.7969\n",
      "Epoch 56/100\n",
      "20/20 [==============================] - 0s 15ms/step - loss: 0.4772 - accuracy: 0.7876 - val_loss: 0.5222 - val_accuracy: 0.7960\n",
      "Epoch 57/100\n",
      "20/20 [==============================] - 0s 14ms/step - loss: 0.4769 - accuracy: 0.7868 - val_loss: 0.5222 - val_accuracy: 0.7958\n",
      "Epoch 58/100\n",
      "20/20 [==============================] - 0s 15ms/step - loss: 0.4768 - accuracy: 0.7868 - val_loss: 0.5231 - val_accuracy: 0.7968\n",
      "Epoch 59/100\n",
      "20/20 [==============================] - 0s 16ms/step - loss: 0.4773 - accuracy: 0.7868 - val_loss: 0.5222 - val_accuracy: 0.7968\n",
      "Epoch 60/100\n",
      "20/20 [==============================] - 0s 15ms/step - loss: 0.4759 - accuracy: 0.7868 - val_loss: 0.5222 - val_accuracy: 0.7969\n",
      "Epoch 61/100\n",
      "20/20 [==============================] - 0s 14ms/step - loss: 0.4758 - accuracy: 0.7861 - val_loss: 0.5177 - val_accuracy: 0.7952\n",
      "Epoch 62/100\n",
      "20/20 [==============================] - 0s 15ms/step - loss: 0.4761 - accuracy: 0.7861 - val_loss: 0.5188 - val_accuracy: 0.7969\n",
      "Epoch 63/100\n",
      "20/20 [==============================] - 0s 15ms/step - loss: 0.4746 - accuracy: 0.7861 - val_loss: 0.5221 - val_accuracy: 0.7973\n",
      "Epoch 64/100\n",
      "20/20 [==============================] - 0s 15ms/step - loss: 0.4749 - accuracy: 0.7861 - val_loss: 0.5196 - val_accuracy: 0.7966\n",
      "Epoch 65/100\n",
      "20/20 [==============================] - 0s 16ms/step - loss: 0.4740 - accuracy: 0.7853 - val_loss: 0.5220 - val_accuracy: 0.7979\n",
      "Epoch 66/100\n",
      "20/20 [==============================] - 0s 15ms/step - loss: 0.4740 - accuracy: 0.7845 - val_loss: 0.5220 - val_accuracy: 0.7977\n",
      "Epoch 67/100\n",
      "20/20 [==============================] - 0s 15ms/step - loss: 0.4742 - accuracy: 0.7845 - val_loss: 0.5194 - val_accuracy: 0.7973\n",
      "Epoch 68/100\n",
      "20/20 [==============================] - 0s 16ms/step - loss: 0.4734 - accuracy: 0.7853 - val_loss: 0.5204 - val_accuracy: 0.7971\n",
      "Epoch 69/100\n",
      "20/20 [==============================] - 0s 15ms/step - loss: 0.4740 - accuracy: 0.7861 - val_loss: 0.5179 - val_accuracy: 0.7960\n",
      "Epoch 70/100\n",
      "20/20 [==============================] - 0s 15ms/step - loss: 0.4729 - accuracy: 0.7861 - val_loss: 0.5220 - val_accuracy: 0.7979\n",
      "Epoch 71/100\n",
      "20/20 [==============================] - 0s 15ms/step - loss: 0.4724 - accuracy: 0.7845 - val_loss: 0.5184 - val_accuracy: 0.7971\n",
      "Epoch 72/100\n",
      "20/20 [==============================] - 0s 15ms/step - loss: 0.4722 - accuracy: 0.7853 - val_loss: 0.5180 - val_accuracy: 0.7971\n",
      "Epoch 73/100\n",
      "20/20 [==============================] - 0s 15ms/step - loss: 0.4727 - accuracy: 0.7853 - val_loss: 0.5163 - val_accuracy: 0.7966\n",
      "Epoch 74/100\n",
      "20/20 [==============================] - 0s 15ms/step - loss: 0.4722 - accuracy: 0.7868 - val_loss: 0.5177 - val_accuracy: 0.7968\n",
      "Epoch 75/100\n",
      "20/20 [==============================] - 0s 16ms/step - loss: 0.4715 - accuracy: 0.7900 - val_loss: 0.5218 - val_accuracy: 0.7973\n",
      "Epoch 76/100\n",
      "20/20 [==============================] - 0s 15ms/step - loss: 0.4715 - accuracy: 0.7868 - val_loss: 0.5163 - val_accuracy: 0.7969\n",
      "Epoch 77/100\n",
      "20/20 [==============================] - 0s 15ms/step - loss: 0.4711 - accuracy: 0.7868 - val_loss: 0.5210 - val_accuracy: 0.7977\n",
      "Epoch 78/100\n",
      "20/20 [==============================] - 0s 15ms/step - loss: 0.4718 - accuracy: 0.7829 - val_loss: 0.5160 - val_accuracy: 0.7977\n",
      "Epoch 79/100\n",
      "20/20 [==============================] - 0s 15ms/step - loss: 0.4704 - accuracy: 0.7868 - val_loss: 0.5178 - val_accuracy: 0.7983\n",
      "Epoch 80/100\n",
      "20/20 [==============================] - 0s 16ms/step - loss: 0.4703 - accuracy: 0.7876 - val_loss: 0.5155 - val_accuracy: 0.7973\n",
      "Epoch 81/100\n",
      "20/20 [==============================] - 0s 16ms/step - loss: 0.4702 - accuracy: 0.7876 - val_loss: 0.5153 - val_accuracy: 0.7973\n",
      "Epoch 82/100\n",
      "20/20 [==============================] - 0s 16ms/step - loss: 0.4697 - accuracy: 0.7853 - val_loss: 0.5153 - val_accuracy: 0.7975\n",
      "Epoch 83/100\n",
      "20/20 [==============================] - 0s 16ms/step - loss: 0.4708 - accuracy: 0.7861 - val_loss: 0.5172 - val_accuracy: 0.7981\n",
      "Epoch 84/100\n",
      "20/20 [==============================] - 0s 16ms/step - loss: 0.4763 - accuracy: 0.7853 - val_loss: 0.5205 - val_accuracy: 0.7987\n",
      "Epoch 85/100\n",
      "20/20 [==============================] - 0s 16ms/step - loss: 0.4903 - accuracy: 0.7845 - val_loss: 0.5155 - val_accuracy: 0.7975\n",
      "Epoch 86/100\n",
      "20/20 [==============================] - 0s 14ms/step - loss: 0.4687 - accuracy: 0.7868 - val_loss: 0.5172 - val_accuracy: 0.7989\n",
      "Epoch 87/100\n",
      "20/20 [==============================] - 0s 15ms/step - loss: 0.4702 - accuracy: 0.7876 - val_loss: 0.5167 - val_accuracy: 0.7979\n",
      "Epoch 88/100\n",
      "20/20 [==============================] - 0s 14ms/step - loss: 0.4681 - accuracy: 0.7892 - val_loss: 0.5223 - val_accuracy: 0.7989\n",
      "Epoch 89/100\n",
      "20/20 [==============================] - 0s 15ms/step - loss: 0.4801 - accuracy: 0.7781 - val_loss: 0.5151 - val_accuracy: 0.7958\n",
      "Epoch 90/100\n",
      "20/20 [==============================] - 0s 14ms/step - loss: 0.4709 - accuracy: 0.7845 - val_loss: 0.5269 - val_accuracy: 0.7971\n",
      "Epoch 91/100\n",
      "20/20 [==============================] - 0s 15ms/step - loss: 0.4685 - accuracy: 0.7845 - val_loss: 0.5205 - val_accuracy: 0.7971\n",
      "Epoch 92/100\n",
      "20/20 [==============================] - 0s 16ms/step - loss: 0.4678 - accuracy: 0.7861 - val_loss: 0.5182 - val_accuracy: 0.7989\n",
      "Epoch 93/100\n",
      "20/20 [==============================] - 0s 17ms/step - loss: 0.4677 - accuracy: 0.7853 - val_loss: 0.5195 - val_accuracy: 0.7983\n",
      "Epoch 94/100\n",
      "20/20 [==============================] - 0s 14ms/step - loss: 0.4679 - accuracy: 0.7876 - val_loss: 0.5193 - val_accuracy: 0.7977\n",
      "Epoch 95/100\n",
      "20/20 [==============================] - 0s 15ms/step - loss: 0.4671 - accuracy: 0.7900 - val_loss: 0.5195 - val_accuracy: 0.7985\n",
      "Epoch 96/100\n",
      "20/20 [==============================] - 0s 15ms/step - loss: 0.4676 - accuracy: 0.7868 - val_loss: 0.5183 - val_accuracy: 0.7968\n",
      "Epoch 97/100\n",
      "20/20 [==============================] - 0s 14ms/step - loss: 0.4665 - accuracy: 0.7908 - val_loss: 0.5198 - val_accuracy: 0.7983\n",
      "Epoch 98/100\n",
      "20/20 [==============================] - 0s 15ms/step - loss: 0.4676 - accuracy: 0.7876 - val_loss: 0.5182 - val_accuracy: 0.7968\n",
      "Epoch 99/100\n",
      "20/20 [==============================] - 0s 15ms/step - loss: 0.4673 - accuracy: 0.7892 - val_loss: 0.5145 - val_accuracy: 0.7968\n",
      "Epoch 100/100\n",
      "20/20 [==============================] - 0s 14ms/step - loss: 0.4661 - accuracy: 0.7884 - val_loss: 0.5207 - val_accuracy: 0.7979\n"
     ]
    }
   ],
   "source": [
    "history3 = model2.fit(train_dataset, epochs=100,\n",
    "                    validation_data=val_dataset, verbose=1, callbacks=[callback])"
   ]
  },
  {
   "cell_type": "markdown",
   "metadata": {},
   "source": [
    "Proses fit model sequential yang telah diimprove"
   ]
  },
  {
   "cell_type": "markdown",
   "metadata": {},
   "source": [
    "#### **- Model Evaluation**"
   ]
  },
  {
   "cell_type": "code",
   "execution_count": 48,
   "metadata": {},
   "outputs": [
    {
     "data": {
      "text/html": [
       "<div>\n",
       "<style scoped>\n",
       "    .dataframe tbody tr th:only-of-type {\n",
       "        vertical-align: middle;\n",
       "    }\n",
       "\n",
       "    .dataframe tbody tr th {\n",
       "        vertical-align: top;\n",
       "    }\n",
       "\n",
       "    .dataframe thead th {\n",
       "        text-align: right;\n",
       "    }\n",
       "</style>\n",
       "<table border=\"1\" class=\"dataframe\">\n",
       "  <thead>\n",
       "    <tr style=\"text-align: right;\">\n",
       "      <th></th>\n",
       "      <th>loss</th>\n",
       "      <th>accuracy</th>\n",
       "      <th>val_loss</th>\n",
       "      <th>val_accuracy</th>\n",
       "    </tr>\n",
       "  </thead>\n",
       "  <tbody>\n",
       "    <tr>\n",
       "      <th>0</th>\n",
       "      <td>0.681911</td>\n",
       "      <td>0.691759</td>\n",
       "      <td>0.642954</td>\n",
       "      <td>0.716918</td>\n",
       "    </tr>\n",
       "    <tr>\n",
       "      <th>1</th>\n",
       "      <td>0.649143</td>\n",
       "      <td>0.718700</td>\n",
       "      <td>0.616072</td>\n",
       "      <td>0.734945</td>\n",
       "    </tr>\n",
       "    <tr>\n",
       "      <th>2</th>\n",
       "      <td>0.623474</td>\n",
       "      <td>0.726624</td>\n",
       "      <td>0.593885</td>\n",
       "      <td>0.735539</td>\n",
       "    </tr>\n",
       "    <tr>\n",
       "      <th>3</th>\n",
       "      <td>0.599699</td>\n",
       "      <td>0.726624</td>\n",
       "      <td>0.572646</td>\n",
       "      <td>0.735539</td>\n",
       "    </tr>\n",
       "    <tr>\n",
       "      <th>4</th>\n",
       "      <td>0.577273</td>\n",
       "      <td>0.726624</td>\n",
       "      <td>0.552416</td>\n",
       "      <td>0.735539</td>\n",
       "    </tr>\n",
       "  </tbody>\n",
       "</table>\n",
       "</div>"
      ],
      "text/plain": [
       "       loss  accuracy  val_loss  val_accuracy\n",
       "0  0.681911  0.691759  0.642954      0.716918\n",
       "1  0.649143  0.718700  0.616072      0.734945\n",
       "2  0.623474  0.726624  0.593885      0.735539\n",
       "3  0.599699  0.726624  0.572646      0.735539\n",
       "4  0.577273  0.726624  0.552416      0.735539"
      ]
     },
     "execution_count": 48,
     "metadata": {},
     "output_type": "execute_result"
    }
   ],
   "source": [
    "metrics3 = pd.DataFrame(history3.history)\n",
    "metrics3.head()"
   ]
  },
  {
   "cell_type": "markdown",
   "metadata": {},
   "source": [
    "Metrics accuracy hasil dari training dibuat ke dalam dataframe"
   ]
  },
  {
   "cell_type": "code",
   "execution_count": 49,
   "metadata": {},
   "outputs": [
    {
     "data": {
      "text/plain": [
       "(0.4, 0.9)"
      ]
     },
     "execution_count": 49,
     "metadata": {},
     "output_type": "execute_result"
    },
    {
     "data": {
      "image/png": "[encoded data removed]",
      "text/plain": [
       "<Figure size 432x288 with 1 Axes>"
      ]
     },
     "metadata": {
      "needs_background": "light"
     },
     "output_type": "display_data"
    }
   ],
   "source": [
    "metrics3[['loss','val_loss']].plot()\n",
    "plt.ylim(0.4,0.9)"
   ]
  },
  {
   "cell_type": "markdown",
   "metadata": {},
   "source": [
    "Plotting metrics sequential yang sudah diimprove, terlihat sudah tidak ada gradient exploding. Model mulai good fit di sekitar epoch 10. Ketika epoch makin banyak makin melebar garisnya adalah hal wajar karena model semakin kompleks."
   ]
  },
  {
   "cell_type": "markdown",
   "metadata": {},
   "source": [
    "----\n",
    "\n",
    "### *Functional API Before Improvement*"
   ]
  },
  {
   "cell_type": "markdown",
   "metadata": {},
   "source": [
    "#### **- Model Definition**"
   ]
  },
  {
   "cell_type": "code",
   "execution_count": 50,
   "metadata": {},
   "outputs": [],
   "source": [
    "input_ = keras.layers.Input(shape=(37,))\n",
    "hidden1 = keras.layers.Dense(32, activation=\"relu\")(input_)\n",
    "hidden2 = keras.layers.Dense(16, activation=\"relu\")(hidden1)\n",
    "concat = keras.layers.concatenate([input_, hidden2])\n",
    "output = keras.layers.Dense(1)(concat)\n",
    "modelfunc = keras.models.Model(inputs=[input_], outputs=[output])"
   ]
  },
  {
   "cell_type": "markdown",
   "metadata": {},
   "source": [
    "Membuat model functional awal dengan 1 input layer, 2 hidden layer dan 1 output layer. Pada 2 hidden layer menggunakan activation 'relu'"
   ]
  },
  {
   "cell_type": "code",
   "execution_count": 51,
   "metadata": {},
   "outputs": [
    {
     "name": "stdout",
     "output_type": "stream",
     "text": [
      "Model: \"model\"\n",
      "__________________________________________________________________________________________________\n",
      " Layer (type)                   Output Shape         Param #     Connected to                     \n",
      "==================================================================================================\n",
      " input_1 (InputLayer)           [(None, 37)]         0           []                               \n",
      "                                                                                                  \n",
      " dense_11 (Dense)               (None, 32)           1216        ['input_1[0][0]']                \n",
      "                                                                                                  \n",
      " dense_12 (Dense)               (None, 16)           528         ['dense_11[0][0]']               \n",
      "                                                                                                  \n",
      " concatenate (Concatenate)      (None, 53)           0           ['input_1[0][0]',                \n",
      "                                                                  'dense_12[0][0]']               \n",
      "                                                                                                  \n",
      " dense_13 (Dense)               (None, 1)            54          ['concatenate[0][0]']            \n",
      "                                                                                                  \n",
      "==================================================================================================\n",
      "Total params: 1,798\n",
      "Trainable params: 1,798\n",
      "Non-trainable params: 0\n",
      "__________________________________________________________________________________________________\n"
     ]
    }
   ],
   "source": [
    "modelfunc.summary()"
   ]
  },
  {
   "cell_type": "markdown",
   "metadata": {},
   "source": [
    "Summary dari model sequential API yang belum diimprove."
   ]
  },
  {
   "cell_type": "code",
   "execution_count": 52,
   "metadata": {},
   "outputs": [],
   "source": [
    "modelfunc.compile(loss='binary_crossentropy' , optimizer='Adam',metrics=['accuracy'])\n",
    "\n",
    "# mse_test = model.evaluate(X_test_trf, y_test)\n",
    "# y_pred = model.predict(X_test_trf)"
   ]
  },
  {
   "cell_type": "markdown",
   "metadata": {},
   "source": [
    "Proses compile dengan memasukkan loss=binary_crossentropy dan metrics=accuracy karena target yang akan diprediksi bersifat binary dan klasifikasi."
   ]
  },
  {
   "cell_type": "code",
   "execution_count": 53,
   "metadata": {},
   "outputs": [
    {
     "data": {
      "image/png": "[encoded data removed]",
      "text/plain": [
       "<IPython.core.display.Image object>"
      ]
     },
     "execution_count": 53,
     "metadata": {},
     "output_type": "execute_result"
    }
   ],
   "source": [
    "plot_model(modelfunc, show_shapes= True)"
   ]
  },
  {
   "cell_type": "markdown",
   "metadata": {},
   "source": [
    "Gambaran dari layer-layer Sequential API"
   ]
  },
  {
   "cell_type": "markdown",
   "metadata": {},
   "source": [
    "#### **- Model Training**"
   ]
  },
  {
   "cell_type": "code",
   "execution_count": 54,
   "metadata": {},
   "outputs": [
    {
     "name": "stdout",
     "output_type": "stream",
     "text": [
      "Epoch 1/100\n",
      "20/20 [==============================] - 2s 32ms/step - loss: 5.5050 - accuracy: 0.4184 - val_loss: 4.6071 - val_accuracy: 0.5297\n",
      "Epoch 2/100\n",
      "20/20 [==============================] - 0s 17ms/step - loss: 4.4305 - accuracy: 0.5531 - val_loss: 4.1144 - val_accuracy: 0.6317\n",
      "Epoch 3/100\n",
      "20/20 [==============================] - 0s 14ms/step - loss: 4.0470 - accuracy: 0.6046 - val_loss: 3.9835 - val_accuracy: 0.6169\n",
      "Epoch 4/100\n",
      "20/20 [==============================] - 0s 15ms/step - loss: 3.8912 - accuracy: 0.6101 - val_loss: 3.8869 - val_accuracy: 0.6521\n",
      "Epoch 5/100\n",
      "20/20 [==============================] - 0s 14ms/step - loss: 3.7949 - accuracy: 0.6371 - val_loss: 3.7957 - val_accuracy: 0.6575\n",
      "Epoch 6/100\n",
      "20/20 [==============================] - 0s 14ms/step - loss: 3.7130 - accuracy: 0.6371 - val_loss: 3.7324 - val_accuracy: 0.6638\n",
      "Epoch 7/100\n",
      "20/20 [==============================] - 0s 14ms/step - loss: 3.6814 - accuracy: 0.6521 - val_loss: 3.7106 - val_accuracy: 0.6747\n",
      "Epoch 8/100\n",
      "20/20 [==============================] - 0s 14ms/step - loss: 3.6634 - accuracy: 0.6577 - val_loss: 3.6990 - val_accuracy: 0.6773\n",
      "Epoch 9/100\n",
      "20/20 [==============================] - 0s 14ms/step - loss: 3.6520 - accuracy: 0.6648 - val_loss: 3.6820 - val_accuracy: 0.6809\n",
      "Epoch 10/100\n",
      "20/20 [==============================] - 0s 15ms/step - loss: 3.6191 - accuracy: 0.6680 - val_loss: 3.6586 - val_accuracy: 0.6870\n",
      "Epoch 11/100\n",
      "20/20 [==============================] - 0s 14ms/step - loss: 3.5812 - accuracy: 0.6759 - val_loss: 3.6345 - val_accuracy: 0.6900\n",
      "Epoch 12/100\n",
      "20/20 [==============================] - 0s 14ms/step - loss: 3.5616 - accuracy: 0.6799 - val_loss: 3.6038 - val_accuracy: 0.6906\n",
      "Epoch 13/100\n",
      "20/20 [==============================] - 0s 14ms/step - loss: 3.5291 - accuracy: 0.6807 - val_loss: 3.5376 - val_accuracy: 0.6896\n",
      "Epoch 14/100\n",
      "20/20 [==============================] - 0s 14ms/step - loss: 3.5080 - accuracy: 0.6830 - val_loss: 3.5453 - val_accuracy: 0.6943\n",
      "Epoch 15/100\n",
      "20/20 [==============================] - 0s 13ms/step - loss: 3.4989 - accuracy: 0.6862 - val_loss: 3.5267 - val_accuracy: 0.6975\n",
      "Epoch 16/100\n",
      "20/20 [==============================] - 0s 15ms/step - loss: 3.4917 - accuracy: 0.6886 - val_loss: 3.5176 - val_accuracy: 0.7019\n",
      "Epoch 17/100\n",
      "20/20 [==============================] - 0s 15ms/step - loss: 3.4782 - accuracy: 0.6933 - val_loss: 3.4714 - val_accuracy: 0.7017\n",
      "Epoch 18/100\n",
      "20/20 [==============================] - 0s 16ms/step - loss: 3.2992 - accuracy: 0.6862 - val_loss: 2.9229 - val_accuracy: 0.6890\n",
      "Epoch 19/100\n",
      "20/20 [==============================] - 0s 16ms/step - loss: 2.7223 - accuracy: 0.6767 - val_loss: 2.0828 - val_accuracy: 0.6654\n",
      "Epoch 20/100\n",
      "20/20 [==============================] - 0s 15ms/step - loss: 2.1855 - accuracy: 0.5998 - val_loss: 2.0787 - val_accuracy: 0.6458\n",
      "Epoch 21/100\n",
      "20/20 [==============================] - 0s 14ms/step - loss: 1.9340 - accuracy: 0.6775 - val_loss: 1.9098 - val_accuracy: 0.7120\n",
      "Epoch 22/100\n",
      "20/20 [==============================] - 0s 14ms/step - loss: 1.9420 - accuracy: 0.7235 - val_loss: 1.8512 - val_accuracy: 0.7205\n",
      "Epoch 23/100\n",
      "20/20 [==============================] - 0s 13ms/step - loss: 1.6365 - accuracy: 0.6973 - val_loss: 1.7228 - val_accuracy: 0.7058\n",
      "Epoch 24/100\n",
      "20/20 [==============================] - 0s 14ms/step - loss: 1.5032 - accuracy: 0.7163 - val_loss: 1.6308 - val_accuracy: 0.7397\n",
      "Epoch 25/100\n",
      "20/20 [==============================] - 0s 14ms/step - loss: 1.5064 - accuracy: 0.7361 - val_loss: 1.6008 - val_accuracy: 0.7506\n",
      "Epoch 26/100\n",
      "20/20 [==============================] - 0s 14ms/step - loss: 1.4306 - accuracy: 0.7338 - val_loss: 1.5388 - val_accuracy: 0.7520\n",
      "Epoch 27/100\n",
      "20/20 [==============================] - 0s 15ms/step - loss: 1.4029 - accuracy: 0.7417 - val_loss: 1.5121 - val_accuracy: 0.7553\n",
      "Epoch 28/100\n",
      "20/20 [==============================] - 0s 13ms/step - loss: 1.3364 - accuracy: 0.7425 - val_loss: 1.4653 - val_accuracy: 0.7573\n",
      "Epoch 29/100\n",
      "20/20 [==============================] - 0s 16ms/step - loss: 1.3023 - accuracy: 0.7464 - val_loss: 1.4165 - val_accuracy: 0.7611\n",
      "Epoch 30/100\n",
      "20/20 [==============================] - 0s 15ms/step - loss: 1.2896 - accuracy: 0.7528 - val_loss: 1.3925 - val_accuracy: 0.7629\n",
      "Epoch 31/100\n",
      "20/20 [==============================] - 0s 14ms/step - loss: 1.2737 - accuracy: 0.7686 - val_loss: 1.4020 - val_accuracy: 0.7704\n",
      "Epoch 32/100\n",
      "20/20 [==============================] - 0s 14ms/step - loss: 1.2219 - accuracy: 0.7710 - val_loss: 1.2724 - val_accuracy: 0.7668\n",
      "Epoch 33/100\n",
      "20/20 [==============================] - 0s 14ms/step - loss: 1.2403 - accuracy: 0.7393 - val_loss: 1.3861 - val_accuracy: 0.7340\n",
      "Epoch 34/100\n",
      "20/20 [==============================] - 0s 15ms/step - loss: 1.1151 - accuracy: 0.7567 - val_loss: 1.1416 - val_accuracy: 0.7591\n",
      "Epoch 35/100\n",
      "20/20 [==============================] - 0s 15ms/step - loss: 1.0656 - accuracy: 0.7750 - val_loss: 1.1792 - val_accuracy: 0.7656\n",
      "Epoch 36/100\n",
      "20/20 [==============================] - 0s 14ms/step - loss: 1.2163 - accuracy: 0.7369 - val_loss: 2.0191 - val_accuracy: 0.6408\n",
      "Epoch 37/100\n",
      "20/20 [==============================] - 0s 14ms/step - loss: 1.7554 - accuracy: 0.6450 - val_loss: 1.3560 - val_accuracy: 0.6803\n",
      "Epoch 38/100\n",
      "20/20 [==============================] - 0s 14ms/step - loss: 1.1066 - accuracy: 0.6997 - val_loss: 0.9622 - val_accuracy: 0.7330\n",
      "Epoch 39/100\n",
      "20/20 [==============================] - 0s 16ms/step - loss: 0.9591 - accuracy: 0.7623 - val_loss: 0.9853 - val_accuracy: 0.7433\n",
      "Epoch 40/100\n",
      "20/20 [==============================] - 0s 15ms/step - loss: 0.8974 - accuracy: 0.7670 - val_loss: 0.8862 - val_accuracy: 0.7443\n",
      "Epoch 41/100\n",
      "20/20 [==============================] - 0s 14ms/step - loss: 0.7676 - accuracy: 0.7670 - val_loss: 0.7532 - val_accuracy: 0.7482\n",
      "Epoch 42/100\n",
      "20/20 [==============================] - 0s 14ms/step - loss: 0.7250 - accuracy: 0.7639 - val_loss: 0.7372 - val_accuracy: 0.7441\n",
      "Epoch 43/100\n",
      "20/20 [==============================] - 0s 14ms/step - loss: 0.7150 - accuracy: 0.7655 - val_loss: 0.7425 - val_accuracy: 0.7522\n",
      "Epoch 44/100\n",
      "20/20 [==============================] - 0s 14ms/step - loss: 0.7013 - accuracy: 0.7694 - val_loss: 0.6975 - val_accuracy: 0.7464\n",
      "Epoch 45/100\n",
      "20/20 [==============================] - 0s 14ms/step - loss: 0.6573 - accuracy: 0.7567 - val_loss: 0.7681 - val_accuracy: 0.6975\n",
      "Epoch 46/100\n",
      "20/20 [==============================] - 0s 16ms/step - loss: 0.6322 - accuracy: 0.7345 - val_loss: 0.6687 - val_accuracy: 0.7258\n",
      "Epoch 47/100\n",
      "20/20 [==============================] - 0s 15ms/step - loss: 0.5981 - accuracy: 0.7520 - val_loss: 0.6644 - val_accuracy: 0.7359\n",
      "Epoch 48/100\n",
      "20/20 [==============================] - 0s 15ms/step - loss: 0.5781 - accuracy: 0.7528 - val_loss: 0.6570 - val_accuracy: 0.7393\n",
      "Epoch 49/100\n",
      "20/20 [==============================] - 0s 14ms/step - loss: 0.5698 - accuracy: 0.7583 - val_loss: 0.6584 - val_accuracy: 0.7466\n",
      "Epoch 50/100\n",
      "20/20 [==============================] - 0s 15ms/step - loss: 0.5614 - accuracy: 0.7726 - val_loss: 0.6647 - val_accuracy: 0.7548\n",
      "Epoch 51/100\n",
      "20/20 [==============================] - 0s 13ms/step - loss: 0.5563 - accuracy: 0.7797 - val_loss: 0.6572 - val_accuracy: 0.7593\n",
      "Epoch 52/100\n",
      "20/20 [==============================] - 0s 14ms/step - loss: 0.5520 - accuracy: 0.7821 - val_loss: 0.6542 - val_accuracy: 0.7617\n",
      "Epoch 53/100\n",
      "20/20 [==============================] - 0s 14ms/step - loss: 0.5478 - accuracy: 0.7813 - val_loss: 0.6441 - val_accuracy: 0.7653\n",
      "Epoch 54/100\n",
      "20/20 [==============================] - 0s 13ms/step - loss: 0.5442 - accuracy: 0.7861 - val_loss: 0.6403 - val_accuracy: 0.7676\n",
      "Epoch 55/100\n",
      "20/20 [==============================] - 0s 14ms/step - loss: 0.5409 - accuracy: 0.7868 - val_loss: 0.6314 - val_accuracy: 0.7700\n",
      "Epoch 56/100\n",
      "20/20 [==============================] - 0s 14ms/step - loss: 0.5379 - accuracy: 0.7868 - val_loss: 0.6267 - val_accuracy: 0.7732\n",
      "Epoch 57/100\n",
      "20/20 [==============================] - 0s 14ms/step - loss: 0.5352 - accuracy: 0.7861 - val_loss: 0.6269 - val_accuracy: 0.7761\n",
      "Epoch 58/100\n",
      "20/20 [==============================] - 0s 15ms/step - loss: 0.5320 - accuracy: 0.7861 - val_loss: 0.6178 - val_accuracy: 0.7763\n",
      "Epoch 59/100\n",
      "20/20 [==============================] - 0s 14ms/step - loss: 0.5294 - accuracy: 0.7861 - val_loss: 0.6237 - val_accuracy: 0.7775\n",
      "Epoch 60/100\n",
      "20/20 [==============================] - 0s 14ms/step - loss: 0.5275 - accuracy: 0.7868 - val_loss: 0.6205 - val_accuracy: 0.7785\n",
      "Epoch 61/100\n",
      "20/20 [==============================] - 0s 14ms/step - loss: 0.5255 - accuracy: 0.7884 - val_loss: 0.6131 - val_accuracy: 0.7781\n",
      "Epoch 62/100\n",
      "20/20 [==============================] - 0s 14ms/step - loss: 0.5149 - accuracy: 0.7892 - val_loss: 0.6016 - val_accuracy: 0.7767\n",
      "Epoch 63/100\n",
      "20/20 [==============================] - 0s 14ms/step - loss: 0.5123 - accuracy: 0.7940 - val_loss: 0.6107 - val_accuracy: 0.7801\n",
      "Epoch 64/100\n",
      "20/20 [==============================] - 0s 14ms/step - loss: 0.5096 - accuracy: 0.7940 - val_loss: 0.6176 - val_accuracy: 0.7821\n",
      "Epoch 65/100\n",
      "20/20 [==============================] - 0s 14ms/step - loss: 0.5079 - accuracy: 0.7916 - val_loss: 0.6166 - val_accuracy: 0.7831\n",
      "Epoch 66/100\n",
      "20/20 [==============================] - 0s 15ms/step - loss: 0.5062 - accuracy: 0.7964 - val_loss: 0.6188 - val_accuracy: 0.7837\n",
      "Epoch 67/100\n",
      "20/20 [==============================] - 0s 14ms/step - loss: 0.5047 - accuracy: 0.7979 - val_loss: 0.6154 - val_accuracy: 0.7847\n",
      "Epoch 68/100\n",
      "20/20 [==============================] - 0s 14ms/step - loss: 0.5032 - accuracy: 0.7971 - val_loss: 0.6083 - val_accuracy: 0.7841\n",
      "Epoch 69/100\n",
      "20/20 [==============================] - 0s 14ms/step - loss: 0.5020 - accuracy: 0.8011 - val_loss: 0.6157 - val_accuracy: 0.7861\n",
      "Epoch 70/100\n",
      "20/20 [==============================] - 0s 14ms/step - loss: 0.5005 - accuracy: 0.7971 - val_loss: 0.6055 - val_accuracy: 0.7866\n",
      "Epoch 71/100\n",
      "20/20 [==============================] - 0s 15ms/step - loss: 0.4996 - accuracy: 0.8003 - val_loss: 0.6090 - val_accuracy: 0.7859\n",
      "Epoch 72/100\n",
      "20/20 [==============================] - 0s 15ms/step - loss: 0.4982 - accuracy: 0.8003 - val_loss: 0.6045 - val_accuracy: 0.7863\n",
      "Epoch 73/100\n",
      "20/20 [==============================] - 0s 15ms/step - loss: 0.4970 - accuracy: 0.7979 - val_loss: 0.6069 - val_accuracy: 0.7870\n",
      "Epoch 74/100\n",
      "20/20 [==============================] - 0s 16ms/step - loss: 0.4960 - accuracy: 0.7979 - val_loss: 0.6066 - val_accuracy: 0.7870\n",
      "Epoch 75/100\n",
      "20/20 [==============================] - 0s 16ms/step - loss: 0.4950 - accuracy: 0.8019 - val_loss: 0.5981 - val_accuracy: 0.7876\n",
      "Epoch 76/100\n",
      "20/20 [==============================] - 0s 15ms/step - loss: 0.4940 - accuracy: 0.8027 - val_loss: 0.6007 - val_accuracy: 0.7880\n",
      "Epoch 77/100\n",
      "20/20 [==============================] - 0s 16ms/step - loss: 0.4932 - accuracy: 0.8043 - val_loss: 0.6020 - val_accuracy: 0.7878\n",
      "Epoch 78/100\n",
      "20/20 [==============================] - 0s 15ms/step - loss: 0.4922 - accuracy: 0.8043 - val_loss: 0.6041 - val_accuracy: 0.7892\n",
      "Epoch 79/100\n",
      "20/20 [==============================] - 0s 14ms/step - loss: 0.4917 - accuracy: 0.8035 - val_loss: 0.6039 - val_accuracy: 0.7888\n",
      "Epoch 80/100\n",
      "20/20 [==============================] - 0s 14ms/step - loss: 0.4909 - accuracy: 0.8043 - val_loss: 0.6009 - val_accuracy: 0.7882\n",
      "Epoch 81/100\n",
      "20/20 [==============================] - 0s 14ms/step - loss: 0.4896 - accuracy: 0.8043 - val_loss: 0.5984 - val_accuracy: 0.7882\n",
      "Epoch 82/100\n",
      "20/20 [==============================] - 0s 14ms/step - loss: 0.4890 - accuracy: 0.8051 - val_loss: 0.6035 - val_accuracy: 0.7886\n",
      "Epoch 83/100\n",
      "20/20 [==============================] - 0s 14ms/step - loss: 0.4881 - accuracy: 0.8043 - val_loss: 0.6035 - val_accuracy: 0.7892\n",
      "Epoch 84/100\n",
      "20/20 [==============================] - 0s 14ms/step - loss: 0.4876 - accuracy: 0.8067 - val_loss: 0.6045 - val_accuracy: 0.7890\n",
      "Epoch 85/100\n",
      "20/20 [==============================] - 0s 14ms/step - loss: 0.4871 - accuracy: 0.8051 - val_loss: 0.6041 - val_accuracy: 0.7894\n",
      "Epoch 86/100\n",
      "20/20 [==============================] - 0s 13ms/step - loss: 0.4860 - accuracy: 0.8051 - val_loss: 0.6034 - val_accuracy: 0.7894\n",
      "Epoch 87/100\n",
      "20/20 [==============================] - 0s 15ms/step - loss: 0.4855 - accuracy: 0.8051 - val_loss: 0.6041 - val_accuracy: 0.7894\n",
      "Epoch 88/100\n",
      "20/20 [==============================] - 0s 15ms/step - loss: 0.4848 - accuracy: 0.8074 - val_loss: 0.6027 - val_accuracy: 0.7898\n",
      "Epoch 89/100\n",
      "20/20 [==============================] - 0s 15ms/step - loss: 0.4839 - accuracy: 0.8051 - val_loss: 0.6004 - val_accuracy: 0.7900\n",
      "Epoch 90/100\n",
      "20/20 [==============================] - 0s 19ms/step - loss: 0.4832 - accuracy: 0.8074 - val_loss: 0.6075 - val_accuracy: 0.7912\n",
      "Epoch 91/100\n",
      "20/20 [==============================] - 0s 17ms/step - loss: 0.4827 - accuracy: 0.8074 - val_loss: 0.6000 - val_accuracy: 0.7892\n",
      "Epoch 92/100\n",
      "20/20 [==============================] - 0s 16ms/step - loss: 0.4820 - accuracy: 0.8074 - val_loss: 0.6122 - val_accuracy: 0.7902\n",
      "Epoch 93/100\n",
      "20/20 [==============================] - 0s 15ms/step - loss: 0.4815 - accuracy: 0.8090 - val_loss: 0.6086 - val_accuracy: 0.7900\n",
      "Epoch 94/100\n",
      "20/20 [==============================] - 0s 15ms/step - loss: 0.4810 - accuracy: 0.8082 - val_loss: 0.6121 - val_accuracy: 0.7896\n",
      "Epoch 95/100\n",
      "20/20 [==============================] - 0s 14ms/step - loss: 0.4800 - accuracy: 0.8082 - val_loss: 0.6066 - val_accuracy: 0.7892\n",
      "Epoch 96/100\n",
      "20/20 [==============================] - 0s 15ms/step - loss: 0.4793 - accuracy: 0.8098 - val_loss: 0.6074 - val_accuracy: 0.7886\n",
      "Epoch 97/100\n",
      "20/20 [==============================] - 0s 15ms/step - loss: 0.4790 - accuracy: 0.8106 - val_loss: 0.6178 - val_accuracy: 0.7886\n",
      "Epoch 98/100\n",
      "20/20 [==============================] - 0s 15ms/step - loss: 0.4783 - accuracy: 0.8067 - val_loss: 0.6127 - val_accuracy: 0.7882\n",
      "Epoch 99/100\n",
      "20/20 [==============================] - 0s 14ms/step - loss: 0.4774 - accuracy: 0.8122 - val_loss: 0.6164 - val_accuracy: 0.7888\n",
      "Epoch 100/100\n",
      "20/20 [==============================] - 0s 14ms/step - loss: 0.4769 - accuracy: 0.8122 - val_loss: 0.6133 - val_accuracy: 0.7884\n"
     ]
    }
   ],
   "source": [
    "history2 = modelfunc.fit(train_dataset,epochs=100,\n",
    "                    validation_data=val_dataset,verbose=1, callbacks=[callback])"
   ]
  },
  {
   "cell_type": "markdown",
   "metadata": {},
   "source": [
    "Model di train pada train dataset dan juga dilakukan validasi."
   ]
  },
  {
   "cell_type": "code",
   "execution_count": 55,
   "metadata": {},
   "outputs": [],
   "source": [
    "# y_pred = model.predict(X_test_trf)\n",
    "# y_pred = np.where(y_pred > 0.5, 1, 0).squeeze()\n",
    "# print(classification_report(y_test, y_pred.round()))"
   ]
  },
  {
   "cell_type": "markdown",
   "metadata": {},
   "source": [
    "#### **- Model Evaluation**"
   ]
  },
  {
   "cell_type": "code",
   "execution_count": 56,
   "metadata": {},
   "outputs": [
    {
     "data": {
      "text/html": [
       "<div>\n",
       "<style scoped>\n",
       "    .dataframe tbody tr th:only-of-type {\n",
       "        vertical-align: middle;\n",
       "    }\n",
       "\n",
       "    .dataframe tbody tr th {\n",
       "        vertical-align: top;\n",
       "    }\n",
       "\n",
       "    .dataframe thead th {\n",
       "        text-align: right;\n",
       "    }\n",
       "</style>\n",
       "<table border=\"1\" class=\"dataframe\">\n",
       "  <thead>\n",
       "    <tr style=\"text-align: right;\">\n",
       "      <th></th>\n",
       "      <th>loss</th>\n",
       "      <th>accuracy</th>\n",
       "      <th>val_loss</th>\n",
       "      <th>val_accuracy</th>\n",
       "    </tr>\n",
       "  </thead>\n",
       "  <tbody>\n",
       "    <tr>\n",
       "      <th>0</th>\n",
       "      <td>5.504964</td>\n",
       "      <td>0.418384</td>\n",
       "      <td>4.607136</td>\n",
       "      <td>0.529715</td>\n",
       "    </tr>\n",
       "    <tr>\n",
       "      <th>1</th>\n",
       "      <td>4.430527</td>\n",
       "      <td>0.553090</td>\n",
       "      <td>4.114417</td>\n",
       "      <td>0.631735</td>\n",
       "    </tr>\n",
       "    <tr>\n",
       "      <th>2</th>\n",
       "      <td>4.047033</td>\n",
       "      <td>0.604596</td>\n",
       "      <td>3.983510</td>\n",
       "      <td>0.616878</td>\n",
       "    </tr>\n",
       "    <tr>\n",
       "      <th>3</th>\n",
       "      <td>3.891168</td>\n",
       "      <td>0.610143</td>\n",
       "      <td>3.886907</td>\n",
       "      <td>0.652139</td>\n",
       "    </tr>\n",
       "    <tr>\n",
       "      <th>4</th>\n",
       "      <td>3.794898</td>\n",
       "      <td>0.637084</td>\n",
       "      <td>3.795741</td>\n",
       "      <td>0.657488</td>\n",
       "    </tr>\n",
       "  </tbody>\n",
       "</table>\n",
       "</div>"
      ],
      "text/plain": [
       "       loss  accuracy  val_loss  val_accuracy\n",
       "0  5.504964  0.418384  4.607136      0.529715\n",
       "1  4.430527  0.553090  4.114417      0.631735\n",
       "2  4.047033  0.604596  3.983510      0.616878\n",
       "3  3.891168  0.610143  3.886907      0.652139\n",
       "4  3.794898  0.637084  3.795741      0.657488"
      ]
     },
     "execution_count": 56,
     "metadata": {},
     "output_type": "execute_result"
    }
   ],
   "source": [
    "metrics2 = pd.DataFrame(history2.history)\n",
    "metrics2.head()"
   ]
  },
  {
   "cell_type": "markdown",
   "metadata": {},
   "source": [
    "Metrics accuracy hasil dari training dibuat ke dalam dataframe"
   ]
  },
  {
   "cell_type": "code",
   "execution_count": 57,
   "metadata": {},
   "outputs": [
    {
     "data": {
      "text/plain": [
       "<AxesSubplot:>"
      ]
     },
     "execution_count": 57,
     "metadata": {},
     "output_type": "execute_result"
    },
    {
     "data": {
      "image/png": "[encoded data removed]",
      "text/plain": [
       "<Figure size 432x288 with 1 Axes>"
      ]
     },
     "metadata": {
      "needs_background": "light"
     },
     "output_type": "display_data"
    }
   ],
   "source": [
    "metrics2[['loss','val_loss']].plot()"
   ]
  },
  {
   "cell_type": "markdown",
   "metadata": {},
   "source": [
    "Berdasarkan plotting loss val_loss di model functional sebelum diimprove terlihat sudah sedikit good fit, ada sedikit gradient exploding di epoch 17."
   ]
  },
  {
   "cell_type": "markdown",
   "metadata": {},
   "source": [
    "----\n",
    "\n",
    "### *Functional API After Improvement*"
   ]
  },
  {
   "cell_type": "markdown",
   "metadata": {},
   "source": [
    "#### **- Model Definition**"
   ]
  },
  {
   "cell_type": "code",
   "execution_count": 58,
   "metadata": {},
   "outputs": [],
   "source": [
    "input2_ = keras.layers.Input(shape=(37,))\n",
    "hidden21 = keras.layers.Dense(32, activation=\"relu\", kernel_initializer='he_normal')(input2_)\n",
    "hidden22 = keras.layers.Dense(16, activation=\"relu\", kernel_initializer='he_normal')(hidden21)\n",
    "hidden23 = keras.layers.Dense(8, activation=\"relu\", kernel_initializer='he_normal')(hidden22)\n",
    "hidden24 = keras.layers.Dense(4, activation=\"relu\", kernel_initializer='he_normal')(hidden23)\n",
    "concat2 = keras.layers.concatenate([input2_, hidden24])\n",
    "output2 = keras.layers.Dense(1, activation=\"sigmoid\", kernel_regularizer=tf.keras.regularizers.l2(), kernel_initializer='glorot_normal')(concat2)\n",
    "modelfunc2 = keras.models.Model(inputs=[input2_], outputs=[output2])"
   ]
  },
  {
   "cell_type": "markdown",
   "metadata": {},
   "source": [
    "Improve model functional dengan menambahkan :\n",
    "- activation relu, regularizerL2(0.001), dan initializer glorot_normal pada input layer\n",
    "- activation relu, initializer=glorot_normal ,regularizerL2 pada hidden layer, ditambahkan juga 1 tambahan hidden layer menjadi 4 hidden layer\n",
    "- activation relu, initializer he_normal regularizerL2 pada output layer"
   ]
  },
  {
   "cell_type": "code",
   "execution_count": 59,
   "metadata": {},
   "outputs": [
    {
     "name": "stdout",
     "output_type": "stream",
     "text": [
      "Model: \"model_1\"\n",
      "__________________________________________________________________________________________________\n",
      " Layer (type)                   Output Shape         Param #     Connected to                     \n",
      "==================================================================================================\n",
      " input_2 (InputLayer)           [(None, 37)]         0           []                               \n",
      "                                                                                                  \n",
      " dense_14 (Dense)               (None, 32)           1216        ['input_2[0][0]']                \n",
      "                                                                                                  \n",
      " dense_15 (Dense)               (None, 16)           528         ['dense_14[0][0]']               \n",
      "                                                                                                  \n",
      " dense_16 (Dense)               (None, 8)            136         ['dense_15[0][0]']               \n",
      "                                                                                                  \n",
      " dense_17 (Dense)               (None, 4)            36          ['dense_16[0][0]']               \n",
      "                                                                                                  \n",
      " concatenate_1 (Concatenate)    (None, 41)           0           ['input_2[0][0]',                \n",
      "                                                                  'dense_17[0][0]']               \n",
      "                                                                                                  \n",
      " dense_18 (Dense)               (None, 1)            42          ['concatenate_1[0][0]']          \n",
      "                                                                                                  \n",
      "==================================================================================================\n",
      "Total params: 1,958\n",
      "Trainable params: 1,958\n",
      "Non-trainable params: 0\n",
      "__________________________________________________________________________________________________\n"
     ]
    }
   ],
   "source": [
    "modelfunc2.summary()"
   ]
  },
  {
   "cell_type": "markdown",
   "metadata": {},
   "source": [
    "Summary dari model functional API yang sudah diimprove."
   ]
  },
  {
   "cell_type": "code",
   "execution_count": 60,
   "metadata": {},
   "outputs": [],
   "source": [
    "modelfunc2.compile(loss='binary_crossentropy' , optimizer=tf.keras.optimizers.Adam(learning_rate=0.0001),metrics=['accuracy'])\n",
    "\n",
    "# mse_test = model.evaluate(X_test_trf, y_test)\n",
    "# y_pred = model.predict(X_test_trf)"
   ]
  },
  {
   "cell_type": "markdown",
   "metadata": {},
   "source": [
    "Proses compile juga ada improvement dengan menambahkan learningrate=0.0001 pada optimizers Adam."
   ]
  },
  {
   "cell_type": "code",
   "execution_count": 61,
   "metadata": {},
   "outputs": [
    {
     "data": {
      "image/png": "[encoded data removed]",
      "text/plain": [
       "<IPython.core.display.Image object>"
      ]
     },
     "execution_count": 61,
     "metadata": {},
     "output_type": "execute_result"
    }
   ],
   "source": [
    "plot_model(modelfunc2, show_shapes= True)"
   ]
  },
  {
   "cell_type": "markdown",
   "metadata": {},
   "source": [
    "Gambaran dari layer-layer functional API"
   ]
  },
  {
   "cell_type": "markdown",
   "metadata": {},
   "source": [
    "#### **- Model Training**"
   ]
  },
  {
   "cell_type": "code",
   "execution_count": 62,
   "metadata": {},
   "outputs": [
    {
     "name": "stdout",
     "output_type": "stream",
     "text": [
      "Epoch 1/100\n",
      "20/20 [==============================] - 2s 27ms/step - loss: 0.6140 - accuracy: 0.6616 - val_loss: 0.6244 - val_accuracy: 0.6414\n",
      "Epoch 2/100\n",
      "20/20 [==============================] - 0s 13ms/step - loss: 0.6095 - accuracy: 0.6688 - val_loss: 0.6194 - val_accuracy: 0.6470\n",
      "Epoch 3/100\n",
      "20/20 [==============================] - 0s 14ms/step - loss: 0.6050 - accuracy: 0.6712 - val_loss: 0.6143 - val_accuracy: 0.6513\n",
      "Epoch 4/100\n",
      "20/20 [==============================] - 0s 14ms/step - loss: 0.6005 - accuracy: 0.6712 - val_loss: 0.6094 - val_accuracy: 0.6559\n",
      "Epoch 5/100\n",
      "20/20 [==============================] - 0s 13ms/step - loss: 0.5961 - accuracy: 0.6735 - val_loss: 0.6044 - val_accuracy: 0.6603\n",
      "Epoch 6/100\n",
      "20/20 [==============================] - 0s 14ms/step - loss: 0.5917 - accuracy: 0.6775 - val_loss: 0.5996 - val_accuracy: 0.6628\n",
      "Epoch 7/100\n",
      "20/20 [==============================] - 0s 14ms/step - loss: 0.5873 - accuracy: 0.6775 - val_loss: 0.5947 - val_accuracy: 0.6672\n",
      "Epoch 8/100\n",
      "20/20 [==============================] - 0s 14ms/step - loss: 0.5830 - accuracy: 0.6799 - val_loss: 0.5899 - val_accuracy: 0.6735\n",
      "Epoch 9/100\n",
      "20/20 [==============================] - 0s 16ms/step - loss: 0.5787 - accuracy: 0.6830 - val_loss: 0.5850 - val_accuracy: 0.6775\n",
      "Epoch 10/100\n",
      "20/20 [==============================] - 0s 14ms/step - loss: 0.5744 - accuracy: 0.6854 - val_loss: 0.5804 - val_accuracy: 0.6832\n",
      "Epoch 11/100\n",
      "20/20 [==============================] - 0s 14ms/step - loss: 0.5703 - accuracy: 0.6878 - val_loss: 0.5759 - val_accuracy: 0.6880\n",
      "Epoch 12/100\n",
      "20/20 [==============================] - 0s 14ms/step - loss: 0.5663 - accuracy: 0.6862 - val_loss: 0.5715 - val_accuracy: 0.6926\n",
      "Epoch 13/100\n",
      "20/20 [==============================] - 0s 15ms/step - loss: 0.5624 - accuracy: 0.6894 - val_loss: 0.5671 - val_accuracy: 0.6973\n",
      "Epoch 14/100\n",
      "20/20 [==============================] - 0s 15ms/step - loss: 0.5586 - accuracy: 0.6965 - val_loss: 0.5629 - val_accuracy: 0.7021\n",
      "Epoch 15/100\n",
      "20/20 [==============================] - 0s 15ms/step - loss: 0.5547 - accuracy: 0.6957 - val_loss: 0.5588 - val_accuracy: 0.7062\n",
      "Epoch 16/100\n",
      "20/20 [==============================] - 0s 14ms/step - loss: 0.5511 - accuracy: 0.6965 - val_loss: 0.5545 - val_accuracy: 0.7110\n",
      "Epoch 17/100\n",
      "20/20 [==============================] - 0s 15ms/step - loss: 0.5473 - accuracy: 0.7013 - val_loss: 0.5505 - val_accuracy: 0.7151\n",
      "Epoch 18/100\n",
      "20/20 [==============================] - 0s 16ms/step - loss: 0.5437 - accuracy: 0.7044 - val_loss: 0.5465 - val_accuracy: 0.7195\n",
      "Epoch 19/100\n",
      "20/20 [==============================] - 0s 16ms/step - loss: 0.5401 - accuracy: 0.7092 - val_loss: 0.5425 - val_accuracy: 0.7246\n",
      "Epoch 20/100\n",
      "20/20 [==============================] - 0s 15ms/step - loss: 0.5365 - accuracy: 0.7155 - val_loss: 0.5387 - val_accuracy: 0.7272\n",
      "Epoch 21/100\n",
      "20/20 [==============================] - 0s 15ms/step - loss: 0.5330 - accuracy: 0.7219 - val_loss: 0.5348 - val_accuracy: 0.7290\n",
      "Epoch 22/100\n",
      "20/20 [==============================] - 0s 15ms/step - loss: 0.5294 - accuracy: 0.7227 - val_loss: 0.5309 - val_accuracy: 0.7336\n",
      "Epoch 23/100\n",
      "20/20 [==============================] - 0s 15ms/step - loss: 0.5258 - accuracy: 0.7235 - val_loss: 0.5271 - val_accuracy: 0.7375\n",
      "Epoch 24/100\n",
      "20/20 [==============================] - 0s 15ms/step - loss: 0.5224 - accuracy: 0.7290 - val_loss: 0.5233 - val_accuracy: 0.7445\n",
      "Epoch 25/100\n",
      "20/20 [==============================] - 0s 14ms/step - loss: 0.5190 - accuracy: 0.7298 - val_loss: 0.5197 - val_accuracy: 0.7496\n",
      "Epoch 26/100\n",
      "20/20 [==============================] - 0s 14ms/step - loss: 0.5156 - accuracy: 0.7345 - val_loss: 0.5160 - val_accuracy: 0.7502\n",
      "Epoch 27/100\n",
      "20/20 [==============================] - 0s 14ms/step - loss: 0.5123 - accuracy: 0.7353 - val_loss: 0.5124 - val_accuracy: 0.7518\n",
      "Epoch 28/100\n",
      "20/20 [==============================] - 0s 14ms/step - loss: 0.5091 - accuracy: 0.7361 - val_loss: 0.5091 - val_accuracy: 0.7542\n",
      "Epoch 29/100\n",
      "20/20 [==============================] - 0s 14ms/step - loss: 0.5060 - accuracy: 0.7417 - val_loss: 0.5058 - val_accuracy: 0.7548\n",
      "Epoch 30/100\n",
      "20/20 [==============================] - 0s 14ms/step - loss: 0.5030 - accuracy: 0.7456 - val_loss: 0.5026 - val_accuracy: 0.7561\n",
      "Epoch 31/100\n",
      "20/20 [==============================] - 0s 15ms/step - loss: 0.5000 - accuracy: 0.7472 - val_loss: 0.4995 - val_accuracy: 0.7563\n",
      "Epoch 32/100\n",
      "20/20 [==============================] - 0s 14ms/step - loss: 0.4971 - accuracy: 0.7512 - val_loss: 0.4966 - val_accuracy: 0.7609\n",
      "Epoch 33/100\n",
      "20/20 [==============================] - 0s 22ms/step - loss: 0.4944 - accuracy: 0.7536 - val_loss: 0.4937 - val_accuracy: 0.7621\n",
      "Epoch 34/100\n",
      "20/20 [==============================] - 0s 13ms/step - loss: 0.4917 - accuracy: 0.7559 - val_loss: 0.4908 - val_accuracy: 0.7631\n",
      "Epoch 35/100\n",
      "20/20 [==============================] - 0s 14ms/step - loss: 0.4891 - accuracy: 0.7583 - val_loss: 0.4883 - val_accuracy: 0.7637\n",
      "Epoch 36/100\n",
      "20/20 [==============================] - 0s 13ms/step - loss: 0.4867 - accuracy: 0.7591 - val_loss: 0.4857 - val_accuracy: 0.7653\n",
      "Epoch 37/100\n",
      "20/20 [==============================] - 0s 12ms/step - loss: 0.4843 - accuracy: 0.7575 - val_loss: 0.4834 - val_accuracy: 0.7658\n",
      "Epoch 38/100\n",
      "20/20 [==============================] - 0s 12ms/step - loss: 0.4820 - accuracy: 0.7575 - val_loss: 0.4811 - val_accuracy: 0.7651\n",
      "Epoch 39/100\n",
      "20/20 [==============================] - 0s 11ms/step - loss: 0.4798 - accuracy: 0.7623 - val_loss: 0.4788 - val_accuracy: 0.7670\n",
      "Epoch 40/100\n",
      "20/20 [==============================] - 0s 11ms/step - loss: 0.4777 - accuracy: 0.7639 - val_loss: 0.4768 - val_accuracy: 0.7700\n",
      "Epoch 41/100\n",
      "20/20 [==============================] - 0s 13ms/step - loss: 0.4757 - accuracy: 0.7662 - val_loss: 0.4746 - val_accuracy: 0.7720\n",
      "Epoch 42/100\n",
      "20/20 [==============================] - 0s 13ms/step - loss: 0.4737 - accuracy: 0.7694 - val_loss: 0.4727 - val_accuracy: 0.7752\n",
      "Epoch 43/100\n",
      "20/20 [==============================] - 0s 13ms/step - loss: 0.4719 - accuracy: 0.7710 - val_loss: 0.4710 - val_accuracy: 0.7777\n",
      "Epoch 44/100\n",
      "20/20 [==============================] - 0s 12ms/step - loss: 0.4701 - accuracy: 0.7726 - val_loss: 0.4694 - val_accuracy: 0.7771\n",
      "Epoch 45/100\n",
      "20/20 [==============================] - 0s 12ms/step - loss: 0.4685 - accuracy: 0.7750 - val_loss: 0.4678 - val_accuracy: 0.7771\n",
      "Epoch 46/100\n",
      "20/20 [==============================] - 0s 12ms/step - loss: 0.4669 - accuracy: 0.7773 - val_loss: 0.4660 - val_accuracy: 0.7773\n",
      "Epoch 47/100\n",
      "20/20 [==============================] - 0s 12ms/step - loss: 0.4653 - accuracy: 0.7797 - val_loss: 0.4646 - val_accuracy: 0.7785\n",
      "Epoch 48/100\n",
      "20/20 [==============================] - 0s 11ms/step - loss: 0.4638 - accuracy: 0.7813 - val_loss: 0.4632 - val_accuracy: 0.7783\n",
      "Epoch 49/100\n",
      "20/20 [==============================] - 0s 12ms/step - loss: 0.4623 - accuracy: 0.7781 - val_loss: 0.4621 - val_accuracy: 0.7793\n",
      "Epoch 50/100\n",
      "20/20 [==============================] - 0s 11ms/step - loss: 0.4610 - accuracy: 0.7773 - val_loss: 0.4608 - val_accuracy: 0.7787\n",
      "Epoch 51/100\n",
      "20/20 [==============================] - 0s 12ms/step - loss: 0.4597 - accuracy: 0.7781 - val_loss: 0.4595 - val_accuracy: 0.7807\n",
      "Epoch 52/100\n",
      "20/20 [==============================] - 0s 12ms/step - loss: 0.4583 - accuracy: 0.7797 - val_loss: 0.4584 - val_accuracy: 0.7831\n",
      "Epoch 53/100\n",
      "20/20 [==============================] - 0s 15ms/step - loss: 0.4572 - accuracy: 0.7813 - val_loss: 0.4574 - val_accuracy: 0.7841\n",
      "Epoch 54/100\n",
      "20/20 [==============================] - 0s 13ms/step - loss: 0.4560 - accuracy: 0.7813 - val_loss: 0.4564 - val_accuracy: 0.7839\n",
      "Epoch 55/100\n",
      "20/20 [==============================] - 0s 13ms/step - loss: 0.4549 - accuracy: 0.7813 - val_loss: 0.4554 - val_accuracy: 0.7849\n",
      "Epoch 56/100\n",
      "20/20 [==============================] - 0s 12ms/step - loss: 0.4539 - accuracy: 0.7845 - val_loss: 0.4545 - val_accuracy: 0.7853\n",
      "Epoch 57/100\n",
      "20/20 [==============================] - 0s 12ms/step - loss: 0.4528 - accuracy: 0.7853 - val_loss: 0.4537 - val_accuracy: 0.7857\n",
      "Epoch 58/100\n",
      "20/20 [==============================] - 0s 11ms/step - loss: 0.4519 - accuracy: 0.7861 - val_loss: 0.4528 - val_accuracy: 0.7866\n",
      "Epoch 59/100\n",
      "20/20 [==============================] - 0s 12ms/step - loss: 0.4509 - accuracy: 0.7884 - val_loss: 0.4522 - val_accuracy: 0.7872\n",
      "Epoch 60/100\n",
      "20/20 [==============================] - 0s 12ms/step - loss: 0.4500 - accuracy: 0.7868 - val_loss: 0.4513 - val_accuracy: 0.7868\n",
      "Epoch 61/100\n",
      "20/20 [==============================] - 0s 11ms/step - loss: 0.4492 - accuracy: 0.7876 - val_loss: 0.4505 - val_accuracy: 0.7878\n",
      "Epoch 62/100\n",
      "20/20 [==============================] - 0s 12ms/step - loss: 0.4483 - accuracy: 0.7868 - val_loss: 0.4498 - val_accuracy: 0.7886\n",
      "Epoch 63/100\n",
      "20/20 [==============================] - 0s 12ms/step - loss: 0.4475 - accuracy: 0.7876 - val_loss: 0.4492 - val_accuracy: 0.7882\n",
      "Epoch 64/100\n",
      "20/20 [==============================] - 0s 12ms/step - loss: 0.4468 - accuracy: 0.7876 - val_loss: 0.4489 - val_accuracy: 0.7890\n",
      "Epoch 65/100\n",
      "20/20 [==============================] - 0s 13ms/step - loss: 0.4460 - accuracy: 0.7876 - val_loss: 0.4484 - val_accuracy: 0.7906\n",
      "Epoch 66/100\n",
      "20/20 [==============================] - 0s 13ms/step - loss: 0.4453 - accuracy: 0.7900 - val_loss: 0.4477 - val_accuracy: 0.7912\n",
      "Epoch 67/100\n",
      "20/20 [==============================] - 0s 14ms/step - loss: 0.4446 - accuracy: 0.7900 - val_loss: 0.4472 - val_accuracy: 0.7918\n",
      "Epoch 68/100\n",
      "20/20 [==============================] - 0s 12ms/step - loss: 0.4440 - accuracy: 0.7900 - val_loss: 0.4467 - val_accuracy: 0.7914\n",
      "Epoch 69/100\n",
      "20/20 [==============================] - 0s 11ms/step - loss: 0.4433 - accuracy: 0.7900 - val_loss: 0.4463 - val_accuracy: 0.7932\n",
      "Epoch 70/100\n",
      "20/20 [==============================] - 0s 12ms/step - loss: 0.4427 - accuracy: 0.7900 - val_loss: 0.4457 - val_accuracy: 0.7932\n",
      "Epoch 71/100\n",
      "20/20 [==============================] - 0s 13ms/step - loss: 0.4421 - accuracy: 0.7908 - val_loss: 0.4455 - val_accuracy: 0.7944\n",
      "Epoch 72/100\n",
      "20/20 [==============================] - 0s 11ms/step - loss: 0.4416 - accuracy: 0.7924 - val_loss: 0.4451 - val_accuracy: 0.7940\n",
      "Epoch 73/100\n",
      "20/20 [==============================] - 0s 12ms/step - loss: 0.4410 - accuracy: 0.7932 - val_loss: 0.4446 - val_accuracy: 0.7930\n",
      "Epoch 74/100\n",
      "20/20 [==============================] - 0s 12ms/step - loss: 0.4405 - accuracy: 0.7940 - val_loss: 0.4442 - val_accuracy: 0.7944\n",
      "Epoch 75/100\n",
      "20/20 [==============================] - 0s 11ms/step - loss: 0.4399 - accuracy: 0.7948 - val_loss: 0.4439 - val_accuracy: 0.7938\n",
      "Epoch 76/100\n",
      "20/20 [==============================] - 0s 11ms/step - loss: 0.4395 - accuracy: 0.7956 - val_loss: 0.4435 - val_accuracy: 0.7944\n",
      "Epoch 77/100\n",
      "20/20 [==============================] - 0s 13ms/step - loss: 0.4389 - accuracy: 0.7979 - val_loss: 0.4433 - val_accuracy: 0.7948\n",
      "Epoch 78/100\n",
      "20/20 [==============================] - 0s 13ms/step - loss: 0.4385 - accuracy: 0.7987 - val_loss: 0.4431 - val_accuracy: 0.7964\n",
      "Epoch 79/100\n",
      "20/20 [==============================] - 0s 14ms/step - loss: 0.4380 - accuracy: 0.8003 - val_loss: 0.4426 - val_accuracy: 0.7966\n",
      "Epoch 80/100\n",
      "20/20 [==============================] - 0s 15ms/step - loss: 0.4376 - accuracy: 0.8011 - val_loss: 0.4424 - val_accuracy: 0.7968\n",
      "Epoch 81/100\n",
      "20/20 [==============================] - 0s 15ms/step - loss: 0.4372 - accuracy: 0.7995 - val_loss: 0.4422 - val_accuracy: 0.7969\n",
      "Epoch 82/100\n",
      "20/20 [==============================] - 0s 15ms/step - loss: 0.4368 - accuracy: 0.7995 - val_loss: 0.4420 - val_accuracy: 0.7969\n",
      "Epoch 83/100\n",
      "20/20 [==============================] - 0s 14ms/step - loss: 0.4363 - accuracy: 0.7987 - val_loss: 0.4417 - val_accuracy: 0.7971\n",
      "Epoch 84/100\n",
      "20/20 [==============================] - 0s 14ms/step - loss: 0.4360 - accuracy: 0.7979 - val_loss: 0.4416 - val_accuracy: 0.7987\n",
      "Epoch 85/100\n",
      "20/20 [==============================] - 0s 12ms/step - loss: 0.4355 - accuracy: 0.7987 - val_loss: 0.4414 - val_accuracy: 0.7991\n",
      "Epoch 86/100\n",
      "20/20 [==============================] - 0s 11ms/step - loss: 0.4352 - accuracy: 0.7987 - val_loss: 0.4412 - val_accuracy: 0.7993\n",
      "Epoch 87/100\n",
      "20/20 [==============================] - 0s 11ms/step - loss: 0.4347 - accuracy: 0.7987 - val_loss: 0.4411 - val_accuracy: 0.7993\n",
      "Epoch 88/100\n",
      "20/20 [==============================] - 0s 11ms/step - loss: 0.4345 - accuracy: 0.8011 - val_loss: 0.4410 - val_accuracy: 0.7995\n",
      "Epoch 89/100\n",
      "20/20 [==============================] - 0s 13ms/step - loss: 0.4341 - accuracy: 0.8011 - val_loss: 0.4407 - val_accuracy: 0.7999\n",
      "Epoch 90/100\n",
      "20/20 [==============================] - 0s 13ms/step - loss: 0.4337 - accuracy: 0.8019 - val_loss: 0.4407 - val_accuracy: 0.7997\n",
      "Epoch 91/100\n",
      "20/20 [==============================] - 0s 13ms/step - loss: 0.4334 - accuracy: 0.8019 - val_loss: 0.4404 - val_accuracy: 0.7993\n",
      "Epoch 92/100\n",
      "20/20 [==============================] - 0s 13ms/step - loss: 0.4331 - accuracy: 0.8019 - val_loss: 0.4403 - val_accuracy: 0.7993\n",
      "Epoch 93/100\n",
      "20/20 [==============================] - 0s 13ms/step - loss: 0.4328 - accuracy: 0.8019 - val_loss: 0.4401 - val_accuracy: 0.7993\n",
      "Epoch 94/100\n",
      "20/20 [==============================] - 0s 11ms/step - loss: 0.4325 - accuracy: 0.8027 - val_loss: 0.4400 - val_accuracy: 0.7999\n",
      "Epoch 95/100\n",
      "20/20 [==============================] - 0s 11ms/step - loss: 0.4322 - accuracy: 0.8019 - val_loss: 0.4400 - val_accuracy: 0.7995\n",
      "Epoch 96/100\n",
      "20/20 [==============================] - 0s 11ms/step - loss: 0.4319 - accuracy: 0.8019 - val_loss: 0.4398 - val_accuracy: 0.7997\n",
      "Epoch 97/100\n",
      "20/20 [==============================] - 0s 11ms/step - loss: 0.4317 - accuracy: 0.8019 - val_loss: 0.4397 - val_accuracy: 0.7993\n",
      "Epoch 98/100\n",
      "20/20 [==============================] - 0s 11ms/step - loss: 0.4314 - accuracy: 0.8035 - val_loss: 0.4396 - val_accuracy: 0.7995\n",
      "Epoch 99/100\n",
      "20/20 [==============================] - 0s 12ms/step - loss: 0.4311 - accuracy: 0.8035 - val_loss: 0.4394 - val_accuracy: 0.7993\n",
      "Epoch 100/100\n",
      "20/20 [==============================] - 0s 11ms/step - loss: 0.4309 - accuracy: 0.8019 - val_loss: 0.4394 - val_accuracy: 0.7985\n"
     ]
    }
   ],
   "source": [
    "history4 = modelfunc2.fit(train_dataset, epochs=100,\n",
    "                    validation_data=val_dataset, verbose=1, callbacks=[callback])"
   ]
  },
  {
   "cell_type": "markdown",
   "metadata": {},
   "source": [
    "Proses fit model sequential yang telah diimprove"
   ]
  },
  {
   "cell_type": "markdown",
   "metadata": {},
   "source": [
    "#### **- Model Evaluation**"
   ]
  },
  {
   "cell_type": "code",
   "execution_count": 63,
   "metadata": {},
   "outputs": [
    {
     "data": {
      "text/html": [
       "<div>\n",
       "<style scoped>\n",
       "    .dataframe tbody tr th:only-of-type {\n",
       "        vertical-align: middle;\n",
       "    }\n",
       "\n",
       "    .dataframe tbody tr th {\n",
       "        vertical-align: top;\n",
       "    }\n",
       "\n",
       "    .dataframe thead th {\n",
       "        text-align: right;\n",
       "    }\n",
       "</style>\n",
       "<table border=\"1\" class=\"dataframe\">\n",
       "  <thead>\n",
       "    <tr style=\"text-align: right;\">\n",
       "      <th></th>\n",
       "      <th>loss</th>\n",
       "      <th>accuracy</th>\n",
       "      <th>val_loss</th>\n",
       "      <th>val_accuracy</th>\n",
       "    </tr>\n",
       "  </thead>\n",
       "  <tbody>\n",
       "    <tr>\n",
       "      <th>0</th>\n",
       "      <td>0.614043</td>\n",
       "      <td>0.661648</td>\n",
       "      <td>0.624376</td>\n",
       "      <td>0.641442</td>\n",
       "    </tr>\n",
       "    <tr>\n",
       "      <th>1</th>\n",
       "      <td>0.609515</td>\n",
       "      <td>0.668780</td>\n",
       "      <td>0.619360</td>\n",
       "      <td>0.646989</td>\n",
       "    </tr>\n",
       "    <tr>\n",
       "      <th>2</th>\n",
       "      <td>0.605046</td>\n",
       "      <td>0.671157</td>\n",
       "      <td>0.614297</td>\n",
       "      <td>0.651347</td>\n",
       "    </tr>\n",
       "    <tr>\n",
       "      <th>3</th>\n",
       "      <td>0.600524</td>\n",
       "      <td>0.671157</td>\n",
       "      <td>0.609362</td>\n",
       "      <td>0.655903</td>\n",
       "    </tr>\n",
       "    <tr>\n",
       "      <th>4</th>\n",
       "      <td>0.596132</td>\n",
       "      <td>0.673534</td>\n",
       "      <td>0.604380</td>\n",
       "      <td>0.660262</td>\n",
       "    </tr>\n",
       "  </tbody>\n",
       "</table>\n",
       "</div>"
      ],
      "text/plain": [
       "       loss  accuracy  val_loss  val_accuracy\n",
       "0  0.614043  0.661648  0.624376      0.641442\n",
       "1  0.609515  0.668780  0.619360      0.646989\n",
       "2  0.605046  0.671157  0.614297      0.651347\n",
       "3  0.600524  0.671157  0.609362      0.655903\n",
       "4  0.596132  0.673534  0.604380      0.660262"
      ]
     },
     "execution_count": 63,
     "metadata": {},
     "output_type": "execute_result"
    }
   ],
   "source": [
    "metrics4 = pd.DataFrame(history4.history)\n",
    "metrics4.head()"
   ]
  },
  {
   "cell_type": "markdown",
   "metadata": {},
   "source": [
    "Metrics accuracy hasil dari training dibuat ke dalam dataframe"
   ]
  },
  {
   "cell_type": "code",
   "execution_count": 64,
   "metadata": {},
   "outputs": [
    {
     "data": {
      "text/plain": [
       "<AxesSubplot:>"
      ]
     },
     "execution_count": 64,
     "metadata": {},
     "output_type": "execute_result"
    },
    {
     "data": {
      "image/png": "[encoded data removed]",
      "text/plain": [
       "<Figure size 432x288 with 1 Axes>"
      ]
     },
     "metadata": {
      "needs_background": "light"
     },
     "output_type": "display_data"
    }
   ],
   "source": [
    "metrics4[['loss','val_loss']].plot()"
   ]
  },
  {
   "cell_type": "markdown",
   "metadata": {},
   "source": [
    "Plotting metrics functional yang sudah diimprove, terlihat sudah tidak ada gradient exploding. Model mulai good fit di sekitar epoch 65 dengan nilai loss rendah dan mulai stabil."
   ]
  },
  {
   "cell_type": "markdown",
   "metadata": {},
   "source": [
    "----\n",
    "\n",
    "## Model Improvement With SMOTE"
   ]
  },
  {
   "cell_type": "code",
   "execution_count": 65,
   "metadata": {},
   "outputs": [],
   "source": [
    "balancing = SMOTE(random_state=3, sampling_strategy = 'minority')"
   ]
  },
  {
   "cell_type": "markdown",
   "metadata": {},
   "source": [
    "Membuat variabel balancing smote"
   ]
  },
  {
   "cell_type": "code",
   "execution_count": 66,
   "metadata": {},
   "outputs": [],
   "source": [
    "X_train_oversampling, y_train_oversampling = balancing.fit_resample(X_train_prep, y_train)\n",
    "X_test_oversampling, y_test_oversampling = balancing.fit_resample(X_test_prep, y_test)\n",
    "X_val_oversampling, y_val_oversampling = balancing.fit_resample(X_val_prep, y_val)"
   ]
  },
  {
   "cell_type": "markdown",
   "metadata": {},
   "source": [
    "Balancing pada data train test val"
   ]
  },
  {
   "cell_type": "markdown",
   "metadata": {},
   "source": [
    "#### **- Model Definition**"
   ]
  },
  {
   "cell_type": "code",
   "execution_count": 67,
   "metadata": {},
   "outputs": [],
   "source": [
    "modelsmote = tf.keras.models.Sequential()\n",
    "modelsmote.add(tf.keras.layers.Dense(64, input_shape=(37,), activation='relu', kernel_initializer='he_normal', kernel_regularizer=tf.keras.regularizers.l2(0.001)))\n",
    "modelsmote.add(tf.keras.layers.Dense(32, activation='sigmoid'))\n",
    "# model2.add(tf.keras.layers.BatchNormalization()) #contoh normalisasi sebelum activation\n",
    "\n",
    "modelsmote.add(tf.keras.layers.Dense(16, activation='sigmoid'))\n",
    "# modelsmote.add(tf.keras.layers.BatchNormalization()) #contoh normalisasi sebelum activation\n",
    "\n",
    "modelsmote.add(tf.keras.layers.Dense(8, activation='sigmoid'))\n",
    "# modelsmote.add(tf.keras.layers.BatchNormalization()) #contoh normalisasi sebelum activation\n",
    "\n",
    "modelsmote.add(tf.keras.layers.Dense(4, activation='sigmoid'))\n",
    "# modelsmote.add(tf.keras.layers.BatchNormalization())\n",
    "\n",
    "modelsmote.add(tf.keras.layers.Dense(1, activation='sigmoid', kernel_initializer='glorot_normal', kernel_regularizer=tf.keras.regularizers.l2(0.001)))"
   ]
  },
  {
   "cell_type": "markdown",
   "metadata": {},
   "source": [
    "Improve model sequential dengan menambahkan :\n",
    "- activation relu, regularizerL2(0.001), dan initializer he_normal pada input layer\n",
    "- activation sigmoid, initializer=sigmoid ,regularizerL2 pada hidden layer, ditambahkan juga 1 tambahan hidden layer menjadi 4 hidden layer\n",
    "- activation sigmoid, initializer glorot_normal regularizerL2(0.001) pada output layer"
   ]
  },
  {
   "cell_type": "code",
   "execution_count": 68,
   "metadata": {},
   "outputs": [],
   "source": [
    "modelsmote.compile(loss='binary_crossentropy', optimizer=tf.keras.optimizers.Adam(learning_rate=0.0001), metrics=['accuracy'])"
   ]
  },
  {
   "cell_type": "markdown",
   "metadata": {},
   "source": [
    "Proses compile juga ada improvement dengan menambahkan learningrate=0.0001 pada optimizers Adam."
   ]
  },
  {
   "cell_type": "code",
   "execution_count": 69,
   "metadata": {},
   "outputs": [
    {
     "data": {
      "image/png": "[encoded data removed]",
      "text/plain": [
       "<IPython.core.display.Image object>"
      ]
     },
     "execution_count": 69,
     "metadata": {},
     "output_type": "execute_result"
    }
   ],
   "source": [
    "plot_model(modelsmote, show_shapes= True)"
   ]
  },
  {
   "cell_type": "code",
   "execution_count": 70,
   "metadata": {},
   "outputs": [
    {
     "name": "stdout",
     "output_type": "stream",
     "text": [
      "Epoch 1/100\n",
      "58/58 [==============================] - 2s 16ms/step - loss: 0.8356 - accuracy: 0.5000 - val_loss: 0.8311 - val_accuracy: 0.5000\n",
      "Epoch 2/100\n",
      "58/58 [==============================] - 1s 10ms/step - loss: 0.8272 - accuracy: 0.5000 - val_loss: 0.8231 - val_accuracy: 0.5000\n",
      "Epoch 3/100\n",
      "58/58 [==============================] - 1s 9ms/step - loss: 0.8195 - accuracy: 0.5000 - val_loss: 0.8157 - val_accuracy: 0.5000\n",
      "Epoch 4/100\n",
      "58/58 [==============================] - 1s 10ms/step - loss: 0.8124 - accuracy: 0.5000 - val_loss: 0.8088 - val_accuracy: 0.5000\n",
      "Epoch 5/100\n",
      "58/58 [==============================] - 1s 11ms/step - loss: 0.8058 - accuracy: 0.5000 - val_loss: 0.8027 - val_accuracy: 0.5000\n",
      "Epoch 6/100\n",
      "58/58 [==============================] - 1s 11ms/step - loss: 0.7998 - accuracy: 0.5000 - val_loss: 0.7970 - val_accuracy: 0.5000\n",
      "Epoch 7/100\n",
      "58/58 [==============================] - 1s 11ms/step - loss: 0.7942 - accuracy: 0.5000 - val_loss: 0.7915 - val_accuracy: 0.5000\n",
      "Epoch 8/100\n",
      "58/58 [==============================] - 1s 10ms/step - loss: 0.7890 - accuracy: 0.5000 - val_loss: 0.7866 - val_accuracy: 0.5000\n",
      "Epoch 9/100\n",
      "58/58 [==============================] - 1s 10ms/step - loss: 0.7841 - accuracy: 0.5000 - val_loss: 0.7819 - val_accuracy: 0.5000\n",
      "Epoch 10/100\n",
      "58/58 [==============================] - 1s 12ms/step - loss: 0.7794 - accuracy: 0.5000 - val_loss: 0.7772 - val_accuracy: 0.5000\n",
      "Epoch 11/100\n",
      "58/58 [==============================] - 1s 10ms/step - loss: 0.7749 - accuracy: 0.5000 - val_loss: 0.7728 - val_accuracy: 0.5000\n",
      "Epoch 12/100\n",
      "58/58 [==============================] - 1s 10ms/step - loss: 0.7705 - accuracy: 0.5000 - val_loss: 0.7684 - val_accuracy: 0.5000\n",
      "Epoch 13/100\n",
      "58/58 [==============================] - 1s 10ms/step - loss: 0.7662 - accuracy: 0.5000 - val_loss: 0.7642 - val_accuracy: 0.5000\n",
      "Epoch 14/100\n",
      "58/58 [==============================] - 1s 12ms/step - loss: 0.7618 - accuracy: 0.5000 - val_loss: 0.7599 - val_accuracy: 0.5000\n",
      "Epoch 15/100\n",
      "58/58 [==============================] - 1s 13ms/step - loss: 0.7574 - accuracy: 0.5000 - val_loss: 0.7555 - val_accuracy: 0.5000\n",
      "Epoch 16/100\n",
      "58/58 [==============================] - 1s 13ms/step - loss: 0.7529 - accuracy: 0.5000 - val_loss: 0.7509 - val_accuracy: 0.5000\n",
      "Epoch 17/100\n",
      "58/58 [==============================] - 1s 11ms/step - loss: 0.7482 - accuracy: 0.5000 - val_loss: 0.7463 - val_accuracy: 0.5000\n",
      "Epoch 18/100\n",
      "58/58 [==============================] - 1s 10ms/step - loss: 0.7434 - accuracy: 0.5005 - val_loss: 0.7414 - val_accuracy: 0.5237\n",
      "Epoch 19/100\n",
      "58/58 [==============================] - 1s 10ms/step - loss: 0.7384 - accuracy: 0.5883 - val_loss: 0.7364 - val_accuracy: 0.6663\n",
      "Epoch 20/100\n",
      "58/58 [==============================] - 1s 10ms/step - loss: 0.7332 - accuracy: 0.6799 - val_loss: 0.7313 - val_accuracy: 0.6977\n",
      "Epoch 21/100\n",
      "58/58 [==============================] - 1s 11ms/step - loss: 0.7279 - accuracy: 0.7230 - val_loss: 0.7261 - val_accuracy: 0.7336\n",
      "Epoch 22/100\n",
      "58/58 [==============================] - 1s 9ms/step - loss: 0.7226 - accuracy: 0.7437 - val_loss: 0.7208 - val_accuracy: 0.7450\n",
      "Epoch 23/100\n",
      "58/58 [==============================] - 1s 10ms/step - loss: 0.7171 - accuracy: 0.7492 - val_loss: 0.7155 - val_accuracy: 0.7626\n",
      "Epoch 24/100\n",
      "58/58 [==============================] - 1s 10ms/step - loss: 0.7117 - accuracy: 0.7459 - val_loss: 0.7102 - val_accuracy: 0.7638\n",
      "Epoch 25/100\n",
      "58/58 [==============================] - 1s 11ms/step - loss: 0.7062 - accuracy: 0.7552 - val_loss: 0.7048 - val_accuracy: 0.7638\n",
      "Epoch 26/100\n",
      "58/58 [==============================] - 1s 10ms/step - loss: 0.7008 - accuracy: 0.7552 - val_loss: 0.6996 - val_accuracy: 0.7672\n",
      "Epoch 27/100\n",
      "58/58 [==============================] - 1s 9ms/step - loss: 0.6954 - accuracy: 0.7552 - val_loss: 0.6943 - val_accuracy: 0.7662\n",
      "Epoch 28/100\n",
      "58/58 [==============================] - 1s 9ms/step - loss: 0.6900 - accuracy: 0.7612 - val_loss: 0.6891 - val_accuracy: 0.7660\n",
      "Epoch 29/100\n",
      "58/58 [==============================] - 1s 10ms/step - loss: 0.6848 - accuracy: 0.7612 - val_loss: 0.6840 - val_accuracy: 0.7660\n",
      "Epoch 30/100\n",
      "58/58 [==============================] - 1s 13ms/step - loss: 0.6795 - accuracy: 0.7639 - val_loss: 0.6790 - val_accuracy: 0.7647\n",
      "Epoch 31/100\n",
      "58/58 [==============================] - 1s 13ms/step - loss: 0.6744 - accuracy: 0.7666 - val_loss: 0.6741 - val_accuracy: 0.7647\n",
      "Epoch 32/100\n",
      "58/58 [==============================] - 1s 13ms/step - loss: 0.6694 - accuracy: 0.7634 - val_loss: 0.6691 - val_accuracy: 0.7654\n",
      "Epoch 33/100\n",
      "58/58 [==============================] - 1s 12ms/step - loss: 0.6645 - accuracy: 0.7628 - val_loss: 0.6645 - val_accuracy: 0.7650\n",
      "Epoch 34/100\n",
      "58/58 [==============================] - 1s 11ms/step - loss: 0.6595 - accuracy: 0.7661 - val_loss: 0.6600 - val_accuracy: 0.7649\n",
      "Epoch 35/100\n",
      "58/58 [==============================] - 1s 12ms/step - loss: 0.6547 - accuracy: 0.7666 - val_loss: 0.6555 - val_accuracy: 0.7651\n",
      "Epoch 36/100\n",
      "58/58 [==============================] - 1s 12ms/step - loss: 0.6501 - accuracy: 0.7699 - val_loss: 0.6513 - val_accuracy: 0.7642\n",
      "Epoch 37/100\n",
      "58/58 [==============================] - 1s 12ms/step - loss: 0.6455 - accuracy: 0.7704 - val_loss: 0.6471 - val_accuracy: 0.7638\n",
      "Epoch 38/100\n",
      "58/58 [==============================] - 1s 12ms/step - loss: 0.6410 - accuracy: 0.7732 - val_loss: 0.6427 - val_accuracy: 0.7653\n",
      "Epoch 39/100\n",
      "58/58 [==============================] - 1s 14ms/step - loss: 0.6366 - accuracy: 0.7721 - val_loss: 0.6385 - val_accuracy: 0.7669\n",
      "Epoch 40/100\n",
      "58/58 [==============================] - 1s 14ms/step - loss: 0.6323 - accuracy: 0.7748 - val_loss: 0.6347 - val_accuracy: 0.7658\n",
      "Epoch 41/100\n",
      "58/58 [==============================] - 1s 13ms/step - loss: 0.6282 - accuracy: 0.7721 - val_loss: 0.6313 - val_accuracy: 0.7641\n",
      "Epoch 42/100\n",
      "58/58 [==============================] - 1s 13ms/step - loss: 0.6240 - accuracy: 0.7710 - val_loss: 0.6272 - val_accuracy: 0.7661\n",
      "Epoch 43/100\n",
      "58/58 [==============================] - 1s 13ms/step - loss: 0.6200 - accuracy: 0.7737 - val_loss: 0.6238 - val_accuracy: 0.7651\n",
      "Epoch 44/100\n",
      "58/58 [==============================] - 1s 12ms/step - loss: 0.6162 - accuracy: 0.7737 - val_loss: 0.6205 - val_accuracy: 0.7642\n",
      "Epoch 45/100\n",
      "58/58 [==============================] - 1s 11ms/step - loss: 0.6126 - accuracy: 0.7748 - val_loss: 0.6172 - val_accuracy: 0.7641\n",
      "Epoch 46/100\n",
      "58/58 [==============================] - 1s 11ms/step - loss: 0.6087 - accuracy: 0.7726 - val_loss: 0.6137 - val_accuracy: 0.7662\n",
      "Epoch 47/100\n",
      "58/58 [==============================] - 1s 12ms/step - loss: 0.6050 - accuracy: 0.7770 - val_loss: 0.6107 - val_accuracy: 0.7657\n",
      "Epoch 48/100\n",
      "58/58 [==============================] - 1s 12ms/step - loss: 0.6016 - accuracy: 0.7797 - val_loss: 0.6077 - val_accuracy: 0.7654\n",
      "Epoch 49/100\n",
      "58/58 [==============================] - 1s 11ms/step - loss: 0.5982 - accuracy: 0.7797 - val_loss: 0.6046 - val_accuracy: 0.7658\n",
      "Epoch 50/100\n",
      "58/58 [==============================] - 1s 11ms/step - loss: 0.5950 - accuracy: 0.7770 - val_loss: 0.6020 - val_accuracy: 0.7653\n",
      "Epoch 51/100\n",
      "58/58 [==============================] - 1s 11ms/step - loss: 0.5918 - accuracy: 0.7808 - val_loss: 0.5993 - val_accuracy: 0.7639\n",
      "Epoch 52/100\n",
      "58/58 [==============================] - 1s 12ms/step - loss: 0.5886 - accuracy: 0.7808 - val_loss: 0.5966 - val_accuracy: 0.7658\n",
      "Epoch 53/100\n",
      "58/58 [==============================] - 1s 12ms/step - loss: 0.5859 - accuracy: 0.7819 - val_loss: 0.5940 - val_accuracy: 0.7669\n",
      "Epoch 54/100\n",
      "58/58 [==============================] - 1s 12ms/step - loss: 0.5829 - accuracy: 0.7808 - val_loss: 0.5918 - val_accuracy: 0.7658\n",
      "Epoch 55/100\n",
      "58/58 [==============================] - 1s 11ms/step - loss: 0.5801 - accuracy: 0.7841 - val_loss: 0.5892 - val_accuracy: 0.7665\n",
      "Epoch 56/100\n",
      "58/58 [==============================] - 1s 11ms/step - loss: 0.5773 - accuracy: 0.7808 - val_loss: 0.5872 - val_accuracy: 0.7658\n",
      "Epoch 57/100\n",
      "58/58 [==============================] - 1s 12ms/step - loss: 0.5746 - accuracy: 0.7835 - val_loss: 0.5851 - val_accuracy: 0.7658\n",
      "Epoch 58/100\n",
      "58/58 [==============================] - 1s 12ms/step - loss: 0.5723 - accuracy: 0.7835 - val_loss: 0.5826 - val_accuracy: 0.7676\n",
      "Epoch 59/100\n",
      "58/58 [==============================] - 1s 19ms/step - loss: 0.5696 - accuracy: 0.7841 - val_loss: 0.5811 - val_accuracy: 0.7670\n",
      "Epoch 60/100\n",
      "58/58 [==============================] - 1s 16ms/step - loss: 0.5671 - accuracy: 0.7852 - val_loss: 0.5791 - val_accuracy: 0.7673\n",
      "Epoch 61/100\n",
      "58/58 [==============================] - 1s 14ms/step - loss: 0.5650 - accuracy: 0.7852 - val_loss: 0.5773 - val_accuracy: 0.7682\n",
      "Epoch 62/100\n",
      "58/58 [==============================] - 1s 14ms/step - loss: 0.5625 - accuracy: 0.7857 - val_loss: 0.5756 - val_accuracy: 0.7684\n",
      "Epoch 63/100\n",
      "58/58 [==============================] - 1s 18ms/step - loss: 0.5604 - accuracy: 0.7879 - val_loss: 0.5739 - val_accuracy: 0.7697\n",
      "Epoch 64/100\n",
      "58/58 [==============================] - 1s 14ms/step - loss: 0.5582 - accuracy: 0.7895 - val_loss: 0.5721 - val_accuracy: 0.7701\n",
      "Epoch 65/100\n",
      "58/58 [==============================] - 1s 14ms/step - loss: 0.5564 - accuracy: 0.7868 - val_loss: 0.5708 - val_accuracy: 0.7715\n",
      "Epoch 66/100\n",
      "58/58 [==============================] - 1s 12ms/step - loss: 0.5544 - accuracy: 0.7857 - val_loss: 0.5693 - val_accuracy: 0.7715\n",
      "Epoch 67/100\n",
      "58/58 [==============================] - 1s 12ms/step - loss: 0.5526 - accuracy: 0.7901 - val_loss: 0.5682 - val_accuracy: 0.7701\n",
      "Epoch 68/100\n",
      "58/58 [==============================] - 1s 12ms/step - loss: 0.5506 - accuracy: 0.7906 - val_loss: 0.5668 - val_accuracy: 0.7711\n",
      "Epoch 69/100\n",
      "58/58 [==============================] - 1s 12ms/step - loss: 0.5490 - accuracy: 0.7901 - val_loss: 0.5651 - val_accuracy: 0.7717\n",
      "Epoch 70/100\n",
      "58/58 [==============================] - 1s 13ms/step - loss: 0.5470 - accuracy: 0.7917 - val_loss: 0.5640 - val_accuracy: 0.7726\n",
      "Epoch 71/100\n",
      "58/58 [==============================] - 1s 15ms/step - loss: 0.5452 - accuracy: 0.7917 - val_loss: 0.5627 - val_accuracy: 0.7724\n",
      "Epoch 72/100\n",
      "58/58 [==============================] - 1s 14ms/step - loss: 0.5436 - accuracy: 0.7950 - val_loss: 0.5615 - val_accuracy: 0.7722\n",
      "Epoch 73/100\n",
      "58/58 [==============================] - 1s 16ms/step - loss: 0.5425 - accuracy: 0.7928 - val_loss: 0.5608 - val_accuracy: 0.7703\n",
      "Epoch 74/100\n",
      "58/58 [==============================] - 1s 12ms/step - loss: 0.5404 - accuracy: 0.7955 - val_loss: 0.5594 - val_accuracy: 0.7719\n",
      "Epoch 75/100\n",
      "58/58 [==============================] - 1s 11ms/step - loss: 0.5390 - accuracy: 0.7977 - val_loss: 0.5581 - val_accuracy: 0.7727\n",
      "Epoch 76/100\n",
      "58/58 [==============================] - 1s 11ms/step - loss: 0.5375 - accuracy: 0.7955 - val_loss: 0.5575 - val_accuracy: 0.7713\n",
      "Epoch 77/100\n",
      "58/58 [==============================] - 1s 11ms/step - loss: 0.5361 - accuracy: 0.7944 - val_loss: 0.5565 - val_accuracy: 0.7716\n",
      "Epoch 78/100\n",
      "58/58 [==============================] - 1s 12ms/step - loss: 0.5347 - accuracy: 0.7961 - val_loss: 0.5554 - val_accuracy: 0.7713\n",
      "Epoch 79/100\n",
      "58/58 [==============================] - 1s 11ms/step - loss: 0.5333 - accuracy: 0.7923 - val_loss: 0.5548 - val_accuracy: 0.7711\n",
      "Epoch 80/100\n",
      "58/58 [==============================] - 1s 11ms/step - loss: 0.5321 - accuracy: 0.7950 - val_loss: 0.5542 - val_accuracy: 0.7699\n",
      "Epoch 81/100\n",
      "58/58 [==============================] - 1s 12ms/step - loss: 0.5307 - accuracy: 0.7950 - val_loss: 0.5533 - val_accuracy: 0.7699\n",
      "Epoch 82/100\n",
      "58/58 [==============================] - 1s 11ms/step - loss: 0.5294 - accuracy: 0.7950 - val_loss: 0.5523 - val_accuracy: 0.7716\n",
      "Epoch 83/100\n",
      "58/58 [==============================] - 1s 15ms/step - loss: 0.5282 - accuracy: 0.7972 - val_loss: 0.5520 - val_accuracy: 0.7689\n",
      "Epoch 84/100\n",
      "58/58 [==============================] - 1s 22ms/step - loss: 0.5275 - accuracy: 0.7950 - val_loss: 0.5512 - val_accuracy: 0.7697\n",
      "Epoch 85/100\n",
      "58/58 [==============================] - 1s 15ms/step - loss: 0.5258 - accuracy: 0.7950 - val_loss: 0.5505 - val_accuracy: 0.7697\n",
      "Epoch 86/100\n",
      "58/58 [==============================] - 1s 14ms/step - loss: 0.5252 - accuracy: 0.7955 - val_loss: 0.5497 - val_accuracy: 0.7707\n",
      "Epoch 87/100\n",
      "58/58 [==============================] - 1s 16ms/step - loss: 0.5234 - accuracy: 0.7955 - val_loss: 0.5491 - val_accuracy: 0.7708\n",
      "Epoch 88/100\n",
      "58/58 [==============================] - 1s 14ms/step - loss: 0.5230 - accuracy: 0.7977 - val_loss: 0.5486 - val_accuracy: 0.7709\n",
      "Epoch 89/100\n",
      "58/58 [==============================] - 1s 13ms/step - loss: 0.5212 - accuracy: 0.7988 - val_loss: 0.5479 - val_accuracy: 0.7713\n",
      "Epoch 90/100\n",
      "58/58 [==============================] - 1s 12ms/step - loss: 0.5203 - accuracy: 0.7983 - val_loss: 0.5475 - val_accuracy: 0.7709\n",
      "Epoch 91/100\n",
      "58/58 [==============================] - 1s 16ms/step - loss: 0.5193 - accuracy: 0.7983 - val_loss: 0.5469 - val_accuracy: 0.7697\n",
      "Epoch 92/100\n",
      "58/58 [==============================] - 1s 13ms/step - loss: 0.5181 - accuracy: 0.7977 - val_loss: 0.5466 - val_accuracy: 0.7684\n",
      "Epoch 93/100\n",
      "58/58 [==============================] - 1s 12ms/step - loss: 0.5171 - accuracy: 0.7983 - val_loss: 0.5463 - val_accuracy: 0.7682\n",
      "Epoch 94/100\n",
      "58/58 [==============================] - 1s 11ms/step - loss: 0.5165 - accuracy: 0.8015 - val_loss: 0.5460 - val_accuracy: 0.7673\n",
      "Epoch 95/100\n",
      "58/58 [==============================] - 1s 18ms/step - loss: 0.5158 - accuracy: 0.7988 - val_loss: 0.5455 - val_accuracy: 0.7676\n",
      "Epoch 96/100\n",
      "58/58 [==============================] - 1s 15ms/step - loss: 0.5142 - accuracy: 0.7999 - val_loss: 0.5451 - val_accuracy: 0.7711\n",
      "Epoch 97/100\n",
      "58/58 [==============================] - 1s 15ms/step - loss: 0.5137 - accuracy: 0.7977 - val_loss: 0.5446 - val_accuracy: 0.7692\n",
      "Epoch 98/100\n",
      "58/58 [==============================] - 1s 19ms/step - loss: 0.5126 - accuracy: 0.8004 - val_loss: 0.5443 - val_accuracy: 0.7678\n",
      "Epoch 99/100\n",
      "58/58 [==============================] - 1s 16ms/step - loss: 0.5115 - accuracy: 0.8015 - val_loss: 0.5437 - val_accuracy: 0.7687\n",
      "Epoch 100/100\n",
      "58/58 [==============================] - 1s 15ms/step - loss: 0.5113 - accuracy: 0.7993 - val_loss: 0.5439 - val_accuracy: 0.7688\n"
     ]
    }
   ],
   "source": [
    "historysmote = modelsmote.fit(X_train_oversampling, y_train_oversampling, epochs=100,\n",
    "                    validation_data=(X_val_oversampling,y_val_oversampling), verbose=1, callbacks=[callback])"
   ]
  },
  {
   "cell_type": "markdown",
   "metadata": {},
   "source": [
    "Proses fit model sequential yang telah diimprove paramater dan smote balancing"
   ]
  },
  {
   "cell_type": "markdown",
   "metadata": {},
   "source": [
    "#### **- Model Evaluation**"
   ]
  },
  {
   "cell_type": "code",
   "execution_count": 71,
   "metadata": {},
   "outputs": [
    {
     "data": {
      "text/html": [
       "<div>\n",
       "<style scoped>\n",
       "    .dataframe tbody tr th:only-of-type {\n",
       "        vertical-align: middle;\n",
       "    }\n",
       "\n",
       "    .dataframe tbody tr th {\n",
       "        vertical-align: top;\n",
       "    }\n",
       "\n",
       "    .dataframe thead th {\n",
       "        text-align: right;\n",
       "    }\n",
       "</style>\n",
       "<table border=\"1\" class=\"dataframe\">\n",
       "  <thead>\n",
       "    <tr style=\"text-align: right;\">\n",
       "      <th></th>\n",
       "      <th>loss</th>\n",
       "      <th>accuracy</th>\n",
       "      <th>val_loss</th>\n",
       "      <th>val_accuracy</th>\n",
       "    </tr>\n",
       "  </thead>\n",
       "  <tbody>\n",
       "    <tr>\n",
       "      <th>0</th>\n",
       "      <td>0.835645</td>\n",
       "      <td>0.5</td>\n",
       "      <td>0.831125</td>\n",
       "      <td>0.5</td>\n",
       "    </tr>\n",
       "    <tr>\n",
       "      <th>1</th>\n",
       "      <td>0.827170</td>\n",
       "      <td>0.5</td>\n",
       "      <td>0.823126</td>\n",
       "      <td>0.5</td>\n",
       "    </tr>\n",
       "    <tr>\n",
       "      <th>2</th>\n",
       "      <td>0.819504</td>\n",
       "      <td>0.5</td>\n",
       "      <td>0.815695</td>\n",
       "      <td>0.5</td>\n",
       "    </tr>\n",
       "    <tr>\n",
       "      <th>3</th>\n",
       "      <td>0.812390</td>\n",
       "      <td>0.5</td>\n",
       "      <td>0.808793</td>\n",
       "      <td>0.5</td>\n",
       "    </tr>\n",
       "    <tr>\n",
       "      <th>4</th>\n",
       "      <td>0.805757</td>\n",
       "      <td>0.5</td>\n",
       "      <td>0.802690</td>\n",
       "      <td>0.5</td>\n",
       "    </tr>\n",
       "  </tbody>\n",
       "</table>\n",
       "</div>"
      ],
      "text/plain": [
       "       loss  accuracy  val_loss  val_accuracy\n",
       "0  0.835645       0.5  0.831125           0.5\n",
       "1  0.827170       0.5  0.823126           0.5\n",
       "2  0.819504       0.5  0.815695           0.5\n",
       "3  0.812390       0.5  0.808793           0.5\n",
       "4  0.805757       0.5  0.802690           0.5"
      ]
     },
     "execution_count": 71,
     "metadata": {},
     "output_type": "execute_result"
    }
   ],
   "source": [
    "metricssmote = pd.DataFrame(historysmote.history)\n",
    "metricssmote.head()"
   ]
  },
  {
   "cell_type": "markdown",
   "metadata": {},
   "source": [
    "Metrics accuracy hasil dari training dibuat ke dalam dataframe"
   ]
  },
  {
   "cell_type": "code",
   "execution_count": 72,
   "metadata": {},
   "outputs": [
    {
     "data": {
      "text/plain": [
       "<AxesSubplot:>"
      ]
     },
     "execution_count": 72,
     "metadata": {},
     "output_type": "execute_result"
    },
    {
     "data": {
      "image/png": "[encoded data removed]",
      "text/plain": [
       "<Figure size 432x288 with 1 Axes>"
      ]
     },
     "metadata": {
      "needs_background": "light"
     },
     "output_type": "display_data"
    }
   ],
   "source": [
    "metricssmote[['loss','val_loss']].plot()\n",
    "# plt.ylim(0.4,0.9)"
   ]
  },
  {
   "cell_type": "markdown",
   "metadata": {},
   "source": [
    "Berdasarkan grafik loss val_loss diatas terlihat good fit sampai epoch 50. Untuk setelah 50 model menjadi terlalu kompleks sehingga mulai overfitting"
   ]
  },
  {
   "cell_type": "markdown",
   "metadata": {},
   "source": [
    "Hasil prediksi dengan improve parameter dan smote balancing memberikan nilai yang jauh lebih baik dibandingkan dengan model-model sebelumnya."
   ]
  },
  {
   "cell_type": "markdown",
   "metadata": {},
   "source": [
    "----\n",
    "\n",
    "## **EVALUATION**"
   ]
  },
  {
   "cell_type": "code",
   "execution_count": 73,
   "metadata": {},
   "outputs": [
    {
     "data": {
      "text/plain": [
       "Text(0.5, 1.0, 'Functional After Improvement')"
      ]
     },
     "execution_count": 73,
     "metadata": {},
     "output_type": "execute_result"
    },
    {
     "data": {
      "image/png": "[encoded data removed]",
      "text/plain": [
       "<Figure size 720x720 with 4 Axes>"
      ]
     },
     "metadata": {
      "needs_background": "light"
     },
     "output_type": "display_data"
    }
   ],
   "source": [
    "# Visualization\n",
    "fig, ((ax1, ax2), (ax3, ax4)) = plt.subplots(2, 2, figsize=(10,10))\n",
    "fig.suptitle('Method Evaluation', fontsize=25, weight='bold')\n",
    "\n",
    "ax1.plot(metrics.index, metrics['loss'], label='Train')\n",
    "ax1.plot(metrics.index, metrics['val_loss'], label='Validation')\n",
    "ax1.set_title('Sequential', fontsize =15)\n",
    "\n",
    "ax2.plot(metrics3.index, metrics3['loss'], label='Train')\n",
    "ax2.plot(metrics3.index, metrics3['val_loss'], label='Validation')\n",
    "ax2.set_title('Sequential After Improvement', fontsize =15)\n",
    "\n",
    "ax3.plot(metrics2.index, metrics2['loss'], label='Train')\n",
    "ax3.plot(metrics2.index, metrics2['val_loss'], label='Validation')\n",
    "ax3.set_title('Functional', fontsize =15)\n",
    "\n",
    "ax4.plot(metrics4.index, metrics4['loss'], label='Train')\n",
    "ax4.plot(metrics4.index, metrics4['val_loss'], label='Validation')\n",
    "ax4.set_title('Functional After Improvement', fontsize =15)"
   ]
  },
  {
   "cell_type": "markdown",
   "metadata": {},
   "source": [
    "Dari hasil plotting 4 model diatas, terlihat kalau model Functional yang sudah diimprove adalah model yang paling goodfit."
   ]
  },
  {
   "cell_type": "code",
   "execution_count": 74,
   "metadata": {},
   "outputs": [
    {
     "name": "stdout",
     "output_type": "stream",
     "text": [
      "22/22 [==============================] - 0s 2ms/step\n",
      "22/22 [==============================] - 0s 2ms/step\n",
      "22/22 [==============================] - 0s 4ms/step\n",
      "22/22 [==============================] - 0s 2ms/step\n",
      "              precision    recall  f1-score   support\n",
      "\n",
      "           0       0.91      0.61      0.73       519\n",
      "           1       0.43      0.83      0.57       183\n",
      "\n",
      "    accuracy                           0.67       702\n",
      "   macro avg       0.67      0.72      0.65       702\n",
      "weighted avg       0.79      0.67      0.69       702\n",
      "\n",
      "              precision    recall  f1-score   support\n",
      "\n",
      "           0       0.84      0.88      0.86       519\n",
      "           1       0.61      0.52      0.56       183\n",
      "\n",
      "    accuracy                           0.79       702\n",
      "   macro avg       0.72      0.70      0.71       702\n",
      "weighted avg       0.78      0.79      0.78       702\n",
      "\n"
     ]
    }
   ],
   "source": [
    "y_pred_seq = model.predict(X_test_prep)\n",
    "y_pred_seq = np.where(y_pred_seq > 0.5, 1, 0).squeeze()\n",
    "\n",
    "y_pred_seqimp = model2.predict(X_test_prep)\n",
    "y_pred_seqimp = np.where(y_pred_seqimp > 0.5, 1, 0).squeeze()\n",
    "\n",
    "y_pred_fun = modelfunc.predict(X_test_prep)\n",
    "y_pred_fun = np.where(y_pred_fun > 0.5, 1, 0).squeeze()\n",
    "\n",
    "y_pred_funimp = modelfunc2.predict(X_test_prep)\n",
    "y_pred_funimp = np.where(y_pred_funimp > 0.5, 1, 0).squeeze()\n",
    "\n",
    "print(classification_report(y_test, y_pred_seq.round()))\n",
    "print(classification_report(y_test, y_pred_seqimp.round()))\n"
   ]
  },
  {
   "cell_type": "code",
   "execution_count": 75,
   "metadata": {},
   "outputs": [
    {
     "name": "stdout",
     "output_type": "stream",
     "text": [
      "              precision    recall  f1-score   support\n",
      "\n",
      "           0       0.84      0.84      0.84       519\n",
      "           1       0.54      0.53      0.54       183\n",
      "\n",
      "    accuracy                           0.76       702\n",
      "   macro avg       0.69      0.69      0.69       702\n",
      "weighted avg       0.76      0.76      0.76       702\n",
      "\n",
      "              precision    recall  f1-score   support\n",
      "\n",
      "           0       0.83      0.88      0.86       519\n",
      "           1       0.59      0.51      0.55       183\n",
      "\n",
      "    accuracy                           0.78       702\n",
      "   macro avg       0.71      0.69      0.70       702\n",
      "weighted avg       0.77      0.78      0.77       702\n",
      "\n"
     ]
    }
   ],
   "source": [
    "print(classification_report(y_test, y_pred_fun.round()))\n",
    "print(classification_report(y_test, y_pred_funimp.round()))"
   ]
  },
  {
   "cell_type": "code",
   "execution_count": 76,
   "metadata": {},
   "outputs": [
    {
     "name": "stdout",
     "output_type": "stream",
     "text": [
      "33/33 [==============================] - 0s 2ms/step\n",
      "              precision    recall  f1-score   support\n",
      "\n",
      "           0       0.78      0.67      0.72       519\n",
      "           1       0.71      0.81      0.76       519\n",
      "\n",
      "    accuracy                           0.74      1038\n",
      "   macro avg       0.74      0.74      0.74      1038\n",
      "weighted avg       0.74      0.74      0.74      1038\n",
      "\n"
     ]
    }
   ],
   "source": [
    "y_pred_smote= modelsmote.predict(X_test_oversampling)\n",
    "y_pred_smote = np.where(y_pred_smote > 0.5, 1, 0).squeeze()\n",
    "\n",
    "print(classification_report(y_test_oversampling, y_pred_smote.round()))"
   ]
  },
  {
   "cell_type": "markdown",
   "metadata": {},
   "source": [
    "Pada analisis ini akan lebih memperhatikan nilai Precision, karena nilai False Positif lebih merugikan dimana ketika seorang customer terdeteksi churn (tidak lagi menggunakan produk) tapi sebenarnya masih menggunakan produk.\n",
    "\n",
    "**Model terbaik berdasarkan nilai precision terbaik adalah Sequential After Improvement dengan SMOTE Balancing. Nilai presisi yang lebih baik pada model tersebut didapatkan karena adanya balancing pada data**"
   ]
  },
  {
   "cell_type": "code",
   "execution_count": 77,
   "metadata": {},
   "outputs": [
    {
     "data": {
      "image/png": "[encoded data removed]",
      "text/plain": [
       "<Figure size 432x288 with 2 Axes>"
      ]
     },
     "metadata": {
      "needs_background": "light"
     },
     "output_type": "display_data"
    }
   ],
   "source": [
    "cm = confusion_matrix(y_test,y_pred_funimp)\n",
    "disp = ConfusionMatrixDisplay(confusion_matrix=cm)\n",
    "\n",
    "disp.plot()\n",
    "plt.show()"
   ]
  },
  {
   "cell_type": "markdown",
   "metadata": {},
   "source": [
    "Dari hasil confusion matrix bisa kita lihat jumlah False Positif tidak beda jauh dengan True Positif."
   ]
  },
  {
   "cell_type": "markdown",
   "metadata": {},
   "source": [
    "----\n",
    "\n",
    "## **MODEL SAVING**"
   ]
  },
  {
   "cell_type": "code",
   "execution_count": 78,
   "metadata": {},
   "outputs": [],
   "source": [
    "model2.save('modelseqimp.h5')\n",
    "\n",
    "modelsmote.save('modelsmote.h5')\n",
    "\n",
    "with open('preprocessor.pkl', 'wb') as file_1:\n",
    "  pickle.dump(preprocessor, file_1)\n",
    "\n",
    "with open('list_num_columns.txt', 'w') as file_2:\n",
    "  file_2.write(str(num_col))\n",
    "\n",
    "with open('list_cat_columns.txt', 'w') as file_3:\n",
    "  file_3.write(str(cat_col))"
   ]
  },
  {
   "cell_type": "markdown",
   "metadata": {},
   "source": [
    "Menyimpan model-model dan list columns yang telah dibuat sebelumnya."
   ]
  },
  {
   "cell_type": "markdown",
   "metadata": {},
   "source": [
    "----\n",
    "\n",
    "## **MODEL LOADING**"
   ]
  },
  {
   "cell_type": "code",
   "execution_count": 79,
   "metadata": {},
   "outputs": [],
   "source": [
    "# Load All Files\n",
    "\n",
    "# Load saved model\n",
    "modelseqimp = keras.models.load_model('modelseqimp.h5')\n",
    "\n",
    "modelsmoteinf = keras.models.load_model('modelsmote.h5')\n",
    "  \n",
    "with open('preprocessor.pkl', 'rb') as file_1:\n",
    "  preprocessor = pickle.load(file_1)\n",
    "\n",
    "with open('list_num_columns.txt', 'r') as file_2:\n",
    "  list_num_columns = file_2.read()\n",
    "\n",
    "with open('list_cat_columns.txt', 'r') as file_3:\n",
    "  list_cat_columns = file_3.read()"
   ]
  },
  {
   "cell_type": "markdown",
   "metadata": {},
   "source": [
    "Load model yang telah dibuat."
   ]
  },
  {
   "cell_type": "markdown",
   "metadata": {},
   "source": [
    "### ***INFERENCE***"
   ]
  },
  {
   "cell_type": "code",
   "execution_count": 80,
   "metadata": {},
   "outputs": [],
   "source": [
    "df_pred_inf = preprocessor.transform(df_inf)"
   ]
  },
  {
   "cell_type": "code",
   "execution_count": 82,
   "metadata": {},
   "outputs": [
    {
     "data": {
      "text/html": [
       "<div>\n",
       "<style scoped>\n",
       "    .dataframe tbody tr th:only-of-type {\n",
       "        vertical-align: middle;\n",
       "    }\n",
       "\n",
       "    .dataframe tbody tr th {\n",
       "        vertical-align: top;\n",
       "    }\n",
       "\n",
       "    .dataframe thead th {\n",
       "        text-align: right;\n",
       "    }\n",
       "</style>\n",
       "<table border=\"1\" class=\"dataframe\">\n",
       "  <thead>\n",
       "    <tr style=\"text-align: right;\">\n",
       "      <th></th>\n",
       "      <th>SeniorCitizen</th>\n",
       "      <th>Partner</th>\n",
       "      <th>Dependents</th>\n",
       "      <th>tenure</th>\n",
       "      <th>PhoneService</th>\n",
       "      <th>MultipleLines</th>\n",
       "      <th>InternetService</th>\n",
       "      <th>OnlineSecurity</th>\n",
       "      <th>OnlineBackup</th>\n",
       "      <th>DeviceProtection</th>\n",
       "      <th>TechSupport</th>\n",
       "      <th>StreamingTV</th>\n",
       "      <th>StreamingMovies</th>\n",
       "      <th>Contract</th>\n",
       "      <th>PaperlessBilling</th>\n",
       "      <th>PaymentMethod</th>\n",
       "      <th>MonthlyCharges</th>\n",
       "      <th>TotalCharges</th>\n",
       "      <th>Churn</th>\n",
       "    </tr>\n",
       "  </thead>\n",
       "  <tbody>\n",
       "    <tr>\n",
       "      <th>0</th>\n",
       "      <td>No</td>\n",
       "      <td>No</td>\n",
       "      <td>No</td>\n",
       "      <td>1</td>\n",
       "      <td>Yes</td>\n",
       "      <td>No</td>\n",
       "      <td>No</td>\n",
       "      <td>No</td>\n",
       "      <td>No</td>\n",
       "      <td>No</td>\n",
       "      <td>No</td>\n",
       "      <td>No</td>\n",
       "      <td>No</td>\n",
       "      <td>Month-to-month</td>\n",
       "      <td>No</td>\n",
       "      <td>Mailed check</td>\n",
       "      <td>20.00</td>\n",
       "      <td>20.00</td>\n",
       "      <td>1</td>\n",
       "    </tr>\n",
       "    <tr>\n",
       "      <th>1</th>\n",
       "      <td>No</td>\n",
       "      <td>Yes</td>\n",
       "      <td>No</td>\n",
       "      <td>33</td>\n",
       "      <td>No</td>\n",
       "      <td>No</td>\n",
       "      <td>DSL</td>\n",
       "      <td>Yes</td>\n",
       "      <td>No</td>\n",
       "      <td>Yes</td>\n",
       "      <td>Yes</td>\n",
       "      <td>Yes</td>\n",
       "      <td>Yes</td>\n",
       "      <td>Two year</td>\n",
       "      <td>No</td>\n",
       "      <td>Bank transfer (automatic)</td>\n",
       "      <td>59.55</td>\n",
       "      <td>2016.30</td>\n",
       "      <td>0</td>\n",
       "    </tr>\n",
       "    <tr>\n",
       "      <th>2</th>\n",
       "      <td>No</td>\n",
       "      <td>Yes</td>\n",
       "      <td>Yes</td>\n",
       "      <td>49</td>\n",
       "      <td>Yes</td>\n",
       "      <td>Yes</td>\n",
       "      <td>Fiber optic</td>\n",
       "      <td>No</td>\n",
       "      <td>No</td>\n",
       "      <td>No</td>\n",
       "      <td>No</td>\n",
       "      <td>Yes</td>\n",
       "      <td>Yes</td>\n",
       "      <td>Month-to-month</td>\n",
       "      <td>Yes</td>\n",
       "      <td>Bank transfer (automatic)</td>\n",
       "      <td>95.40</td>\n",
       "      <td>4613.95</td>\n",
       "      <td>0</td>\n",
       "    </tr>\n",
       "    <tr>\n",
       "      <th>3</th>\n",
       "      <td>No</td>\n",
       "      <td>No</td>\n",
       "      <td>Yes</td>\n",
       "      <td>18</td>\n",
       "      <td>Yes</td>\n",
       "      <td>Yes</td>\n",
       "      <td>DSL</td>\n",
       "      <td>Yes</td>\n",
       "      <td>No</td>\n",
       "      <td>No</td>\n",
       "      <td>No</td>\n",
       "      <td>No</td>\n",
       "      <td>No</td>\n",
       "      <td>Month-to-month</td>\n",
       "      <td>No</td>\n",
       "      <td>Mailed check</td>\n",
       "      <td>57.65</td>\n",
       "      <td>992.70</td>\n",
       "      <td>0</td>\n",
       "    </tr>\n",
       "    <tr>\n",
       "      <th>4</th>\n",
       "      <td>No</td>\n",
       "      <td>No</td>\n",
       "      <td>No</td>\n",
       "      <td>1</td>\n",
       "      <td>No</td>\n",
       "      <td>No</td>\n",
       "      <td>DSL</td>\n",
       "      <td>No</td>\n",
       "      <td>No</td>\n",
       "      <td>No</td>\n",
       "      <td>No</td>\n",
       "      <td>No</td>\n",
       "      <td>Yes</td>\n",
       "      <td>Month-to-month</td>\n",
       "      <td>No</td>\n",
       "      <td>Electronic check</td>\n",
       "      <td>35.90</td>\n",
       "      <td>35.90</td>\n",
       "      <td>1</td>\n",
       "    </tr>\n",
       "    <tr>\n",
       "      <th>5</th>\n",
       "      <td>Yes</td>\n",
       "      <td>No</td>\n",
       "      <td>No</td>\n",
       "      <td>9</td>\n",
       "      <td>Yes</td>\n",
       "      <td>Yes</td>\n",
       "      <td>Fiber optic</td>\n",
       "      <td>No</td>\n",
       "      <td>No</td>\n",
       "      <td>Yes</td>\n",
       "      <td>No</td>\n",
       "      <td>Yes</td>\n",
       "      <td>No</td>\n",
       "      <td>Month-to-month</td>\n",
       "      <td>Yes</td>\n",
       "      <td>Electronic check</td>\n",
       "      <td>90.10</td>\n",
       "      <td>816.80</td>\n",
       "      <td>0</td>\n",
       "    </tr>\n",
       "    <tr>\n",
       "      <th>6</th>\n",
       "      <td>No</td>\n",
       "      <td>No</td>\n",
       "      <td>No</td>\n",
       "      <td>1</td>\n",
       "      <td>Yes</td>\n",
       "      <td>No</td>\n",
       "      <td>No</td>\n",
       "      <td>No</td>\n",
       "      <td>No</td>\n",
       "      <td>No</td>\n",
       "      <td>No</td>\n",
       "      <td>No</td>\n",
       "      <td>No</td>\n",
       "      <td>Month-to-month</td>\n",
       "      <td>No</td>\n",
       "      <td>Mailed check</td>\n",
       "      <td>19.95</td>\n",
       "      <td>19.95</td>\n",
       "      <td>0</td>\n",
       "    </tr>\n",
       "    <tr>\n",
       "      <th>7</th>\n",
       "      <td>No</td>\n",
       "      <td>Yes</td>\n",
       "      <td>No</td>\n",
       "      <td>49</td>\n",
       "      <td>Yes</td>\n",
       "      <td>No</td>\n",
       "      <td>No</td>\n",
       "      <td>No</td>\n",
       "      <td>No</td>\n",
       "      <td>No</td>\n",
       "      <td>No</td>\n",
       "      <td>No</td>\n",
       "      <td>No</td>\n",
       "      <td>One year</td>\n",
       "      <td>No</td>\n",
       "      <td>Credit card (automatic)</td>\n",
       "      <td>20.70</td>\n",
       "      <td>1032.05</td>\n",
       "      <td>0</td>\n",
       "    </tr>\n",
       "    <tr>\n",
       "      <th>8</th>\n",
       "      <td>No</td>\n",
       "      <td>No</td>\n",
       "      <td>No</td>\n",
       "      <td>1</td>\n",
       "      <td>Yes</td>\n",
       "      <td>No</td>\n",
       "      <td>No</td>\n",
       "      <td>No</td>\n",
       "      <td>No</td>\n",
       "      <td>No</td>\n",
       "      <td>No</td>\n",
       "      <td>No</td>\n",
       "      <td>No</td>\n",
       "      <td>Month-to-month</td>\n",
       "      <td>Yes</td>\n",
       "      <td>Mailed check</td>\n",
       "      <td>18.85</td>\n",
       "      <td>18.85</td>\n",
       "      <td>1</td>\n",
       "    </tr>\n",
       "    <tr>\n",
       "      <th>9</th>\n",
       "      <td>Yes</td>\n",
       "      <td>No</td>\n",
       "      <td>No</td>\n",
       "      <td>67</td>\n",
       "      <td>Yes</td>\n",
       "      <td>Yes</td>\n",
       "      <td>Fiber optic</td>\n",
       "      <td>Yes</td>\n",
       "      <td>Yes</td>\n",
       "      <td>Yes</td>\n",
       "      <td>Yes</td>\n",
       "      <td>Yes</td>\n",
       "      <td>Yes</td>\n",
       "      <td>Two year</td>\n",
       "      <td>Yes</td>\n",
       "      <td>Credit card (automatic)</td>\n",
       "      <td>116.10</td>\n",
       "      <td>7839.85</td>\n",
       "      <td>0</td>\n",
       "    </tr>\n",
       "    <tr>\n",
       "      <th>10</th>\n",
       "      <td>No</td>\n",
       "      <td>Yes</td>\n",
       "      <td>Yes</td>\n",
       "      <td>72</td>\n",
       "      <td>Yes</td>\n",
       "      <td>Yes</td>\n",
       "      <td>Fiber optic</td>\n",
       "      <td>No</td>\n",
       "      <td>No</td>\n",
       "      <td>Yes</td>\n",
       "      <td>No</td>\n",
       "      <td>No</td>\n",
       "      <td>Yes</td>\n",
       "      <td>Two year</td>\n",
       "      <td>Yes</td>\n",
       "      <td>Credit card (automatic)</td>\n",
       "      <td>90.80</td>\n",
       "      <td>6511.80</td>\n",
       "      <td>0</td>\n",
       "    </tr>\n",
       "    <tr>\n",
       "      <th>11</th>\n",
       "      <td>No</td>\n",
       "      <td>No</td>\n",
       "      <td>No</td>\n",
       "      <td>48</td>\n",
       "      <td>Yes</td>\n",
       "      <td>Yes</td>\n",
       "      <td>Fiber optic</td>\n",
       "      <td>No</td>\n",
       "      <td>Yes</td>\n",
       "      <td>Yes</td>\n",
       "      <td>No</td>\n",
       "      <td>Yes</td>\n",
       "      <td>Yes</td>\n",
       "      <td>Two year</td>\n",
       "      <td>Yes</td>\n",
       "      <td>Bank transfer (automatic)</td>\n",
       "      <td>108.10</td>\n",
       "      <td>5067.45</td>\n",
       "      <td>0</td>\n",
       "    </tr>\n",
       "    <tr>\n",
       "      <th>12</th>\n",
       "      <td>No</td>\n",
       "      <td>Yes</td>\n",
       "      <td>No</td>\n",
       "      <td>58</td>\n",
       "      <td>Yes</td>\n",
       "      <td>Yes</td>\n",
       "      <td>Fiber optic</td>\n",
       "      <td>No</td>\n",
       "      <td>No</td>\n",
       "      <td>Yes</td>\n",
       "      <td>No</td>\n",
       "      <td>Yes</td>\n",
       "      <td>Yes</td>\n",
       "      <td>One year</td>\n",
       "      <td>No</td>\n",
       "      <td>Credit card (automatic)</td>\n",
       "      <td>100.35</td>\n",
       "      <td>5681.10</td>\n",
       "      <td>0</td>\n",
       "    </tr>\n",
       "    <tr>\n",
       "      <th>13</th>\n",
       "      <td>No</td>\n",
       "      <td>No</td>\n",
       "      <td>No</td>\n",
       "      <td>8</td>\n",
       "      <td>Yes</td>\n",
       "      <td>Yes</td>\n",
       "      <td>Fiber optic</td>\n",
       "      <td>Yes</td>\n",
       "      <td>No</td>\n",
       "      <td>No</td>\n",
       "      <td>Yes</td>\n",
       "      <td>Yes</td>\n",
       "      <td>Yes</td>\n",
       "      <td>Month-to-month</td>\n",
       "      <td>Yes</td>\n",
       "      <td>Bank transfer (automatic)</td>\n",
       "      <td>103.35</td>\n",
       "      <td>847.30</td>\n",
       "      <td>1</td>\n",
       "    </tr>\n",
       "    <tr>\n",
       "      <th>14</th>\n",
       "      <td>No</td>\n",
       "      <td>No</td>\n",
       "      <td>No</td>\n",
       "      <td>1</td>\n",
       "      <td>Yes</td>\n",
       "      <td>No</td>\n",
       "      <td>Fiber optic</td>\n",
       "      <td>No</td>\n",
       "      <td>No</td>\n",
       "      <td>No</td>\n",
       "      <td>No</td>\n",
       "      <td>Yes</td>\n",
       "      <td>No</td>\n",
       "      <td>Month-to-month</td>\n",
       "      <td>Yes</td>\n",
       "      <td>Electronic check</td>\n",
       "      <td>79.65</td>\n",
       "      <td>79.65</td>\n",
       "      <td>1</td>\n",
       "    </tr>\n",
       "    <tr>\n",
       "      <th>15</th>\n",
       "      <td>No</td>\n",
       "      <td>Yes</td>\n",
       "      <td>Yes</td>\n",
       "      <td>19</td>\n",
       "      <td>Yes</td>\n",
       "      <td>No</td>\n",
       "      <td>Fiber optic</td>\n",
       "      <td>No</td>\n",
       "      <td>Yes</td>\n",
       "      <td>No</td>\n",
       "      <td>Yes</td>\n",
       "      <td>Yes</td>\n",
       "      <td>Yes</td>\n",
       "      <td>One year</td>\n",
       "      <td>No</td>\n",
       "      <td>Bank transfer (automatic)</td>\n",
       "      <td>100.00</td>\n",
       "      <td>1888.65</td>\n",
       "      <td>1</td>\n",
       "    </tr>\n",
       "    <tr>\n",
       "      <th>16</th>\n",
       "      <td>No</td>\n",
       "      <td>No</td>\n",
       "      <td>No</td>\n",
       "      <td>29</td>\n",
       "      <td>Yes</td>\n",
       "      <td>Yes</td>\n",
       "      <td>DSL</td>\n",
       "      <td>No</td>\n",
       "      <td>No</td>\n",
       "      <td>No</td>\n",
       "      <td>No</td>\n",
       "      <td>Yes</td>\n",
       "      <td>Yes</td>\n",
       "      <td>One year</td>\n",
       "      <td>Yes</td>\n",
       "      <td>Credit card (automatic)</td>\n",
       "      <td>71.00</td>\n",
       "      <td>2080.10</td>\n",
       "      <td>0</td>\n",
       "    </tr>\n",
       "    <tr>\n",
       "      <th>17</th>\n",
       "      <td>No</td>\n",
       "      <td>No</td>\n",
       "      <td>No</td>\n",
       "      <td>7</td>\n",
       "      <td>Yes</td>\n",
       "      <td>Yes</td>\n",
       "      <td>No</td>\n",
       "      <td>No</td>\n",
       "      <td>No</td>\n",
       "      <td>No</td>\n",
       "      <td>No</td>\n",
       "      <td>No</td>\n",
       "      <td>No</td>\n",
       "      <td>Month-to-month</td>\n",
       "      <td>No</td>\n",
       "      <td>Mailed check</td>\n",
       "      <td>23.50</td>\n",
       "      <td>173.00</td>\n",
       "      <td>0</td>\n",
       "    </tr>\n",
       "    <tr>\n",
       "      <th>18</th>\n",
       "      <td>No</td>\n",
       "      <td>Yes</td>\n",
       "      <td>No</td>\n",
       "      <td>71</td>\n",
       "      <td>Yes</td>\n",
       "      <td>Yes</td>\n",
       "      <td>Fiber optic</td>\n",
       "      <td>Yes</td>\n",
       "      <td>Yes</td>\n",
       "      <td>No</td>\n",
       "      <td>No</td>\n",
       "      <td>Yes</td>\n",
       "      <td>No</td>\n",
       "      <td>One year</td>\n",
       "      <td>No</td>\n",
       "      <td>Mailed check</td>\n",
       "      <td>95.65</td>\n",
       "      <td>6856.95</td>\n",
       "      <td>0</td>\n",
       "    </tr>\n",
       "    <tr>\n",
       "      <th>19</th>\n",
       "      <td>No</td>\n",
       "      <td>No</td>\n",
       "      <td>No</td>\n",
       "      <td>66</td>\n",
       "      <td>Yes</td>\n",
       "      <td>Yes</td>\n",
       "      <td>No</td>\n",
       "      <td>No</td>\n",
       "      <td>No</td>\n",
       "      <td>No</td>\n",
       "      <td>No</td>\n",
       "      <td>No</td>\n",
       "      <td>No</td>\n",
       "      <td>Two year</td>\n",
       "      <td>No</td>\n",
       "      <td>Mailed check</td>\n",
       "      <td>25.10</td>\n",
       "      <td>1697.70</td>\n",
       "      <td>0</td>\n",
       "    </tr>\n",
       "  </tbody>\n",
       "</table>\n",
       "</div>"
      ],
      "text/plain": [
       "   SeniorCitizen Partner Dependents  tenure PhoneService MultipleLines  \\\n",
       "0             No      No         No       1          Yes            No   \n",
       "1             No     Yes         No      33           No            No   \n",
       "2             No     Yes        Yes      49          Yes           Yes   \n",
       "3             No      No        Yes      18          Yes           Yes   \n",
       "4             No      No         No       1           No            No   \n",
       "5            Yes      No         No       9          Yes           Yes   \n",
       "6             No      No         No       1          Yes            No   \n",
       "7             No     Yes         No      49          Yes            No   \n",
       "8             No      No         No       1          Yes            No   \n",
       "9            Yes      No         No      67          Yes           Yes   \n",
       "10            No     Yes        Yes      72          Yes           Yes   \n",
       "11            No      No         No      48          Yes           Yes   \n",
       "12            No     Yes         No      58          Yes           Yes   \n",
       "13            No      No         No       8          Yes           Yes   \n",
       "14            No      No         No       1          Yes            No   \n",
       "15            No     Yes        Yes      19          Yes            No   \n",
       "16            No      No         No      29          Yes           Yes   \n",
       "17            No      No         No       7          Yes           Yes   \n",
       "18            No     Yes         No      71          Yes           Yes   \n",
       "19            No      No         No      66          Yes           Yes   \n",
       "\n",
       "   InternetService OnlineSecurity OnlineBackup DeviceProtection TechSupport  \\\n",
       "0               No             No           No               No          No   \n",
       "1              DSL            Yes           No              Yes         Yes   \n",
       "2      Fiber optic             No           No               No          No   \n",
       "3              DSL            Yes           No               No          No   \n",
       "4              DSL             No           No               No          No   \n",
       "5      Fiber optic             No           No              Yes          No   \n",
       "6               No             No           No               No          No   \n",
       "7               No             No           No               No          No   \n",
       "8               No             No           No               No          No   \n",
       "9      Fiber optic            Yes          Yes              Yes         Yes   \n",
       "10     Fiber optic             No           No              Yes          No   \n",
       "11     Fiber optic             No          Yes              Yes          No   \n",
       "12     Fiber optic             No           No              Yes          No   \n",
       "13     Fiber optic            Yes           No               No         Yes   \n",
       "14     Fiber optic             No           No               No          No   \n",
       "15     Fiber optic             No          Yes               No         Yes   \n",
       "16             DSL             No           No               No          No   \n",
       "17              No             No           No               No          No   \n",
       "18     Fiber optic            Yes          Yes               No          No   \n",
       "19              No             No           No               No          No   \n",
       "\n",
       "   StreamingTV StreamingMovies        Contract PaperlessBilling  \\\n",
       "0           No              No  Month-to-month               No   \n",
       "1          Yes             Yes        Two year               No   \n",
       "2          Yes             Yes  Month-to-month              Yes   \n",
       "3           No              No  Month-to-month               No   \n",
       "4           No             Yes  Month-to-month               No   \n",
       "5          Yes              No  Month-to-month              Yes   \n",
       "6           No              No  Month-to-month               No   \n",
       "7           No              No        One year               No   \n",
       "8           No              No  Month-to-month              Yes   \n",
       "9          Yes             Yes        Two year              Yes   \n",
       "10          No             Yes        Two year              Yes   \n",
       "11         Yes             Yes        Two year              Yes   \n",
       "12         Yes             Yes        One year               No   \n",
       "13         Yes             Yes  Month-to-month              Yes   \n",
       "14         Yes              No  Month-to-month              Yes   \n",
       "15         Yes             Yes        One year               No   \n",
       "16         Yes             Yes        One year              Yes   \n",
       "17          No              No  Month-to-month               No   \n",
       "18         Yes              No        One year               No   \n",
       "19          No              No        Two year               No   \n",
       "\n",
       "                PaymentMethod  MonthlyCharges  TotalCharges  Churn  \n",
       "0                Mailed check           20.00         20.00      1  \n",
       "1   Bank transfer (automatic)           59.55       2016.30      0  \n",
       "2   Bank transfer (automatic)           95.40       4613.95      0  \n",
       "3                Mailed check           57.65        992.70      0  \n",
       "4            Electronic check           35.90         35.90      1  \n",
       "5            Electronic check           90.10        816.80      0  \n",
       "6                Mailed check           19.95         19.95      0  \n",
       "7     Credit card (automatic)           20.70       1032.05      0  \n",
       "8                Mailed check           18.85         18.85      1  \n",
       "9     Credit card (automatic)          116.10       7839.85      0  \n",
       "10    Credit card (automatic)           90.80       6511.80      0  \n",
       "11  Bank transfer (automatic)          108.10       5067.45      0  \n",
       "12    Credit card (automatic)          100.35       5681.10      0  \n",
       "13  Bank transfer (automatic)          103.35        847.30      1  \n",
       "14           Electronic check           79.65         79.65      1  \n",
       "15  Bank transfer (automatic)          100.00       1888.65      1  \n",
       "16    Credit card (automatic)           71.00       2080.10      0  \n",
       "17               Mailed check           23.50        173.00      0  \n",
       "18               Mailed check           95.65       6856.95      0  \n",
       "19               Mailed check           25.10       1697.70      0  "
      ]
     },
     "execution_count": 82,
     "metadata": {},
     "output_type": "execute_result"
    }
   ],
   "source": [
    "df_inf"
   ]
  },
  {
   "cell_type": "markdown",
   "metadata": {},
   "source": [
    "Melakukan preprocessing terhadap data inference."
   ]
  },
  {
   "cell_type": "code",
   "execution_count": null,
   "metadata": {},
   "outputs": [
    {
     "name": "stdout",
     "output_type": "stream",
     "text": [
      "1/1 [==============================] - 0s 168ms/step\n"
     ]
    }
   ],
   "source": [
    "y_pred_inf_seqimp = modelseqimp.predict(df_pred_inf)"
   ]
  },
  {
   "cell_type": "markdown",
   "metadata": {},
   "source": [
    "Proses predict churn berdasarkan model yang telah dibuat sebelumnya. Penggunaan Model Sequential yang telah diimprove (tanpa smote balancing) karena df_inf datanya tidak balance"
   ]
  },
  {
   "cell_type": "code",
   "execution_count": null,
   "metadata": {},
   "outputs": [
    {
     "name": "stdout",
     "output_type": "stream",
     "text": [
      "              precision    recall  f1-score   support\n",
      "\n",
      "           0       0.81      0.93      0.87        14\n",
      "           1       0.75      0.50      0.60         6\n",
      "\n",
      "    accuracy                           0.80        20\n",
      "   macro avg       0.78      0.71      0.73        20\n",
      "weighted avg       0.79      0.80      0.79        20\n",
      "\n"
     ]
    }
   ],
   "source": [
    "y_pred_inf_seqimp = np.where(y_pred_inf_seqimp > 0.5, 1, 0)\n",
    "print(classification_report(df_inf['Churn'], y_pred_inf_seqimp.round()))"
   ]
  },
  {
   "cell_type": "markdown",
   "metadata": {},
   "source": [
    "Berdasarkan classification report didapatkan nilai presisi sebesar 75%. Nilai tersebut tidak terlalu bagus karena masih ada 25% error yang cukup besar."
   ]
  },
  {
   "cell_type": "code",
   "execution_count": null,
   "metadata": {},
   "outputs": [
    {
     "name": "stdout",
     "output_type": "stream",
     "text": [
      "<class 'pandas.core.frame.DataFrame'>\n",
      "RangeIndex: 20 entries, 0 to 19\n",
      "Data columns (total 1 columns):\n",
      " #   Column           Non-Null Count  Dtype\n",
      "---  ------           --------------  -----\n",
      " 0   ChurnPrediction  20 non-null     int32\n",
      "dtypes: int32(1)\n",
      "memory usage: 208.0 bytes\n"
     ]
    }
   ],
   "source": [
    "y_pred_inf_seqimp_df = pd.DataFrame(y_pred_inf_seqimp, columns=['ChurnPrediction'])\n",
    "y_pred_inf_seqimp_df.info()"
   ]
  },
  {
   "cell_type": "markdown",
   "metadata": {},
   "source": [
    "Membuat hasil prediksi data inference ke dalam dataframe."
   ]
  },
  {
   "cell_type": "code",
   "execution_count": null,
   "metadata": {},
   "outputs": [
    {
     "data": {
      "text/html": [
       "<div>\n",
       "<style scoped>\n",
       "    .dataframe tbody tr th:only-of-type {\n",
       "        vertical-align: middle;\n",
       "    }\n",
       "\n",
       "    .dataframe tbody tr th {\n",
       "        vertical-align: top;\n",
       "    }\n",
       "\n",
       "    .dataframe thead th {\n",
       "        text-align: right;\n",
       "    }\n",
       "</style>\n",
       "<table border=\"1\" class=\"dataframe\">\n",
       "  <thead>\n",
       "    <tr style=\"text-align: right;\">\n",
       "      <th></th>\n",
       "      <th>SeniorCitizen</th>\n",
       "      <th>Partner</th>\n",
       "      <th>Dependents</th>\n",
       "      <th>tenure</th>\n",
       "      <th>PhoneService</th>\n",
       "      <th>MultipleLines</th>\n",
       "      <th>InternetService</th>\n",
       "      <th>OnlineSecurity</th>\n",
       "      <th>OnlineBackup</th>\n",
       "      <th>DeviceProtection</th>\n",
       "      <th>TechSupport</th>\n",
       "      <th>StreamingTV</th>\n",
       "      <th>StreamingMovies</th>\n",
       "      <th>Contract</th>\n",
       "      <th>PaperlessBilling</th>\n",
       "      <th>PaymentMethod</th>\n",
       "      <th>MonthlyCharges</th>\n",
       "      <th>TotalCharges</th>\n",
       "      <th>Churn</th>\n",
       "      <th>ChurnPrediction</th>\n",
       "    </tr>\n",
       "  </thead>\n",
       "  <tbody>\n",
       "    <tr>\n",
       "      <th>0</th>\n",
       "      <td>No</td>\n",
       "      <td>No</td>\n",
       "      <td>No</td>\n",
       "      <td>1</td>\n",
       "      <td>Yes</td>\n",
       "      <td>No</td>\n",
       "      <td>No</td>\n",
       "      <td>No</td>\n",
       "      <td>No</td>\n",
       "      <td>No</td>\n",
       "      <td>No</td>\n",
       "      <td>No</td>\n",
       "      <td>No</td>\n",
       "      <td>Month-to-month</td>\n",
       "      <td>No</td>\n",
       "      <td>Mailed check</td>\n",
       "      <td>20.00</td>\n",
       "      <td>20.00</td>\n",
       "      <td>1</td>\n",
       "      <td>0</td>\n",
       "    </tr>\n",
       "    <tr>\n",
       "      <th>1</th>\n",
       "      <td>No</td>\n",
       "      <td>Yes</td>\n",
       "      <td>No</td>\n",
       "      <td>33</td>\n",
       "      <td>No</td>\n",
       "      <td>No</td>\n",
       "      <td>DSL</td>\n",
       "      <td>Yes</td>\n",
       "      <td>No</td>\n",
       "      <td>Yes</td>\n",
       "      <td>Yes</td>\n",
       "      <td>Yes</td>\n",
       "      <td>Yes</td>\n",
       "      <td>Two year</td>\n",
       "      <td>No</td>\n",
       "      <td>Bank transfer (automatic)</td>\n",
       "      <td>59.55</td>\n",
       "      <td>2016.30</td>\n",
       "      <td>0</td>\n",
       "      <td>0</td>\n",
       "    </tr>\n",
       "    <tr>\n",
       "      <th>2</th>\n",
       "      <td>No</td>\n",
       "      <td>Yes</td>\n",
       "      <td>Yes</td>\n",
       "      <td>49</td>\n",
       "      <td>Yes</td>\n",
       "      <td>Yes</td>\n",
       "      <td>Fiber optic</td>\n",
       "      <td>No</td>\n",
       "      <td>No</td>\n",
       "      <td>No</td>\n",
       "      <td>No</td>\n",
       "      <td>Yes</td>\n",
       "      <td>Yes</td>\n",
       "      <td>Month-to-month</td>\n",
       "      <td>Yes</td>\n",
       "      <td>Bank transfer (automatic)</td>\n",
       "      <td>95.40</td>\n",
       "      <td>4613.95</td>\n",
       "      <td>0</td>\n",
       "      <td>0</td>\n",
       "    </tr>\n",
       "    <tr>\n",
       "      <th>3</th>\n",
       "      <td>No</td>\n",
       "      <td>No</td>\n",
       "      <td>Yes</td>\n",
       "      <td>18</td>\n",
       "      <td>Yes</td>\n",
       "      <td>Yes</td>\n",
       "      <td>DSL</td>\n",
       "      <td>Yes</td>\n",
       "      <td>No</td>\n",
       "      <td>No</td>\n",
       "      <td>No</td>\n",
       "      <td>No</td>\n",
       "      <td>No</td>\n",
       "      <td>Month-to-month</td>\n",
       "      <td>No</td>\n",
       "      <td>Mailed check</td>\n",
       "      <td>57.65</td>\n",
       "      <td>992.70</td>\n",
       "      <td>0</td>\n",
       "      <td>0</td>\n",
       "    </tr>\n",
       "    <tr>\n",
       "      <th>4</th>\n",
       "      <td>No</td>\n",
       "      <td>No</td>\n",
       "      <td>No</td>\n",
       "      <td>1</td>\n",
       "      <td>No</td>\n",
       "      <td>No</td>\n",
       "      <td>DSL</td>\n",
       "      <td>No</td>\n",
       "      <td>No</td>\n",
       "      <td>No</td>\n",
       "      <td>No</td>\n",
       "      <td>No</td>\n",
       "      <td>Yes</td>\n",
       "      <td>Month-to-month</td>\n",
       "      <td>No</td>\n",
       "      <td>Electronic check</td>\n",
       "      <td>35.90</td>\n",
       "      <td>35.90</td>\n",
       "      <td>1</td>\n",
       "      <td>1</td>\n",
       "    </tr>\n",
       "    <tr>\n",
       "      <th>5</th>\n",
       "      <td>Yes</td>\n",
       "      <td>No</td>\n",
       "      <td>No</td>\n",
       "      <td>9</td>\n",
       "      <td>Yes</td>\n",
       "      <td>Yes</td>\n",
       "      <td>Fiber optic</td>\n",
       "      <td>No</td>\n",
       "      <td>No</td>\n",
       "      <td>Yes</td>\n",
       "      <td>No</td>\n",
       "      <td>Yes</td>\n",
       "      <td>No</td>\n",
       "      <td>Month-to-month</td>\n",
       "      <td>Yes</td>\n",
       "      <td>Electronic check</td>\n",
       "      <td>90.10</td>\n",
       "      <td>816.80</td>\n",
       "      <td>0</td>\n",
       "      <td>1</td>\n",
       "    </tr>\n",
       "    <tr>\n",
       "      <th>6</th>\n",
       "      <td>No</td>\n",
       "      <td>No</td>\n",
       "      <td>No</td>\n",
       "      <td>1</td>\n",
       "      <td>Yes</td>\n",
       "      <td>No</td>\n",
       "      <td>No</td>\n",
       "      <td>No</td>\n",
       "      <td>No</td>\n",
       "      <td>No</td>\n",
       "      <td>No</td>\n",
       "      <td>No</td>\n",
       "      <td>No</td>\n",
       "      <td>Month-to-month</td>\n",
       "      <td>No</td>\n",
       "      <td>Mailed check</td>\n",
       "      <td>19.95</td>\n",
       "      <td>19.95</td>\n",
       "      <td>0</td>\n",
       "      <td>0</td>\n",
       "    </tr>\n",
       "    <tr>\n",
       "      <th>7</th>\n",
       "      <td>No</td>\n",
       "      <td>Yes</td>\n",
       "      <td>No</td>\n",
       "      <td>49</td>\n",
       "      <td>Yes</td>\n",
       "      <td>No</td>\n",
       "      <td>No</td>\n",
       "      <td>No</td>\n",
       "      <td>No</td>\n",
       "      <td>No</td>\n",
       "      <td>No</td>\n",
       "      <td>No</td>\n",
       "      <td>No</td>\n",
       "      <td>One year</td>\n",
       "      <td>No</td>\n",
       "      <td>Credit card (automatic)</td>\n",
       "      <td>20.70</td>\n",
       "      <td>1032.05</td>\n",
       "      <td>0</td>\n",
       "      <td>0</td>\n",
       "    </tr>\n",
       "    <tr>\n",
       "      <th>8</th>\n",
       "      <td>No</td>\n",
       "      <td>No</td>\n",
       "      <td>No</td>\n",
       "      <td>1</td>\n",
       "      <td>Yes</td>\n",
       "      <td>No</td>\n",
       "      <td>No</td>\n",
       "      <td>No</td>\n",
       "      <td>No</td>\n",
       "      <td>No</td>\n",
       "      <td>No</td>\n",
       "      <td>No</td>\n",
       "      <td>No</td>\n",
       "      <td>Month-to-month</td>\n",
       "      <td>Yes</td>\n",
       "      <td>Mailed check</td>\n",
       "      <td>18.85</td>\n",
       "      <td>18.85</td>\n",
       "      <td>1</td>\n",
       "      <td>0</td>\n",
       "    </tr>\n",
       "    <tr>\n",
       "      <th>9</th>\n",
       "      <td>Yes</td>\n",
       "      <td>No</td>\n",
       "      <td>No</td>\n",
       "      <td>67</td>\n",
       "      <td>Yes</td>\n",
       "      <td>Yes</td>\n",
       "      <td>Fiber optic</td>\n",
       "      <td>Yes</td>\n",
       "      <td>Yes</td>\n",
       "      <td>Yes</td>\n",
       "      <td>Yes</td>\n",
       "      <td>Yes</td>\n",
       "      <td>Yes</td>\n",
       "      <td>Two year</td>\n",
       "      <td>Yes</td>\n",
       "      <td>Credit card (automatic)</td>\n",
       "      <td>116.10</td>\n",
       "      <td>7839.85</td>\n",
       "      <td>0</td>\n",
       "      <td>0</td>\n",
       "    </tr>\n",
       "    <tr>\n",
       "      <th>10</th>\n",
       "      <td>No</td>\n",
       "      <td>Yes</td>\n",
       "      <td>Yes</td>\n",
       "      <td>72</td>\n",
       "      <td>Yes</td>\n",
       "      <td>Yes</td>\n",
       "      <td>Fiber optic</td>\n",
       "      <td>No</td>\n",
       "      <td>No</td>\n",
       "      <td>Yes</td>\n",
       "      <td>No</td>\n",
       "      <td>No</td>\n",
       "      <td>Yes</td>\n",
       "      <td>Two year</td>\n",
       "      <td>Yes</td>\n",
       "      <td>Credit card (automatic)</td>\n",
       "      <td>90.80</td>\n",
       "      <td>6511.80</td>\n",
       "      <td>0</td>\n",
       "      <td>0</td>\n",
       "    </tr>\n",
       "    <tr>\n",
       "      <th>11</th>\n",
       "      <td>No</td>\n",
       "      <td>No</td>\n",
       "      <td>No</td>\n",
       "      <td>48</td>\n",
       "      <td>Yes</td>\n",
       "      <td>Yes</td>\n",
       "      <td>Fiber optic</td>\n",
       "      <td>No</td>\n",
       "      <td>Yes</td>\n",
       "      <td>Yes</td>\n",
       "      <td>No</td>\n",
       "      <td>Yes</td>\n",
       "      <td>Yes</td>\n",
       "      <td>Two year</td>\n",
       "      <td>Yes</td>\n",
       "      <td>Bank transfer (automatic)</td>\n",
       "      <td>108.10</td>\n",
       "      <td>5067.45</td>\n",
       "      <td>0</td>\n",
       "      <td>0</td>\n",
       "    </tr>\n",
       "    <tr>\n",
       "      <th>12</th>\n",
       "      <td>No</td>\n",
       "      <td>Yes</td>\n",
       "      <td>No</td>\n",
       "      <td>58</td>\n",
       "      <td>Yes</td>\n",
       "      <td>Yes</td>\n",
       "      <td>Fiber optic</td>\n",
       "      <td>No</td>\n",
       "      <td>No</td>\n",
       "      <td>Yes</td>\n",
       "      <td>No</td>\n",
       "      <td>Yes</td>\n",
       "      <td>Yes</td>\n",
       "      <td>One year</td>\n",
       "      <td>No</td>\n",
       "      <td>Credit card (automatic)</td>\n",
       "      <td>100.35</td>\n",
       "      <td>5681.10</td>\n",
       "      <td>0</td>\n",
       "      <td>0</td>\n",
       "    </tr>\n",
       "    <tr>\n",
       "      <th>13</th>\n",
       "      <td>No</td>\n",
       "      <td>No</td>\n",
       "      <td>No</td>\n",
       "      <td>8</td>\n",
       "      <td>Yes</td>\n",
       "      <td>Yes</td>\n",
       "      <td>Fiber optic</td>\n",
       "      <td>Yes</td>\n",
       "      <td>No</td>\n",
       "      <td>No</td>\n",
       "      <td>Yes</td>\n",
       "      <td>Yes</td>\n",
       "      <td>Yes</td>\n",
       "      <td>Month-to-month</td>\n",
       "      <td>Yes</td>\n",
       "      <td>Bank transfer (automatic)</td>\n",
       "      <td>103.35</td>\n",
       "      <td>847.30</td>\n",
       "      <td>1</td>\n",
       "      <td>1</td>\n",
       "    </tr>\n",
       "    <tr>\n",
       "      <th>14</th>\n",
       "      <td>No</td>\n",
       "      <td>No</td>\n",
       "      <td>No</td>\n",
       "      <td>1</td>\n",
       "      <td>Yes</td>\n",
       "      <td>No</td>\n",
       "      <td>Fiber optic</td>\n",
       "      <td>No</td>\n",
       "      <td>No</td>\n",
       "      <td>No</td>\n",
       "      <td>No</td>\n",
       "      <td>Yes</td>\n",
       "      <td>No</td>\n",
       "      <td>Month-to-month</td>\n",
       "      <td>Yes</td>\n",
       "      <td>Electronic check</td>\n",
       "      <td>79.65</td>\n",
       "      <td>79.65</td>\n",
       "      <td>1</td>\n",
       "      <td>1</td>\n",
       "    </tr>\n",
       "    <tr>\n",
       "      <th>15</th>\n",
       "      <td>No</td>\n",
       "      <td>Yes</td>\n",
       "      <td>Yes</td>\n",
       "      <td>19</td>\n",
       "      <td>Yes</td>\n",
       "      <td>No</td>\n",
       "      <td>Fiber optic</td>\n",
       "      <td>No</td>\n",
       "      <td>Yes</td>\n",
       "      <td>No</td>\n",
       "      <td>Yes</td>\n",
       "      <td>Yes</td>\n",
       "      <td>Yes</td>\n",
       "      <td>One year</td>\n",
       "      <td>No</td>\n",
       "      <td>Bank transfer (automatic)</td>\n",
       "      <td>100.00</td>\n",
       "      <td>1888.65</td>\n",
       "      <td>1</td>\n",
       "      <td>0</td>\n",
       "    </tr>\n",
       "    <tr>\n",
       "      <th>16</th>\n",
       "      <td>No</td>\n",
       "      <td>No</td>\n",
       "      <td>No</td>\n",
       "      <td>29</td>\n",
       "      <td>Yes</td>\n",
       "      <td>Yes</td>\n",
       "      <td>DSL</td>\n",
       "      <td>No</td>\n",
       "      <td>No</td>\n",
       "      <td>No</td>\n",
       "      <td>No</td>\n",
       "      <td>Yes</td>\n",
       "      <td>Yes</td>\n",
       "      <td>One year</td>\n",
       "      <td>Yes</td>\n",
       "      <td>Credit card (automatic)</td>\n",
       "      <td>71.00</td>\n",
       "      <td>2080.10</td>\n",
       "      <td>0</td>\n",
       "      <td>0</td>\n",
       "    </tr>\n",
       "    <tr>\n",
       "      <th>17</th>\n",
       "      <td>No</td>\n",
       "      <td>No</td>\n",
       "      <td>No</td>\n",
       "      <td>7</td>\n",
       "      <td>Yes</td>\n",
       "      <td>Yes</td>\n",
       "      <td>No</td>\n",
       "      <td>No</td>\n",
       "      <td>No</td>\n",
       "      <td>No</td>\n",
       "      <td>No</td>\n",
       "      <td>No</td>\n",
       "      <td>No</td>\n",
       "      <td>Month-to-month</td>\n",
       "      <td>No</td>\n",
       "      <td>Mailed check</td>\n",
       "      <td>23.50</td>\n",
       "      <td>173.00</td>\n",
       "      <td>0</td>\n",
       "      <td>0</td>\n",
       "    </tr>\n",
       "    <tr>\n",
       "      <th>18</th>\n",
       "      <td>No</td>\n",
       "      <td>Yes</td>\n",
       "      <td>No</td>\n",
       "      <td>71</td>\n",
       "      <td>Yes</td>\n",
       "      <td>Yes</td>\n",
       "      <td>Fiber optic</td>\n",
       "      <td>Yes</td>\n",
       "      <td>Yes</td>\n",
       "      <td>No</td>\n",
       "      <td>No</td>\n",
       "      <td>Yes</td>\n",
       "      <td>No</td>\n",
       "      <td>One year</td>\n",
       "      <td>No</td>\n",
       "      <td>Mailed check</td>\n",
       "      <td>95.65</td>\n",
       "      <td>6856.95</td>\n",
       "      <td>0</td>\n",
       "      <td>0</td>\n",
       "    </tr>\n",
       "    <tr>\n",
       "      <th>19</th>\n",
       "      <td>No</td>\n",
       "      <td>No</td>\n",
       "      <td>No</td>\n",
       "      <td>66</td>\n",
       "      <td>Yes</td>\n",
       "      <td>Yes</td>\n",
       "      <td>No</td>\n",
       "      <td>No</td>\n",
       "      <td>No</td>\n",
       "      <td>No</td>\n",
       "      <td>No</td>\n",
       "      <td>No</td>\n",
       "      <td>No</td>\n",
       "      <td>Two year</td>\n",
       "      <td>No</td>\n",
       "      <td>Mailed check</td>\n",
       "      <td>25.10</td>\n",
       "      <td>1697.70</td>\n",
       "      <td>0</td>\n",
       "      <td>0</td>\n",
       "    </tr>\n",
       "  </tbody>\n",
       "</table>\n",
       "</div>"
      ],
      "text/plain": [
       "   SeniorCitizen Partner Dependents  tenure PhoneService MultipleLines  \\\n",
       "0             No      No         No       1          Yes            No   \n",
       "1             No     Yes         No      33           No            No   \n",
       "2             No     Yes        Yes      49          Yes           Yes   \n",
       "3             No      No        Yes      18          Yes           Yes   \n",
       "4             No      No         No       1           No            No   \n",
       "5            Yes      No         No       9          Yes           Yes   \n",
       "6             No      No         No       1          Yes            No   \n",
       "7             No     Yes         No      49          Yes            No   \n",
       "8             No      No         No       1          Yes            No   \n",
       "9            Yes      No         No      67          Yes           Yes   \n",
       "10            No     Yes        Yes      72          Yes           Yes   \n",
       "11            No      No         No      48          Yes           Yes   \n",
       "12            No     Yes         No      58          Yes           Yes   \n",
       "13            No      No         No       8          Yes           Yes   \n",
       "14            No      No         No       1          Yes            No   \n",
       "15            No     Yes        Yes      19          Yes            No   \n",
       "16            No      No         No      29          Yes           Yes   \n",
       "17            No      No         No       7          Yes           Yes   \n",
       "18            No     Yes         No      71          Yes           Yes   \n",
       "19            No      No         No      66          Yes           Yes   \n",
       "\n",
       "   InternetService OnlineSecurity OnlineBackup DeviceProtection TechSupport  \\\n",
       "0               No             No           No               No          No   \n",
       "1              DSL            Yes           No              Yes         Yes   \n",
       "2      Fiber optic             No           No               No          No   \n",
       "3              DSL            Yes           No               No          No   \n",
       "4              DSL             No           No               No          No   \n",
       "5      Fiber optic             No           No              Yes          No   \n",
       "6               No             No           No               No          No   \n",
       "7               No             No           No               No          No   \n",
       "8               No             No           No               No          No   \n",
       "9      Fiber optic            Yes          Yes              Yes         Yes   \n",
       "10     Fiber optic             No           No              Yes          No   \n",
       "11     Fiber optic             No          Yes              Yes          No   \n",
       "12     Fiber optic             No           No              Yes          No   \n",
       "13     Fiber optic            Yes           No               No         Yes   \n",
       "14     Fiber optic             No           No               No          No   \n",
       "15     Fiber optic             No          Yes               No         Yes   \n",
       "16             DSL             No           No               No          No   \n",
       "17              No             No           No               No          No   \n",
       "18     Fiber optic            Yes          Yes               No          No   \n",
       "19              No             No           No               No          No   \n",
       "\n",
       "   StreamingTV StreamingMovies        Contract PaperlessBilling  \\\n",
       "0           No              No  Month-to-month               No   \n",
       "1          Yes             Yes        Two year               No   \n",
       "2          Yes             Yes  Month-to-month              Yes   \n",
       "3           No              No  Month-to-month               No   \n",
       "4           No             Yes  Month-to-month               No   \n",
       "5          Yes              No  Month-to-month              Yes   \n",
       "6           No              No  Month-to-month               No   \n",
       "7           No              No        One year               No   \n",
       "8           No              No  Month-to-month              Yes   \n",
       "9          Yes             Yes        Two year              Yes   \n",
       "10          No             Yes        Two year              Yes   \n",
       "11         Yes             Yes        Two year              Yes   \n",
       "12         Yes             Yes        One year               No   \n",
       "13         Yes             Yes  Month-to-month              Yes   \n",
       "14         Yes              No  Month-to-month              Yes   \n",
       "15         Yes             Yes        One year               No   \n",
       "16         Yes             Yes        One year              Yes   \n",
       "17          No              No  Month-to-month               No   \n",
       "18         Yes              No        One year               No   \n",
       "19          No              No        Two year               No   \n",
       "\n",
       "                PaymentMethod  MonthlyCharges  TotalCharges  Churn  \\\n",
       "0                Mailed check           20.00         20.00      1   \n",
       "1   Bank transfer (automatic)           59.55       2016.30      0   \n",
       "2   Bank transfer (automatic)           95.40       4613.95      0   \n",
       "3                Mailed check           57.65        992.70      0   \n",
       "4            Electronic check           35.90         35.90      1   \n",
       "5            Electronic check           90.10        816.80      0   \n",
       "6                Mailed check           19.95         19.95      0   \n",
       "7     Credit card (automatic)           20.70       1032.05      0   \n",
       "8                Mailed check           18.85         18.85      1   \n",
       "9     Credit card (automatic)          116.10       7839.85      0   \n",
       "10    Credit card (automatic)           90.80       6511.80      0   \n",
       "11  Bank transfer (automatic)          108.10       5067.45      0   \n",
       "12    Credit card (automatic)          100.35       5681.10      0   \n",
       "13  Bank transfer (automatic)          103.35        847.30      1   \n",
       "14           Electronic check           79.65         79.65      1   \n",
       "15  Bank transfer (automatic)          100.00       1888.65      1   \n",
       "16    Credit card (automatic)           71.00       2080.10      0   \n",
       "17               Mailed check           23.50        173.00      0   \n",
       "18               Mailed check           95.65       6856.95      0   \n",
       "19               Mailed check           25.10       1697.70      0   \n",
       "\n",
       "    ChurnPrediction  \n",
       "0                 0  \n",
       "1                 0  \n",
       "2                 0  \n",
       "3                 0  \n",
       "4                 1  \n",
       "5                 1  \n",
       "6                 0  \n",
       "7                 0  \n",
       "8                 0  \n",
       "9                 0  \n",
       "10                0  \n",
       "11                0  \n",
       "12                0  \n",
       "13                1  \n",
       "14                1  \n",
       "15                0  \n",
       "16                0  \n",
       "17                0  \n",
       "18                0  \n",
       "19                0  "
      ]
     },
     "execution_count": 84,
     "metadata": {},
     "output_type": "execute_result"
    }
   ],
   "source": [
    "pd.concat([df_inf, y_pred_inf_seqimp_df], axis=1)"
   ]
  },
  {
   "cell_type": "markdown",
   "metadata": {},
   "source": [
    "Setelah digabungkan dengan data asalnya bisa kita lihat langsung pada bagian mana saja prediksi yang benar dan salah.\n",
    "\n",
    "----"
   ]
  },
  {
   "cell_type": "markdown",
   "metadata": {},
   "source": [
    "## **KESIMPULAN**"
   ]
  },
  {
   "cell_type": "markdown",
   "metadata": {},
   "source": [
    "Pada pembuatan model kali ini didapati bahwa pada kolom-kolom dataset tidak semuanya digunakan karena tidak berpengaruh dalam prediksi Churn. Kolom CustomerID dan Gender didrop dalam pemodelan ini. Setelah data dibersihkan, dibuat beberapa model training. Data churn imbalance sehingga bisa diprediksi nilai precision atau recallnya akan kurang baik pada target. Ada model training dengan sequential dan functional API dengan base parameter lalu ada juga dengan improvement pada kedua model tersebut.\n",
    "\n",
    "Nilai Precision adalah nilai yang menjadi perhatian dalam pembuatan model ini karena nilai False Positif lebih merugikan dimana ketika seorang customer terdeteksi churn (tidak lagi menggunakan produk) tapi sebenarnya masih menggunakan produk. Diharapkan model ini bisa sangat meminimalisasi False Positif.\n",
    "\n",
    "Dari 4 model yang telah dilatih, model Sequential API dengan improvement menjadi model terbaik namun nilai precision yang didapatkan hanya 61%. Presisinya bisa dikatakan kurang baik karena bisa salah prediksi sampai 39%.\n",
    "\n",
    "Karena model sebelumnya kurang memberikan nilai presisi yang baik, dicoba improvement selanjutnya dengan menyeimbangkan data menggunakan SMOTE Balancing pada dataset. Terlihat hasilnya cukup naik signifikan dengan Precision 71%. Untuk model prediksi sebetulnya masih dianggap kurang bila belum menyentuh angka 95%. Setidaknya sudah tergambarkan bagaimana cara-cara untuk meningkatkan Precision dalam prediksi Churn.\n",
    "\n",
    "Setelah train test dan evaluasi, dicoba kembali untuk memprediksi data inference yang telah dipisahkan di awal sebanyak 20 row data. Prediksi menggunakan model Sequential API yang telah diimprove tanpa ada SMOTE Balancing data. Hasil presisi yang didapat sebesar 75%\n",
    "\n",
    "Saran untuk meningkatkan kualitas dari model :<br>\n",
    "1. Balancing data\n",
    "2. Mencoba lebih banyak kombinasi parameter-parameter untuk model improvement"
   ]
  },
  {
   "cell_type": "markdown",
   "metadata": {},
   "source": []
  }
 ],
 "metadata": {
  "interpreter": {
   "hash": "fbc768028c3e6ead51d9a200ddcb2ec858ae62844dcd1994729a8279be9b48f2"
  },
  "kernelspec": {
   "display_name": "Python 3.10.2 64-bit",
   "language": "python",
   "name": "python3"
  },
  "language_info": {
   "codemirror_mode": {
    "name": "ipython",
    "version": 3
   },
   "file_extension": ".py",
   "mimetype": "text/x-python",
   "name": "python",
   "nbconvert_exporter": "python",
   "pygments_lexer": "ipython3",
   "version": "3.10.2"
  },
  "orig_nbformat": 4
 },
 "nbformat": 4,
 "nbformat_minor": 2
}
